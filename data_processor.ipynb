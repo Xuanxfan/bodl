{
 "cells": [
  {
   "cell_type": "code",
   "execution_count": 15,
   "metadata": {},
   "outputs": [],
   "source": [
    " import pandas as pd\n",
    "import os\n",
    "import numpy as np\n",
    "from matplotlib import pyplot as plt\n",
    "from scipy.stats import norm"
   ]
  },
  {
   "cell_type": "code",
   "execution_count": 2,
   "metadata": {},
   "outputs": [],
   "source": [
    "def bs_price(S,K,sigma,r,T, year_rate = 252, option_type = \"call\"):\n",
    "    '''\n",
    "    bs 期权定价 输出为期权价格\n",
    "    输入格式：\n",
    "    S:标的价格\n",
    "    K:行权价\n",
    "    sigma:波动率\n",
    "    r:无风险利率\n",
    "    T:年华剩余期限\n",
    "    year_rate:年化系数\n",
    "    '''\n",
    "\n",
    "    T = T/year_rate\n",
    "    d1 = (np.log(S/K) + (r + pow(sigma,2)/2)*T) / (sigma*np.sqrt(T)) \n",
    "    d2 = d1 - sigma*np.sqrt(T)\n",
    "    if option_type == 'call':\n",
    "        # return S*norm.cdf(d1) - K*np.exp(-r*T)*norm.cdf(d2)\n",
    "        return np.maximum(S - K, 0) if T==0 else S*norm.cdf(d1) - K*np.exp(-r*T)*norm.cdf(d2)\n",
    "    elif option_type == 'put':\n",
    "        # return K*np.exp(-r*T)*norm.cdf(-d2) - S*norm.cdf(-d1)\n",
    "        return np.maximum(K-S,0) if T==0 else K*np.exp(-r*T)*norm.cdf(-1*d2) - S*norm.cdf(-1*d1)\n",
    "    else:\n",
    "        print(\"期权类型错误\")\n",
    "        return -1\n",
    "\n",
    "def bs_vega(S,K,sigma,r,T ,year_rate = 252):\n",
    "    '''\n",
    "    计算vega\n",
    "    '''\n",
    "    T = T/year_rate\n",
    "    d1 = (np.log(S/K) + (r + pow(sigma,2)/2)*T) / (sigma*np.sqrt(np.abs(T)) )\n",
    "    return S*norm.pdf(d1)*np.sqrt(np.abs(T))\n",
    "    # return S * np.sqrt(abs(T)) * np.exp(-pow(d1,2)/2) / np.sqrt(2*np.pi)\n",
    "\n",
    "def iv_bs_bisection(S, K, r, T, price, option_type, iv_uplimit = 1.0, iv_downlimit = 0.01, precision = 3, year_rate = 365, max_iterations = 200):\n",
    "    '''二分法求iv'''\n",
    "    left_iv, right_iv = iv_downlimit, iv_uplimit\n",
    "    # left_price = BS_price(S,K,left_iv, r, T,  year_rate = year_rate, option_type = option_type)\n",
    "    # right_price= BS_price(S,K,right_iv, r, T,  year_rate = year_rate, option_type = option_type)\n",
    "    mid_iv = (left_iv + right_iv)/2\n",
    "    mid_price = bs_price(S,K,mid_iv, r, T,  year_rate = year_rate, option_type = option_type)\n",
    "    # print(f\"first, the mid price is {mid_price}, the price is {price}\")\n",
    "    cnt = 0\n",
    "    while abs(price - mid_price) >= 0.1**precision and cnt < max_iterations:\n",
    "        if mid_price < price :\n",
    "            left_iv = mid_iv\n",
    "        else:\n",
    "            right_iv = mid_iv\n",
    "        mid_iv = (left_iv + right_iv)/2\n",
    "        # if mid_iv < iv_uplimit or mid_iv > iv_downlimit:\n",
    "        #     break\n",
    "        # print(f\"cnt = {cnt}, the left is{left_iv}, the right is{right_iv}, the mid is {mid_iv}\")\n",
    "        cnt += 1\n",
    "        mid_price = bs_price(S,K,mid_iv, r, T,  year_rate = year_rate, option_type = option_type)\n",
    "    return mid_iv\n",
    "\n",
    "def find_vol_newton( S, K, r, T, target_value, option_type, start_sigma = 0.5, precision = 3, year_rate = 252, max_iterations = 200):\n",
    "    '''迭代法求iv'''\n",
    "    sigma = start_sigma\n",
    "    for i in range(0, max_iterations):\n",
    "        bs_price_ = bs_price(S,K,sigma,r,T, year_rate = year_rate, option_type = option_type)\n",
    "        vega = bs_vega(S, K, T, r, sigma, year_rate = year_rate)*100\n",
    "        diff = target_value - bs_price_  # our root\n",
    "        if (abs(diff) < 0.1**precision):\n",
    "            return sigma\n",
    "        sigma = sigma + diff/(vega) # f(x) / f'(x)\n",
    "    return sigma # value wasn't found, return best guess so far\n",
    "\n",
    "def change(type_name):\n",
    "    if type_name == 1:\n",
    "        return \"call\"\n",
    "    elif type_name == 0:\n",
    "        return \"put\"\n",
    "    else:\n",
    "        return \"wrong_type\""
   ]
  },
  {
   "cell_type": "code",
   "execution_count": null,
   "outputs": [],
   "source": [
    "# 新的计算方式\n",
    "\n",
    "def implied_volatility(S, K, T, r, C):\n",
    "    # S is the current stock price\n",
    "    # K is the strike price\n",
    "    # T is the time to maturity\n",
    "    # r is the risk-free rate\n",
    "    # C is the option price\n",
    "    # Initialize the implied volatility\n",
    "    implied_vol = 0.2\n",
    "    # Set the tolerance\n",
    "    tol = 0.00001\n",
    "    # Set the maximum number of iterations\n",
    "    max_iter = 100\n",
    "    # Set the initial difference between the option price and the Black-Scholes price\n",
    "    diff = 1.0\n",
    "    # Set the iteration counter\n",
    "    iter = 0\n",
    "    # Start the loop\n",
    "    while (diff > tol) and (iter < max_iter):\n",
    "        # Calculate the Black-Scholes price\n",
    "        d1 = (np.log(S/K) + (r + 0.5*implied_vol**2)*T) / (implied_vol*np.sqrt(T))\n",
    "        d2 = d1 - implied_vol*np.sqrt(T)\n",
    "        bs_price = S*norm.cdf(d1) - K*np.exp(-r*T)*norm.cdf(d2)\n",
    "        # Calculate the difference between the option price and the Black-Scholes price\n",
    "        diff = np.abs(C - bs_price)\n",
    "        # Calculate the implied volatility\n",
    "        implied_vol = implied_vol + 0.1*diff\n",
    "        # Increment the iteration counter\n",
    "        iter = iter + 1\n",
    "    # Return the implied volatility\n",
    "    return implied_vol"
   ],
   "metadata": {
    "collapsed": false,
    "pycharm": {
     "name": "#%%\n"
    }
   }
  },
  {
   "cell_type": "code",
   "execution_count": null,
   "outputs": [],
   "source": [
    "import scipy.optimize as opt\n",
    "def implied_volatility(price, S, K, T, r):\n",
    "    def f(sigma):\n",
    "        d1 = (np.log(S/K) + (r + 0.5 * sigma ** 2) * T) / (sigma * np.sqrt(T))\n",
    "        d2 = (np.log(S/K) + (r - 0.5 * sigma ** 2) * T) / (sigma * np.sqrt(T))\n",
    "        return (price - S * norm.cdf(d1) - K * np.exp(-r * T) * norm.cdf(d2)) ** 2\n",
    "    opt_result = opt.minimize(f, 0.2, method='Nelder-Mead')\n",
    "    return opt_result.x[0]"
   ],
   "metadata": {
    "collapsed": false,
    "pycharm": {
     "name": "#%%\n"
    }
   }
  },
  {
   "cell_type": "code",
   "execution_count": 45,
   "metadata": {},
   "outputs": [
    {
     "data": {
      "text/plain": [
       "0.6083398558139801"
      ]
     },
     "execution_count": 45,
     "metadata": {},
     "output_type": "execute_result"
    }
   ],
   "source": [
    "iv_bs_bisection(3.32, 3.4, 0.018,73, 0.33, 'call')"
   ]
  },
  {
   "cell_type": "code",
   "execution_count": 46,
   "metadata": {},
   "outputs": [
    {
     "data": {
      "text/plain": [
       "0.6083396961968708"
      ]
     },
     "execution_count": 46,
     "metadata": {},
     "output_type": "execute_result"
    }
   ],
   "source": [
    "find_vol_newton(3.32, 3.4, 0.018,73, 0.33, 'call')"
   ]
  },
  {
   "cell_type": "code",
   "execution_count": 5,
   "metadata": {},
   "outputs": [
    {
     "data": {
      "text/plain": "     date  ptmtradeday  exe_price    open    high     low  close call_or_put\n0     非数字           45     4027.2  0.1364  0.1134  0.1225   1323         put\n1  0.1225           44     4209.8  0.1430  0.1167  0.1367    635         put\n2  0.1367           43     4219.0  0.1451  0.1280  0.1363   1063         put\n3  0.1363           42     4197.8  0.1372  0.1200  0.1323    873         put\n4  0.1323           41     4149.0  0.1550  0.1257  0.1281   2851         put",
      "text/html": "<div>\n<style>\n    .dataframe thead tr:only-child th {\n        text-align: right;\n    }\n\n    .dataframe thead th {\n        text-align: left;\n    }\n\n    .dataframe tbody tr th {\n        vertical-align: top;\n    }\n</style>\n<table border=\"1\" class=\"dataframe\">\n  <thead>\n    <tr style=\"text-align: right;\">\n      <th></th>\n      <th>date</th>\n      <th>ptmtradeday</th>\n      <th>exe_price</th>\n      <th>open</th>\n      <th>high</th>\n      <th>low</th>\n      <th>close</th>\n      <th>call_or_put</th>\n    </tr>\n  </thead>\n  <tbody>\n    <tr>\n      <th>0</th>\n      <td>非数字</td>\n      <td>45</td>\n      <td>4027.2</td>\n      <td>0.1364</td>\n      <td>0.1134</td>\n      <td>0.1225</td>\n      <td>1323</td>\n      <td>put</td>\n    </tr>\n    <tr>\n      <th>1</th>\n      <td>0.1225</td>\n      <td>44</td>\n      <td>4209.8</td>\n      <td>0.1430</td>\n      <td>0.1167</td>\n      <td>0.1367</td>\n      <td>635</td>\n      <td>put</td>\n    </tr>\n    <tr>\n      <th>2</th>\n      <td>0.1367</td>\n      <td>43</td>\n      <td>4219.0</td>\n      <td>0.1451</td>\n      <td>0.1280</td>\n      <td>0.1363</td>\n      <td>1063</td>\n      <td>put</td>\n    </tr>\n    <tr>\n      <th>3</th>\n      <td>0.1363</td>\n      <td>42</td>\n      <td>4197.8</td>\n      <td>0.1372</td>\n      <td>0.1200</td>\n      <td>0.1323</td>\n      <td>873</td>\n      <td>put</td>\n    </tr>\n    <tr>\n      <th>4</th>\n      <td>0.1323</td>\n      <td>41</td>\n      <td>4149.0</td>\n      <td>0.1550</td>\n      <td>0.1257</td>\n      <td>0.1281</td>\n      <td>2851</td>\n      <td>put</td>\n    </tr>\n  </tbody>\n</table>\n</div>"
     },
     "execution_count": 5,
     "metadata": {},
     "output_type": "execute_result"
    }
   ],
   "source": [
    "'''测试，数据清洗'''\n",
    "csv_name = 'data/50etf_option_data_csv_cleaned/10000003.csv'\n",
    "csv_out = 'data/out/10000001.csv'\n",
    "\n",
    "count = 0\n",
    "callcount = 0\n",
    "putcount = 0\n",
    "\n",
    "data = pd.read_csv(csv_name, encoding = 'utf-8', index_col= False)\n",
    "\n",
    "data.columns = ['date'] + data.columns[2:].tolist() + ['haha']\n",
    "data.drop('date', axis = 1, inplace=True)\n",
    "data['call_or_put'] = data['call_or_put'].apply(change)\n",
    "data = data[['date','ptmtradeday','exe_price', 'open', 'high','low','close', 'call_or_put']]\n",
    "data.head()"
   ]
  },
  {
   "cell_type": "code",
   "execution_count": 4,
   "outputs": [
    {
     "data": {
      "text/plain": "Index(['Date', 'pre_close', 'open', 'high', 'low', 'close', 'volume', 'amt',\n       'dealnum', 'chg', 'pct_chg', 'swing', 'turn'],\n      dtype='object')"
     },
     "execution_count": 4,
     "metadata": {},
     "output_type": "execute_result"
    }
   ],
   "source": [
    "tf50 = pd.read_excel(r'.\\data\\50etf_df.xlsx')\n",
    "tf50.columns"
   ],
   "metadata": {
    "collapsed": false,
    "pycharm": {
     "name": "#%%\n"
    }
   }
  },
  {
   "cell_type": "code",
   "execution_count": 5,
   "outputs": [
    {
     "data": {
      "text/plain": "Index(['Unnamed: 0', 'date', 'pre_close', 'open', 'high', 'low', 'close',\n       'volume', 'amt', 'ptmtradeday', 'ptmday', 'delta', 'gamma', 'vega',\n       'theta', 'rho', 'us_impliedvol', 'exe_price', 'maint_margin',\n       'exe_ratio', 'wind_code', 'trade_coe', 'sec_name', 'option_mark_code',\n       'option_type', 'call_or_put', 'exercise_mode', 'exercise_price',\n       'contract_unit', 'limit_month', 'listed_date', 'expire_date',\n       'exercise_date', 'settlement_date', 'reference_price', 'settle_mode',\n       'contract_state'],\n      dtype='object')"
     },
     "execution_count": 5,
     "metadata": {},
     "output_type": "execute_result"
    }
   ],
   "source": [
    "data.columns"
   ],
   "metadata": {
    "collapsed": false,
    "pycharm": {
     "name": "#%%\n"
    }
   }
  },
  {
   "cell_type": "code",
   "execution_count": 5,
   "outputs": [
    {
     "data": {
      "text/plain": "        date  ptmtradeday  exe_price    open    high     low   close  \\\n0 2015-02-09           28        2.2  0.1820  0.2029  0.1699  0.1826   \n1 2015-02-10           27        2.2  0.1856  0.2144  0.1800  0.2072   \n2 2015-02-11           26        2.2  0.2083  0.2195  0.2028  0.2107   \n3 2015-02-12           25        2.2  0.2141  0.2143  0.1915  0.2109   \n4 2015-02-13           24        2.2  0.2130  0.2459  0.2090  0.2090   \n\n   call_or_put  \n0            1  \n1            1  \n2            1  \n3            1  \n4            1  ",
      "text/html": "<div>\n<style>\n    .dataframe thead tr:only-child th {\n        text-align: right;\n    }\n\n    .dataframe thead th {\n        text-align: left;\n    }\n\n    .dataframe tbody tr th {\n        vertical-align: top;\n    }\n</style>\n<table border=\"1\" class=\"dataframe\">\n  <thead>\n    <tr style=\"text-align: right;\">\n      <th></th>\n      <th>date</th>\n      <th>ptmtradeday</th>\n      <th>exe_price</th>\n      <th>open</th>\n      <th>high</th>\n      <th>low</th>\n      <th>close</th>\n      <th>call_or_put</th>\n    </tr>\n  </thead>\n  <tbody>\n    <tr>\n      <th>0</th>\n      <td>2015-02-09</td>\n      <td>28</td>\n      <td>2.2</td>\n      <td>0.1820</td>\n      <td>0.2029</td>\n      <td>0.1699</td>\n      <td>0.1826</td>\n      <td>1</td>\n    </tr>\n    <tr>\n      <th>1</th>\n      <td>2015-02-10</td>\n      <td>27</td>\n      <td>2.2</td>\n      <td>0.1856</td>\n      <td>0.2144</td>\n      <td>0.1800</td>\n      <td>0.2072</td>\n      <td>1</td>\n    </tr>\n    <tr>\n      <th>2</th>\n      <td>2015-02-11</td>\n      <td>26</td>\n      <td>2.2</td>\n      <td>0.2083</td>\n      <td>0.2195</td>\n      <td>0.2028</td>\n      <td>0.2107</td>\n      <td>1</td>\n    </tr>\n    <tr>\n      <th>3</th>\n      <td>2015-02-12</td>\n      <td>25</td>\n      <td>2.2</td>\n      <td>0.2141</td>\n      <td>0.2143</td>\n      <td>0.1915</td>\n      <td>0.2109</td>\n      <td>1</td>\n    </tr>\n    <tr>\n      <th>4</th>\n      <td>2015-02-13</td>\n      <td>24</td>\n      <td>2.2</td>\n      <td>0.2130</td>\n      <td>0.2459</td>\n      <td>0.2090</td>\n      <td>0.2090</td>\n      <td>1</td>\n    </tr>\n  </tbody>\n</table>\n</div>"
     },
     "execution_count": 5,
     "metadata": {},
     "output_type": "execute_result"
    }
   ],
   "source": [
    "data[\"date\"] = pd.to_datetime(data[\"date\"])\n",
    "data = data[['date','ptmtradeday','exe_price', 'open', 'high','low','close', 'call_or_put']]\n",
    "data.head()"
   ],
   "metadata": {
    "collapsed": false,
    "pycharm": {
     "name": "#%%\n"
    }
   }
  },
  {
   "cell_type": "code",
   "execution_count": 6,
   "outputs": [
    {
     "name": "stderr",
     "output_type": "stream",
     "text": [
      "C:\\fun\\annaconda\\envs\\tensorflow\\lib\\site-packages\\ipykernel_launcher.py:2: SettingWithCopyWarning: \n",
      "A value is trying to be set on a copy of a slice from a DataFrame.\n",
      "Try using .loc[row_indexer,col_indexer] = value instead\n",
      "\n",
      "See the caveats in the documentation: http://pandas.pydata.org/pandas-docs/stable/indexing.html#indexing-view-versus-copy\n",
      "  \n"
     ]
    },
    {
     "data": {
      "text/plain": "        date  ptmtradeday  exe_price    open    high     low   close  \\\n0 2015-02-09           28        2.2  0.1820  0.2029  0.1699  0.1826   \n1 2015-02-10           27        2.2  0.1856  0.2144  0.1800  0.2072   \n2 2015-02-11           26        2.2  0.2083  0.2195  0.2028  0.2107   \n3 2015-02-12           25        2.2  0.2141  0.2143  0.1915  0.2109   \n4 2015-02-13           24        2.2  0.2130  0.2459  0.2090  0.2090   \n\n  call_or_put  \n0        call  \n1        call  \n2        call  \n3        call  \n4        call  ",
      "text/html": "<div>\n<style>\n    .dataframe thead tr:only-child th {\n        text-align: right;\n    }\n\n    .dataframe thead th {\n        text-align: left;\n    }\n\n    .dataframe tbody tr th {\n        vertical-align: top;\n    }\n</style>\n<table border=\"1\" class=\"dataframe\">\n  <thead>\n    <tr style=\"text-align: right;\">\n      <th></th>\n      <th>date</th>\n      <th>ptmtradeday</th>\n      <th>exe_price</th>\n      <th>open</th>\n      <th>high</th>\n      <th>low</th>\n      <th>close</th>\n      <th>call_or_put</th>\n    </tr>\n  </thead>\n  <tbody>\n    <tr>\n      <th>0</th>\n      <td>2015-02-09</td>\n      <td>28</td>\n      <td>2.2</td>\n      <td>0.1820</td>\n      <td>0.2029</td>\n      <td>0.1699</td>\n      <td>0.1826</td>\n      <td>call</td>\n    </tr>\n    <tr>\n      <th>1</th>\n      <td>2015-02-10</td>\n      <td>27</td>\n      <td>2.2</td>\n      <td>0.1856</td>\n      <td>0.2144</td>\n      <td>0.1800</td>\n      <td>0.2072</td>\n      <td>call</td>\n    </tr>\n    <tr>\n      <th>2</th>\n      <td>2015-02-11</td>\n      <td>26</td>\n      <td>2.2</td>\n      <td>0.2083</td>\n      <td>0.2195</td>\n      <td>0.2028</td>\n      <td>0.2107</td>\n      <td>call</td>\n    </tr>\n    <tr>\n      <th>3</th>\n      <td>2015-02-12</td>\n      <td>25</td>\n      <td>2.2</td>\n      <td>0.2141</td>\n      <td>0.2143</td>\n      <td>0.1915</td>\n      <td>0.2109</td>\n      <td>call</td>\n    </tr>\n    <tr>\n      <th>4</th>\n      <td>2015-02-13</td>\n      <td>24</td>\n      <td>2.2</td>\n      <td>0.2130</td>\n      <td>0.2459</td>\n      <td>0.2090</td>\n      <td>0.2090</td>\n      <td>call</td>\n    </tr>\n  </tbody>\n</table>\n</div>"
     },
     "execution_count": 6,
     "metadata": {},
     "output_type": "execute_result"
    }
   ],
   "source": [
    "data['call_or_put'] = data['call_or_put'].apply(change)\n",
    "data.head()\n"
   ],
   "metadata": {
    "collapsed": false,
    "pycharm": {
     "name": "#%%\n"
    }
   }
  },
  {
   "cell_type": "code",
   "execution_count": 7,
   "outputs": [
    {
     "data": {
      "text/plain": "        date     Value\n0 2012-10-08  0.035896\n1 2012-10-09  0.035942\n2 2012-10-10  0.036249\n3 2012-10-11  0.036252\n4 2012-10-12  0.036240",
      "text/html": "<div>\n<style>\n    .dataframe thead tr:only-child th {\n        text-align: right;\n    }\n\n    .dataframe thead th {\n        text-align: left;\n    }\n\n    .dataframe tbody tr th {\n        vertical-align: top;\n    }\n</style>\n<table border=\"1\" class=\"dataframe\">\n  <thead>\n    <tr style=\"text-align: right;\">\n      <th></th>\n      <th>date</th>\n      <th>Value</th>\n    </tr>\n  </thead>\n  <tbody>\n    <tr>\n      <th>0</th>\n      <td>2012-10-08</td>\n      <td>0.035896</td>\n    </tr>\n    <tr>\n      <th>1</th>\n      <td>2012-10-09</td>\n      <td>0.035942</td>\n    </tr>\n    <tr>\n      <th>2</th>\n      <td>2012-10-10</td>\n      <td>0.036249</td>\n    </tr>\n    <tr>\n      <th>3</th>\n      <td>2012-10-11</td>\n      <td>0.036252</td>\n    </tr>\n    <tr>\n      <th>4</th>\n      <td>2012-10-12</td>\n      <td>0.036240</td>\n    </tr>\n  </tbody>\n</table>\n</div>"
     },
     "execution_count": 7,
     "metadata": {},
     "output_type": "execute_result"
    }
   ],
   "source": [
    "rate = pd.read_excel(r\".\\data\\unrisked_rate.xlsx\")\n",
    "rate['date'] = pd.to_datetime(rate['date'])\n",
    "rate['Value'] = rate['Value']/100\n",
    "rate.head()"
   ],
   "metadata": {
    "collapsed": false,
    "pycharm": {
     "name": "#%%\n"
    }
   }
  },
  {
   "cell_type": "code",
   "execution_count": 4,
   "outputs": [
    {
     "data": {
      "text/plain": "(2517, 2)"
     },
     "execution_count": 4,
     "metadata": {},
     "output_type": "execute_result"
    }
   ],
   "source": [
    "rate.shape"
   ],
   "metadata": {
    "collapsed": false,
    "pycharm": {
     "name": "#%%\n"
    }
   }
  },
  {
   "cell_type": "code",
   "execution_count": 8,
   "outputs": [
    {
     "data": {
      "text/plain": "        Date  close\n0 2005-02-23  0.876\n1 2005-02-24  0.876\n2 2005-02-25  0.880\n3 2005-02-28  0.872\n4 2005-03-01  0.867",
      "text/html": "<div>\n<style>\n    .dataframe thead tr:only-child th {\n        text-align: right;\n    }\n\n    .dataframe thead th {\n        text-align: left;\n    }\n\n    .dataframe tbody tr th {\n        vertical-align: top;\n    }\n</style>\n<table border=\"1\" class=\"dataframe\">\n  <thead>\n    <tr style=\"text-align: right;\">\n      <th></th>\n      <th>Date</th>\n      <th>close</th>\n    </tr>\n  </thead>\n  <tbody>\n    <tr>\n      <th>0</th>\n      <td>2005-02-23</td>\n      <td>0.876</td>\n    </tr>\n    <tr>\n      <th>1</th>\n      <td>2005-02-24</td>\n      <td>0.876</td>\n    </tr>\n    <tr>\n      <th>2</th>\n      <td>2005-02-25</td>\n      <td>0.880</td>\n    </tr>\n    <tr>\n      <th>3</th>\n      <td>2005-02-28</td>\n      <td>0.872</td>\n    </tr>\n    <tr>\n      <th>4</th>\n      <td>2005-03-01</td>\n      <td>0.867</td>\n    </tr>\n  </tbody>\n</table>\n</div>"
     },
     "execution_count": 8,
     "metadata": {},
     "output_type": "execute_result"
    }
   ],
   "source": [
    "etf50 = pd.read_excel(r'.\\data\\50etf_df.xlsx')\n",
    "etf50 = etf50[['Date','close']]\n",
    "etf50['Date'] = pd.to_datetime(etf50['Date'])\n",
    "etf50.head()"
   ],
   "metadata": {
    "collapsed": false,
    "pycharm": {
     "name": "#%%\n"
    }
   }
  },
  {
   "cell_type": "code",
   "execution_count": 6,
   "outputs": [
    {
     "data": {
      "text/plain": "(4305, 2)"
     },
     "execution_count": 6,
     "metadata": {},
     "output_type": "execute_result"
    }
   ],
   "source": [
    "etf50.shape"
   ],
   "metadata": {
    "collapsed": false,
    "pycharm": {
     "name": "#%%\n"
    }
   }
  },
  {
   "cell_type": "code",
   "execution_count": 10,
   "outputs": [
    {
     "data": {
      "text/plain": "         date     Value  ptmtradeday  exe_price    open    high     low  \\\n0  2015-02-09  0.045769           28        2.2  0.1820  0.2029  0.1699   \n1  2015-02-10  0.045696           27        2.2  0.1856  0.2144  0.1800   \n2  2015-02-11  0.045715           26        2.2  0.2083  0.2195  0.2028   \n3  2015-02-12  0.045540           25        2.2  0.2141  0.2143  0.1915   \n4  2015-02-13  0.045669           24        2.2  0.2130  0.2459  0.2090   \n5  2015-02-16  0.045716           23        2.2  0.2111  0.2219  0.2066   \n6  2015-02-17  0.045626           22        2.2  0.2226  0.2408  0.2226   \n7  2015-02-25  0.045924           21        2.2  0.2235  0.2250  0.1816   \n8  2015-02-26  0.046345           20        2.2  0.1900  0.2530  0.1730   \n9  2015-02-27  0.046482           19        2.2  0.2534  0.2739  0.2431   \n10 2015-03-02  0.046612           18        2.2  0.2587  0.2717  0.2425   \n11 2015-03-03  0.046759           17        2.2  0.2430  0.2430  0.1790   \n12 2015-03-04  0.046664           16        2.2  0.1844  0.1978  0.1672   \n13 2015-03-05  0.046857           15        2.2  0.1700  0.2245  0.1360   \n14 2015-03-06  0.047095           14        2.2  0.1568  0.1705  0.1520   \n15 2015-03-09  0.047596           13        2.2  0.1466  0.2098  0.1154   \n16 2015-03-10  0.047313           12        2.2  0.1966  0.1966  0.1668   \n17 2015-03-11  0.047009           11        2.2  0.1746  0.2105  0.1697   \n18 2015-03-12  0.047020           10        2.2  0.1870  0.2696  0.1870   \n19 2015-03-13  0.046982            9        2.2  0.2559  0.2949  0.2432   \n20 2015-03-16  0.047459            8        2.2  0.2685  0.3099  0.2549   \n21 2015-03-17  0.047672            7        2.2  0.3264  0.3417  0.3172   \n22 2015-03-18  0.047207            6        2.2  0.3467  0.4044  0.3467   \n23 2015-03-19  0.047304            5        2.2  0.3983  0.4050  0.3762   \n24 2015-03-20  0.046605            4        2.2  0.4053  0.4679  0.3811   \n25 2015-03-23  0.046715            3        2.2  0.4450  0.4798  0.4450   \n26 2015-03-24  0.046692            2        2.2  0.4861  0.4861  0.4133   \n27 2015-03-25  0.046926            1        2.2  0.4380  0.4380  0.3884   \n\n     close call_or_put  \n0   0.1826        call  \n1   0.2072        call  \n2   0.2107        call  \n3   0.2109        call  \n4   0.2090        call  \n5   0.2172        call  \n6   0.2296        call  \n7   0.1885        call  \n8   0.2530        call  \n9   0.2488        call  \n10  0.2504        call  \n11  0.1790        call  \n12  0.1740        call  \n13  0.1502        call  \n14  0.1533        call  \n15  0.1974        call  \n16  0.1688        call  \n17  0.1774        call  \n18  0.2525        call  \n19  0.2570        call  \n20  0.3075        call  \n21  0.3385        call  \n22  0.4044        call  \n23  0.3902        call  \n24  0.4290        call  \n25  0.4742        call  \n26  0.4415        call  \n27  0.4007        call  ",
      "text/html": "<div>\n<style>\n    .dataframe thead tr:only-child th {\n        text-align: right;\n    }\n\n    .dataframe thead th {\n        text-align: left;\n    }\n\n    .dataframe tbody tr th {\n        vertical-align: top;\n    }\n</style>\n<table border=\"1\" class=\"dataframe\">\n  <thead>\n    <tr style=\"text-align: right;\">\n      <th></th>\n      <th>date</th>\n      <th>Value</th>\n      <th>ptmtradeday</th>\n      <th>exe_price</th>\n      <th>open</th>\n      <th>high</th>\n      <th>low</th>\n      <th>close</th>\n      <th>call_or_put</th>\n    </tr>\n  </thead>\n  <tbody>\n    <tr>\n      <th>0</th>\n      <td>2015-02-09</td>\n      <td>0.045769</td>\n      <td>28</td>\n      <td>2.2</td>\n      <td>0.1820</td>\n      <td>0.2029</td>\n      <td>0.1699</td>\n      <td>0.1826</td>\n      <td>call</td>\n    </tr>\n    <tr>\n      <th>1</th>\n      <td>2015-02-10</td>\n      <td>0.045696</td>\n      <td>27</td>\n      <td>2.2</td>\n      <td>0.1856</td>\n      <td>0.2144</td>\n      <td>0.1800</td>\n      <td>0.2072</td>\n      <td>call</td>\n    </tr>\n    <tr>\n      <th>2</th>\n      <td>2015-02-11</td>\n      <td>0.045715</td>\n      <td>26</td>\n      <td>2.2</td>\n      <td>0.2083</td>\n      <td>0.2195</td>\n      <td>0.2028</td>\n      <td>0.2107</td>\n      <td>call</td>\n    </tr>\n    <tr>\n      <th>3</th>\n      <td>2015-02-12</td>\n      <td>0.045540</td>\n      <td>25</td>\n      <td>2.2</td>\n      <td>0.2141</td>\n      <td>0.2143</td>\n      <td>0.1915</td>\n      <td>0.2109</td>\n      <td>call</td>\n    </tr>\n    <tr>\n      <th>4</th>\n      <td>2015-02-13</td>\n      <td>0.045669</td>\n      <td>24</td>\n      <td>2.2</td>\n      <td>0.2130</td>\n      <td>0.2459</td>\n      <td>0.2090</td>\n      <td>0.2090</td>\n      <td>call</td>\n    </tr>\n    <tr>\n      <th>5</th>\n      <td>2015-02-16</td>\n      <td>0.045716</td>\n      <td>23</td>\n      <td>2.2</td>\n      <td>0.2111</td>\n      <td>0.2219</td>\n      <td>0.2066</td>\n      <td>0.2172</td>\n      <td>call</td>\n    </tr>\n    <tr>\n      <th>6</th>\n      <td>2015-02-17</td>\n      <td>0.045626</td>\n      <td>22</td>\n      <td>2.2</td>\n      <td>0.2226</td>\n      <td>0.2408</td>\n      <td>0.2226</td>\n      <td>0.2296</td>\n      <td>call</td>\n    </tr>\n    <tr>\n      <th>7</th>\n      <td>2015-02-25</td>\n      <td>0.045924</td>\n      <td>21</td>\n      <td>2.2</td>\n      <td>0.2235</td>\n      <td>0.2250</td>\n      <td>0.1816</td>\n      <td>0.1885</td>\n      <td>call</td>\n    </tr>\n    <tr>\n      <th>8</th>\n      <td>2015-02-26</td>\n      <td>0.046345</td>\n      <td>20</td>\n      <td>2.2</td>\n      <td>0.1900</td>\n      <td>0.2530</td>\n      <td>0.1730</td>\n      <td>0.2530</td>\n      <td>call</td>\n    </tr>\n    <tr>\n      <th>9</th>\n      <td>2015-02-27</td>\n      <td>0.046482</td>\n      <td>19</td>\n      <td>2.2</td>\n      <td>0.2534</td>\n      <td>0.2739</td>\n      <td>0.2431</td>\n      <td>0.2488</td>\n      <td>call</td>\n    </tr>\n    <tr>\n      <th>10</th>\n      <td>2015-03-02</td>\n      <td>0.046612</td>\n      <td>18</td>\n      <td>2.2</td>\n      <td>0.2587</td>\n      <td>0.2717</td>\n      <td>0.2425</td>\n      <td>0.2504</td>\n      <td>call</td>\n    </tr>\n    <tr>\n      <th>11</th>\n      <td>2015-03-03</td>\n      <td>0.046759</td>\n      <td>17</td>\n      <td>2.2</td>\n      <td>0.2430</td>\n      <td>0.2430</td>\n      <td>0.1790</td>\n      <td>0.1790</td>\n      <td>call</td>\n    </tr>\n    <tr>\n      <th>12</th>\n      <td>2015-03-04</td>\n      <td>0.046664</td>\n      <td>16</td>\n      <td>2.2</td>\n      <td>0.1844</td>\n      <td>0.1978</td>\n      <td>0.1672</td>\n      <td>0.1740</td>\n      <td>call</td>\n    </tr>\n    <tr>\n      <th>13</th>\n      <td>2015-03-05</td>\n      <td>0.046857</td>\n      <td>15</td>\n      <td>2.2</td>\n      <td>0.1700</td>\n      <td>0.2245</td>\n      <td>0.1360</td>\n      <td>0.1502</td>\n      <td>call</td>\n    </tr>\n    <tr>\n      <th>14</th>\n      <td>2015-03-06</td>\n      <td>0.047095</td>\n      <td>14</td>\n      <td>2.2</td>\n      <td>0.1568</td>\n      <td>0.1705</td>\n      <td>0.1520</td>\n      <td>0.1533</td>\n      <td>call</td>\n    </tr>\n    <tr>\n      <th>15</th>\n      <td>2015-03-09</td>\n      <td>0.047596</td>\n      <td>13</td>\n      <td>2.2</td>\n      <td>0.1466</td>\n      <td>0.2098</td>\n      <td>0.1154</td>\n      <td>0.1974</td>\n      <td>call</td>\n    </tr>\n    <tr>\n      <th>16</th>\n      <td>2015-03-10</td>\n      <td>0.047313</td>\n      <td>12</td>\n      <td>2.2</td>\n      <td>0.1966</td>\n      <td>0.1966</td>\n      <td>0.1668</td>\n      <td>0.1688</td>\n      <td>call</td>\n    </tr>\n    <tr>\n      <th>17</th>\n      <td>2015-03-11</td>\n      <td>0.047009</td>\n      <td>11</td>\n      <td>2.2</td>\n      <td>0.1746</td>\n      <td>0.2105</td>\n      <td>0.1697</td>\n      <td>0.1774</td>\n      <td>call</td>\n    </tr>\n    <tr>\n      <th>18</th>\n      <td>2015-03-12</td>\n      <td>0.047020</td>\n      <td>10</td>\n      <td>2.2</td>\n      <td>0.1870</td>\n      <td>0.2696</td>\n      <td>0.1870</td>\n      <td>0.2525</td>\n      <td>call</td>\n    </tr>\n    <tr>\n      <th>19</th>\n      <td>2015-03-13</td>\n      <td>0.046982</td>\n      <td>9</td>\n      <td>2.2</td>\n      <td>0.2559</td>\n      <td>0.2949</td>\n      <td>0.2432</td>\n      <td>0.2570</td>\n      <td>call</td>\n    </tr>\n    <tr>\n      <th>20</th>\n      <td>2015-03-16</td>\n      <td>0.047459</td>\n      <td>8</td>\n      <td>2.2</td>\n      <td>0.2685</td>\n      <td>0.3099</td>\n      <td>0.2549</td>\n      <td>0.3075</td>\n      <td>call</td>\n    </tr>\n    <tr>\n      <th>21</th>\n      <td>2015-03-17</td>\n      <td>0.047672</td>\n      <td>7</td>\n      <td>2.2</td>\n      <td>0.3264</td>\n      <td>0.3417</td>\n      <td>0.3172</td>\n      <td>0.3385</td>\n      <td>call</td>\n    </tr>\n    <tr>\n      <th>22</th>\n      <td>2015-03-18</td>\n      <td>0.047207</td>\n      <td>6</td>\n      <td>2.2</td>\n      <td>0.3467</td>\n      <td>0.4044</td>\n      <td>0.3467</td>\n      <td>0.4044</td>\n      <td>call</td>\n    </tr>\n    <tr>\n      <th>23</th>\n      <td>2015-03-19</td>\n      <td>0.047304</td>\n      <td>5</td>\n      <td>2.2</td>\n      <td>0.3983</td>\n      <td>0.4050</td>\n      <td>0.3762</td>\n      <td>0.3902</td>\n      <td>call</td>\n    </tr>\n    <tr>\n      <th>24</th>\n      <td>2015-03-20</td>\n      <td>0.046605</td>\n      <td>4</td>\n      <td>2.2</td>\n      <td>0.4053</td>\n      <td>0.4679</td>\n      <td>0.3811</td>\n      <td>0.4290</td>\n      <td>call</td>\n    </tr>\n    <tr>\n      <th>25</th>\n      <td>2015-03-23</td>\n      <td>0.046715</td>\n      <td>3</td>\n      <td>2.2</td>\n      <td>0.4450</td>\n      <td>0.4798</td>\n      <td>0.4450</td>\n      <td>0.4742</td>\n      <td>call</td>\n    </tr>\n    <tr>\n      <th>26</th>\n      <td>2015-03-24</td>\n      <td>0.046692</td>\n      <td>2</td>\n      <td>2.2</td>\n      <td>0.4861</td>\n      <td>0.4861</td>\n      <td>0.4133</td>\n      <td>0.4415</td>\n      <td>call</td>\n    </tr>\n    <tr>\n      <th>27</th>\n      <td>2015-03-25</td>\n      <td>0.046926</td>\n      <td>1</td>\n      <td>2.2</td>\n      <td>0.4380</td>\n      <td>0.4380</td>\n      <td>0.3884</td>\n      <td>0.4007</td>\n      <td>call</td>\n    </tr>\n  </tbody>\n</table>\n</div>"
     },
     "execution_count": 10,
     "metadata": {},
     "output_type": "execute_result"
    }
   ],
   "source": [
    "merged_option1 = pd.merge(rate, data, on = 'date', how = 'inner')\n",
    "merged_option1"
   ],
   "metadata": {
    "collapsed": false,
    "pycharm": {
     "name": "#%%\n"
    }
   }
  },
  {
   "cell_type": "code",
   "execution_count": 11,
   "outputs": [
    {
     "data": {
      "text/plain": "         Date  close_x       date     Value  ptmtradeday  exe_price    open  \\\n0  2015-02-09    2.331 2015-02-09  0.045769           28        2.2  0.1820   \n1  2015-02-10    2.369 2015-02-10  0.045696           27        2.2  0.1856   \n2  2015-02-11    2.380 2015-02-11  0.045715           26        2.2  0.2083   \n3  2015-02-12    2.384 2015-02-12  0.045540           25        2.2  0.2141   \n4  2015-02-13    2.390 2015-02-13  0.045669           24        2.2  0.2130   \n5  2015-02-16    2.394 2015-02-16  0.045716           23        2.2  0.2111   \n6  2015-02-17    2.411 2015-02-17  0.045626           22        2.2  0.2226   \n7  2015-02-25    2.370 2015-02-25  0.045924           21        2.2  0.2235   \n8  2015-02-26    2.450 2015-02-26  0.046345           20        2.2  0.1900   \n9  2015-02-27    2.438 2015-02-27  0.046482           19        2.2  0.2534   \n10 2015-03-02    2.441 2015-03-02  0.046612           18        2.2  0.2587   \n11 2015-03-03    2.364 2015-03-03  0.046759           17        2.2  0.2430   \n12 2015-03-04    2.362 2015-03-04  0.046664           16        2.2  0.1844   \n13 2015-03-05    2.334 2015-03-05  0.046857           15        2.2  0.1700   \n14 2015-03-06    2.339 2015-03-06  0.047095           14        2.2  0.1568   \n15 2015-03-09    2.397 2015-03-09  0.047596           13        2.2  0.1466   \n16 2015-03-10    2.359 2015-03-10  0.047313           12        2.2  0.1966   \n17 2015-03-11    2.374 2015-03-11  0.047009           11        2.2  0.1746   \n18 2015-03-12    2.448 2015-03-12  0.047020           10        2.2  0.1870   \n19 2015-03-13    2.455 2015-03-13  0.046982            9        2.2  0.2559   \n20 2015-03-16    2.510 2015-03-16  0.047459            8        2.2  0.2685   \n21 2015-03-17    2.543 2015-03-17  0.047672            7        2.2  0.3264   \n22 2015-03-18    2.611 2015-03-18  0.047207            6        2.2  0.3467   \n23 2015-03-19    2.587 2015-03-19  0.047304            5        2.2  0.3983   \n24 2015-03-20    2.635 2015-03-20  0.046605            4        2.2  0.4053   \n25 2015-03-23    2.676 2015-03-23  0.046715            3        2.2  0.4450   \n26 2015-03-24    2.638 2015-03-24  0.046692            2        2.2  0.4861   \n27 2015-03-25    2.604 2015-03-25  0.046926            1        2.2  0.4380   \n\n      high     low  close_y call_or_put  \n0   0.2029  0.1699   0.1826        call  \n1   0.2144  0.1800   0.2072        call  \n2   0.2195  0.2028   0.2107        call  \n3   0.2143  0.1915   0.2109        call  \n4   0.2459  0.2090   0.2090        call  \n5   0.2219  0.2066   0.2172        call  \n6   0.2408  0.2226   0.2296        call  \n7   0.2250  0.1816   0.1885        call  \n8   0.2530  0.1730   0.2530        call  \n9   0.2739  0.2431   0.2488        call  \n10  0.2717  0.2425   0.2504        call  \n11  0.2430  0.1790   0.1790        call  \n12  0.1978  0.1672   0.1740        call  \n13  0.2245  0.1360   0.1502        call  \n14  0.1705  0.1520   0.1533        call  \n15  0.2098  0.1154   0.1974        call  \n16  0.1966  0.1668   0.1688        call  \n17  0.2105  0.1697   0.1774        call  \n18  0.2696  0.1870   0.2525        call  \n19  0.2949  0.2432   0.2570        call  \n20  0.3099  0.2549   0.3075        call  \n21  0.3417  0.3172   0.3385        call  \n22  0.4044  0.3467   0.4044        call  \n23  0.4050  0.3762   0.3902        call  \n24  0.4679  0.3811   0.4290        call  \n25  0.4798  0.4450   0.4742        call  \n26  0.4861  0.4133   0.4415        call  \n27  0.4380  0.3884   0.4007        call  ",
      "text/html": "<div>\n<style>\n    .dataframe thead tr:only-child th {\n        text-align: right;\n    }\n\n    .dataframe thead th {\n        text-align: left;\n    }\n\n    .dataframe tbody tr th {\n        vertical-align: top;\n    }\n</style>\n<table border=\"1\" class=\"dataframe\">\n  <thead>\n    <tr style=\"text-align: right;\">\n      <th></th>\n      <th>Date</th>\n      <th>close_x</th>\n      <th>date</th>\n      <th>Value</th>\n      <th>ptmtradeday</th>\n      <th>exe_price</th>\n      <th>open</th>\n      <th>high</th>\n      <th>low</th>\n      <th>close_y</th>\n      <th>call_or_put</th>\n    </tr>\n  </thead>\n  <tbody>\n    <tr>\n      <th>0</th>\n      <td>2015-02-09</td>\n      <td>2.331</td>\n      <td>2015-02-09</td>\n      <td>0.045769</td>\n      <td>28</td>\n      <td>2.2</td>\n      <td>0.1820</td>\n      <td>0.2029</td>\n      <td>0.1699</td>\n      <td>0.1826</td>\n      <td>call</td>\n    </tr>\n    <tr>\n      <th>1</th>\n      <td>2015-02-10</td>\n      <td>2.369</td>\n      <td>2015-02-10</td>\n      <td>0.045696</td>\n      <td>27</td>\n      <td>2.2</td>\n      <td>0.1856</td>\n      <td>0.2144</td>\n      <td>0.1800</td>\n      <td>0.2072</td>\n      <td>call</td>\n    </tr>\n    <tr>\n      <th>2</th>\n      <td>2015-02-11</td>\n      <td>2.380</td>\n      <td>2015-02-11</td>\n      <td>0.045715</td>\n      <td>26</td>\n      <td>2.2</td>\n      <td>0.2083</td>\n      <td>0.2195</td>\n      <td>0.2028</td>\n      <td>0.2107</td>\n      <td>call</td>\n    </tr>\n    <tr>\n      <th>3</th>\n      <td>2015-02-12</td>\n      <td>2.384</td>\n      <td>2015-02-12</td>\n      <td>0.045540</td>\n      <td>25</td>\n      <td>2.2</td>\n      <td>0.2141</td>\n      <td>0.2143</td>\n      <td>0.1915</td>\n      <td>0.2109</td>\n      <td>call</td>\n    </tr>\n    <tr>\n      <th>4</th>\n      <td>2015-02-13</td>\n      <td>2.390</td>\n      <td>2015-02-13</td>\n      <td>0.045669</td>\n      <td>24</td>\n      <td>2.2</td>\n      <td>0.2130</td>\n      <td>0.2459</td>\n      <td>0.2090</td>\n      <td>0.2090</td>\n      <td>call</td>\n    </tr>\n    <tr>\n      <th>5</th>\n      <td>2015-02-16</td>\n      <td>2.394</td>\n      <td>2015-02-16</td>\n      <td>0.045716</td>\n      <td>23</td>\n      <td>2.2</td>\n      <td>0.2111</td>\n      <td>0.2219</td>\n      <td>0.2066</td>\n      <td>0.2172</td>\n      <td>call</td>\n    </tr>\n    <tr>\n      <th>6</th>\n      <td>2015-02-17</td>\n      <td>2.411</td>\n      <td>2015-02-17</td>\n      <td>0.045626</td>\n      <td>22</td>\n      <td>2.2</td>\n      <td>0.2226</td>\n      <td>0.2408</td>\n      <td>0.2226</td>\n      <td>0.2296</td>\n      <td>call</td>\n    </tr>\n    <tr>\n      <th>7</th>\n      <td>2015-02-25</td>\n      <td>2.370</td>\n      <td>2015-02-25</td>\n      <td>0.045924</td>\n      <td>21</td>\n      <td>2.2</td>\n      <td>0.2235</td>\n      <td>0.2250</td>\n      <td>0.1816</td>\n      <td>0.1885</td>\n      <td>call</td>\n    </tr>\n    <tr>\n      <th>8</th>\n      <td>2015-02-26</td>\n      <td>2.450</td>\n      <td>2015-02-26</td>\n      <td>0.046345</td>\n      <td>20</td>\n      <td>2.2</td>\n      <td>0.1900</td>\n      <td>0.2530</td>\n      <td>0.1730</td>\n      <td>0.2530</td>\n      <td>call</td>\n    </tr>\n    <tr>\n      <th>9</th>\n      <td>2015-02-27</td>\n      <td>2.438</td>\n      <td>2015-02-27</td>\n      <td>0.046482</td>\n      <td>19</td>\n      <td>2.2</td>\n      <td>0.2534</td>\n      <td>0.2739</td>\n      <td>0.2431</td>\n      <td>0.2488</td>\n      <td>call</td>\n    </tr>\n    <tr>\n      <th>10</th>\n      <td>2015-03-02</td>\n      <td>2.441</td>\n      <td>2015-03-02</td>\n      <td>0.046612</td>\n      <td>18</td>\n      <td>2.2</td>\n      <td>0.2587</td>\n      <td>0.2717</td>\n      <td>0.2425</td>\n      <td>0.2504</td>\n      <td>call</td>\n    </tr>\n    <tr>\n      <th>11</th>\n      <td>2015-03-03</td>\n      <td>2.364</td>\n      <td>2015-03-03</td>\n      <td>0.046759</td>\n      <td>17</td>\n      <td>2.2</td>\n      <td>0.2430</td>\n      <td>0.2430</td>\n      <td>0.1790</td>\n      <td>0.1790</td>\n      <td>call</td>\n    </tr>\n    <tr>\n      <th>12</th>\n      <td>2015-03-04</td>\n      <td>2.362</td>\n      <td>2015-03-04</td>\n      <td>0.046664</td>\n      <td>16</td>\n      <td>2.2</td>\n      <td>0.1844</td>\n      <td>0.1978</td>\n      <td>0.1672</td>\n      <td>0.1740</td>\n      <td>call</td>\n    </tr>\n    <tr>\n      <th>13</th>\n      <td>2015-03-05</td>\n      <td>2.334</td>\n      <td>2015-03-05</td>\n      <td>0.046857</td>\n      <td>15</td>\n      <td>2.2</td>\n      <td>0.1700</td>\n      <td>0.2245</td>\n      <td>0.1360</td>\n      <td>0.1502</td>\n      <td>call</td>\n    </tr>\n    <tr>\n      <th>14</th>\n      <td>2015-03-06</td>\n      <td>2.339</td>\n      <td>2015-03-06</td>\n      <td>0.047095</td>\n      <td>14</td>\n      <td>2.2</td>\n      <td>0.1568</td>\n      <td>0.1705</td>\n      <td>0.1520</td>\n      <td>0.1533</td>\n      <td>call</td>\n    </tr>\n    <tr>\n      <th>15</th>\n      <td>2015-03-09</td>\n      <td>2.397</td>\n      <td>2015-03-09</td>\n      <td>0.047596</td>\n      <td>13</td>\n      <td>2.2</td>\n      <td>0.1466</td>\n      <td>0.2098</td>\n      <td>0.1154</td>\n      <td>0.1974</td>\n      <td>call</td>\n    </tr>\n    <tr>\n      <th>16</th>\n      <td>2015-03-10</td>\n      <td>2.359</td>\n      <td>2015-03-10</td>\n      <td>0.047313</td>\n      <td>12</td>\n      <td>2.2</td>\n      <td>0.1966</td>\n      <td>0.1966</td>\n      <td>0.1668</td>\n      <td>0.1688</td>\n      <td>call</td>\n    </tr>\n    <tr>\n      <th>17</th>\n      <td>2015-03-11</td>\n      <td>2.374</td>\n      <td>2015-03-11</td>\n      <td>0.047009</td>\n      <td>11</td>\n      <td>2.2</td>\n      <td>0.1746</td>\n      <td>0.2105</td>\n      <td>0.1697</td>\n      <td>0.1774</td>\n      <td>call</td>\n    </tr>\n    <tr>\n      <th>18</th>\n      <td>2015-03-12</td>\n      <td>2.448</td>\n      <td>2015-03-12</td>\n      <td>0.047020</td>\n      <td>10</td>\n      <td>2.2</td>\n      <td>0.1870</td>\n      <td>0.2696</td>\n      <td>0.1870</td>\n      <td>0.2525</td>\n      <td>call</td>\n    </tr>\n    <tr>\n      <th>19</th>\n      <td>2015-03-13</td>\n      <td>2.455</td>\n      <td>2015-03-13</td>\n      <td>0.046982</td>\n      <td>9</td>\n      <td>2.2</td>\n      <td>0.2559</td>\n      <td>0.2949</td>\n      <td>0.2432</td>\n      <td>0.2570</td>\n      <td>call</td>\n    </tr>\n    <tr>\n      <th>20</th>\n      <td>2015-03-16</td>\n      <td>2.510</td>\n      <td>2015-03-16</td>\n      <td>0.047459</td>\n      <td>8</td>\n      <td>2.2</td>\n      <td>0.2685</td>\n      <td>0.3099</td>\n      <td>0.2549</td>\n      <td>0.3075</td>\n      <td>call</td>\n    </tr>\n    <tr>\n      <th>21</th>\n      <td>2015-03-17</td>\n      <td>2.543</td>\n      <td>2015-03-17</td>\n      <td>0.047672</td>\n      <td>7</td>\n      <td>2.2</td>\n      <td>0.3264</td>\n      <td>0.3417</td>\n      <td>0.3172</td>\n      <td>0.3385</td>\n      <td>call</td>\n    </tr>\n    <tr>\n      <th>22</th>\n      <td>2015-03-18</td>\n      <td>2.611</td>\n      <td>2015-03-18</td>\n      <td>0.047207</td>\n      <td>6</td>\n      <td>2.2</td>\n      <td>0.3467</td>\n      <td>0.4044</td>\n      <td>0.3467</td>\n      <td>0.4044</td>\n      <td>call</td>\n    </tr>\n    <tr>\n      <th>23</th>\n      <td>2015-03-19</td>\n      <td>2.587</td>\n      <td>2015-03-19</td>\n      <td>0.047304</td>\n      <td>5</td>\n      <td>2.2</td>\n      <td>0.3983</td>\n      <td>0.4050</td>\n      <td>0.3762</td>\n      <td>0.3902</td>\n      <td>call</td>\n    </tr>\n    <tr>\n      <th>24</th>\n      <td>2015-03-20</td>\n      <td>2.635</td>\n      <td>2015-03-20</td>\n      <td>0.046605</td>\n      <td>4</td>\n      <td>2.2</td>\n      <td>0.4053</td>\n      <td>0.4679</td>\n      <td>0.3811</td>\n      <td>0.4290</td>\n      <td>call</td>\n    </tr>\n    <tr>\n      <th>25</th>\n      <td>2015-03-23</td>\n      <td>2.676</td>\n      <td>2015-03-23</td>\n      <td>0.046715</td>\n      <td>3</td>\n      <td>2.2</td>\n      <td>0.4450</td>\n      <td>0.4798</td>\n      <td>0.4450</td>\n      <td>0.4742</td>\n      <td>call</td>\n    </tr>\n    <tr>\n      <th>26</th>\n      <td>2015-03-24</td>\n      <td>2.638</td>\n      <td>2015-03-24</td>\n      <td>0.046692</td>\n      <td>2</td>\n      <td>2.2</td>\n      <td>0.4861</td>\n      <td>0.4861</td>\n      <td>0.4133</td>\n      <td>0.4415</td>\n      <td>call</td>\n    </tr>\n    <tr>\n      <th>27</th>\n      <td>2015-03-25</td>\n      <td>2.604</td>\n      <td>2015-03-25</td>\n      <td>0.046926</td>\n      <td>1</td>\n      <td>2.2</td>\n      <td>0.4380</td>\n      <td>0.4380</td>\n      <td>0.3884</td>\n      <td>0.4007</td>\n      <td>call</td>\n    </tr>\n  </tbody>\n</table>\n</div>"
     },
     "execution_count": 11,
     "metadata": {},
     "output_type": "execute_result"
    }
   ],
   "source": [
    "merged_option2 = pd.merge(etf50, merged_option1, left_on = 'Date', right_on = 'date', how = 'inner')\n",
    "merged_option2"
   ],
   "metadata": {
    "collapsed": false,
    "pycharm": {
     "name": "#%%\n"
    }
   }
  },
  {
   "cell_type": "code",
   "execution_count": 17,
   "outputs": [
    {
     "data": {
      "text/plain": "Index(['Date', 'close_x', 'date', 'Value', 'ptmtradeday', 'exe_price', 'open',\n       'high', 'low', 'close_y', 'call_or_put'],\n      dtype='object')"
     },
     "execution_count": 17,
     "metadata": {},
     "output_type": "execute_result"
    }
   ],
   "source": [
    "merged_option2.columns"
   ],
   "metadata": {
    "collapsed": false,
    "pycharm": {
     "name": "#%%\n"
    }
   }
  },
  {
   "cell_type": "code",
   "execution_count": 18,
   "outputs": [
    {
     "ename": "TypeError",
     "evalue": "__array__() missing 1 required positional argument: 'self'",
     "output_type": "error",
     "traceback": [
      "\u001B[1;31m---------------------------------------------------------------------------\u001B[0m",
      "\u001B[1;31mTypeError\u001B[0m                                 Traceback (most recent call last)",
      "\u001B[1;32mC:\\fun\\annaconda\\envs\\tensorflow\\lib\\site-packages\\numpy\\core\\fromnumeric.py\u001B[0m in \u001B[0;36m_wrapfunc\u001B[1;34m(obj, method, *args, **kwds)\u001B[0m\n\u001B[0;32m     57\u001B[0m     \u001B[1;32mtry\u001B[0m\u001B[1;33m:\u001B[0m\u001B[1;33m\u001B[0m\u001B[1;33m\u001B[0m\u001B[0m\n\u001B[1;32m---> 58\u001B[1;33m         \u001B[1;32mreturn\u001B[0m \u001B[0mbound\u001B[0m\u001B[1;33m(\u001B[0m\u001B[1;33m*\u001B[0m\u001B[0margs\u001B[0m\u001B[1;33m,\u001B[0m \u001B[1;33m**\u001B[0m\u001B[0mkwds\u001B[0m\u001B[1;33m)\u001B[0m\u001B[1;33m\u001B[0m\u001B[1;33m\u001B[0m\u001B[0m\n\u001B[0m\u001B[0;32m     59\u001B[0m     \u001B[1;32mexcept\u001B[0m \u001B[0mTypeError\u001B[0m\u001B[1;33m:\u001B[0m\u001B[1;33m\u001B[0m\u001B[1;33m\u001B[0m\u001B[0m\n",
      "\u001B[1;32mC:\\fun\\annaconda\\envs\\tensorflow\\lib\\site-packages\\pandas\\util\\_decorators.py\u001B[0m in \u001B[0;36mwrapper\u001B[1;34m(*args, **kwargs)\u001B[0m\n\u001B[0;32m     90\u001B[0m                     \u001B[0mkwargs\u001B[0m\u001B[1;33m[\u001B[0m\u001B[0mnew_arg_name\u001B[0m\u001B[1;33m]\u001B[0m \u001B[1;33m=\u001B[0m \u001B[0mnew_arg_value\u001B[0m\u001B[1;33m\u001B[0m\u001B[1;33m\u001B[0m\u001B[0m\n\u001B[1;32m---> 91\u001B[1;33m             \u001B[1;32mreturn\u001B[0m \u001B[0mfunc\u001B[0m\u001B[1;33m(\u001B[0m\u001B[1;33m*\u001B[0m\u001B[0margs\u001B[0m\u001B[1;33m,\u001B[0m \u001B[1;33m**\u001B[0m\u001B[0mkwargs\u001B[0m\u001B[1;33m)\u001B[0m\u001B[1;33m\u001B[0m\u001B[1;33m\u001B[0m\u001B[0m\n\u001B[0m\u001B[0;32m     92\u001B[0m         \u001B[1;32mreturn\u001B[0m \u001B[0mwrapper\u001B[0m\u001B[1;33m\u001B[0m\u001B[1;33m\u001B[0m\u001B[0m\n",
      "\u001B[1;31mTypeError\u001B[0m: repeat() missing 1 required positional argument: 'repeats'",
      "\nDuring handling of the above exception, another exception occurred:\n",
      "\u001B[1;31mTypeError\u001B[0m                                 Traceback (most recent call last)",
      "\u001B[1;32m<ipython-input-18-12d4b45ac5a1>\u001B[0m in \u001B[0;36m<module>\u001B[1;34m()\u001B[0m\n\u001B[0;32m      4\u001B[0m \u001B[1;31m# print(merged_option2.s)\u001B[0m\u001B[1;33m\u001B[0m\u001B[1;33m\u001B[0m\u001B[1;33m\u001B[0m\u001B[0m\n\u001B[0;32m      5\u001B[0m \u001B[1;31m# merged_option2['iv'] = merged_option2.apply(lambda row : iv_bs_bisection(row['s'], row['k'], row['rate'], row['ptmtradeday'], row['close'], row['call_or_put'], iv_uplimit = 1.0, iv_downlimit = 0.0001, precision = 6, year_rate = 365),  axis=1)\u001B[0m\u001B[1;33m\u001B[0m\u001B[1;33m\u001B[0m\u001B[1;33m\u001B[0m\u001B[0m\n\u001B[1;32m----> 6\u001B[1;33m \u001B[0mmerged_option2\u001B[0m\u001B[1;33m[\u001B[0m\u001B[1;34m'iv'\u001B[0m\u001B[1;33m]\u001B[0m \u001B[1;33m=\u001B[0m \u001B[0mpd\u001B[0m\u001B[1;33m.\u001B[0m\u001B[0mSeries\u001B[0m\u001B[1;33m\u001B[0m\u001B[1;33m\u001B[0m\u001B[0m\n\u001B[0m\u001B[0;32m      7\u001B[0m \u001B[1;32mfor\u001B[0m \u001B[0mi\u001B[0m \u001B[1;32min\u001B[0m \u001B[0mrange\u001B[0m\u001B[1;33m(\u001B[0m\u001B[0mmerged_option2\u001B[0m\u001B[1;33m.\u001B[0m\u001B[0mshape\u001B[0m\u001B[1;33m[\u001B[0m\u001B[1;36m1\u001B[0m\u001B[1;33m]\u001B[0m\u001B[1;33m)\u001B[0m\u001B[1;33m:\u001B[0m\u001B[1;33m\u001B[0m\u001B[1;33m\u001B[0m\u001B[0m\n\u001B[0;32m      8\u001B[0m     \u001B[0mmerged_option2\u001B[0m\u001B[1;33m[\u001B[0m\u001B[1;34m'iv'\u001B[0m\u001B[1;33m]\u001B[0m\u001B[1;33m[\u001B[0m\u001B[0mi\u001B[0m\u001B[1;33m]\u001B[0m \u001B[1;33m=\u001B[0m \u001B[0miv_bs_bisection\u001B[0m\u001B[1;33m(\u001B[0m\u001B[0mnp\u001B[0m\u001B[1;33m.\u001B[0m\u001B[0marray\u001B[0m\u001B[1;33m(\u001B[0m\u001B[0mmerged_option2\u001B[0m\u001B[1;33m[\u001B[0m\u001B[1;34m's'\u001B[0m\u001B[1;33m]\u001B[0m\u001B[1;33m[\u001B[0m\u001B[0mi\u001B[0m\u001B[1;33m]\u001B[0m\u001B[1;33m)\u001B[0m\u001B[1;33m,\u001B[0m \u001B[0mnp\u001B[0m\u001B[1;33m.\u001B[0m\u001B[0marray\u001B[0m\u001B[1;33m(\u001B[0m\u001B[0mmerged_option2\u001B[0m\u001B[1;33m[\u001B[0m\u001B[1;34m'k'\u001B[0m\u001B[1;33m]\u001B[0m\u001B[1;33m[\u001B[0m\u001B[0mi\u001B[0m\u001B[1;33m]\u001B[0m\u001B[1;33m)\u001B[0m\u001B[1;33m,\u001B[0m \u001B[0mnp\u001B[0m\u001B[1;33m.\u001B[0m\u001B[0marray\u001B[0m\u001B[1;33m(\u001B[0m\u001B[0mmerged_option2\u001B[0m\u001B[1;33m[\u001B[0m\u001B[1;34m'rate'\u001B[0m\u001B[1;33m]\u001B[0m\u001B[1;33m[\u001B[0m\u001B[0mi\u001B[0m\u001B[1;33m]\u001B[0m\u001B[1;33m)\u001B[0m\u001B[1;33m,\u001B[0m \u001B[0mnp\u001B[0m\u001B[1;33m.\u001B[0m\u001B[0marray\u001B[0m\u001B[1;33m(\u001B[0m\u001B[0mmerged_option2\u001B[0m\u001B[1;33m[\u001B[0m\u001B[1;34m'ptmtradeday'\u001B[0m\u001B[1;33m]\u001B[0m\u001B[1;33m[\u001B[0m\u001B[0mi\u001B[0m\u001B[1;33m]\u001B[0m\u001B[1;33m)\u001B[0m\u001B[1;33m,\u001B[0m \u001B[0mnp\u001B[0m\u001B[1;33m.\u001B[0m\u001B[0marray\u001B[0m\u001B[1;33m(\u001B[0m\u001B[0mmerged_option2\u001B[0m\u001B[1;33m[\u001B[0m\u001B[1;34m'close'\u001B[0m\u001B[1;33m]\u001B[0m\u001B[1;33m[\u001B[0m\u001B[0mi\u001B[0m\u001B[1;33m]\u001B[0m\u001B[1;33m)\u001B[0m\u001B[1;33m,\u001B[0m \u001B[0mnp\u001B[0m\u001B[1;33m.\u001B[0m\u001B[0marray\u001B[0m\u001B[1;33m(\u001B[0m\u001B[0mmerged_option2\u001B[0m\u001B[1;33m[\u001B[0m\u001B[1;34m'call_or_put'\u001B[0m\u001B[1;33m]\u001B[0m\u001B[1;33m[\u001B[0m\u001B[0mi\u001B[0m\u001B[1;33m]\u001B[0m\u001B[1;33m)\u001B[0m\u001B[1;33m,\u001B[0m \u001B[0miv_uplimit\u001B[0m \u001B[1;33m=\u001B[0m \u001B[1;36m1.0\u001B[0m\u001B[1;33m,\u001B[0m \u001B[0miv_downlimit\u001B[0m \u001B[1;33m=\u001B[0m \u001B[1;36m0.0001\u001B[0m\u001B[1;33m,\u001B[0m \u001B[0mprecision\u001B[0m \u001B[1;33m=\u001B[0m \u001B[1;36m6\u001B[0m\u001B[1;33m,\u001B[0m \u001B[0myear_rate\u001B[0m \u001B[1;33m=\u001B[0m \u001B[1;36m365\u001B[0m\u001B[1;33m,\u001B[0m \u001B[0mmax_iterations\u001B[0m\u001B[1;33m=\u001B[0m \u001B[1;36m120\u001B[0m\u001B[1;33m)\u001B[0m\u001B[1;33m\u001B[0m\u001B[1;33m\u001B[0m\u001B[0m\n",
      "\u001B[1;32mC:\\fun\\annaconda\\envs\\tensorflow\\lib\\site-packages\\pandas\\core\\frame.py\u001B[0m in \u001B[0;36m__setitem__\u001B[1;34m(self, key, value)\u001B[0m\n\u001B[0;32m   2329\u001B[0m         \u001B[1;32melse\u001B[0m\u001B[1;33m:\u001B[0m\u001B[1;33m\u001B[0m\u001B[1;33m\u001B[0m\u001B[0m\n\u001B[0;32m   2330\u001B[0m             \u001B[1;31m# set column\u001B[0m\u001B[1;33m\u001B[0m\u001B[1;33m\u001B[0m\u001B[1;33m\u001B[0m\u001B[0m\n\u001B[1;32m-> 2331\u001B[1;33m             \u001B[0mself\u001B[0m\u001B[1;33m.\u001B[0m\u001B[0m_set_item\u001B[0m\u001B[1;33m(\u001B[0m\u001B[0mkey\u001B[0m\u001B[1;33m,\u001B[0m \u001B[0mvalue\u001B[0m\u001B[1;33m)\u001B[0m\u001B[1;33m\u001B[0m\u001B[1;33m\u001B[0m\u001B[0m\n\u001B[0m\u001B[0;32m   2332\u001B[0m \u001B[1;33m\u001B[0m\u001B[0m\n\u001B[0;32m   2333\u001B[0m     \u001B[1;32mdef\u001B[0m \u001B[0m_setitem_slice\u001B[0m\u001B[1;33m(\u001B[0m\u001B[0mself\u001B[0m\u001B[1;33m,\u001B[0m \u001B[0mkey\u001B[0m\u001B[1;33m,\u001B[0m \u001B[0mvalue\u001B[0m\u001B[1;33m)\u001B[0m\u001B[1;33m:\u001B[0m\u001B[1;33m\u001B[0m\u001B[1;33m\u001B[0m\u001B[0m\n",
      "\u001B[1;32mC:\\fun\\annaconda\\envs\\tensorflow\\lib\\site-packages\\pandas\\core\\frame.py\u001B[0m in \u001B[0;36m_set_item\u001B[1;34m(self, key, value)\u001B[0m\n\u001B[0;32m   2395\u001B[0m \u001B[1;33m\u001B[0m\u001B[0m\n\u001B[0;32m   2396\u001B[0m         \u001B[0mself\u001B[0m\u001B[1;33m.\u001B[0m\u001B[0m_ensure_valid_index\u001B[0m\u001B[1;33m(\u001B[0m\u001B[0mvalue\u001B[0m\u001B[1;33m)\u001B[0m\u001B[1;33m\u001B[0m\u001B[1;33m\u001B[0m\u001B[0m\n\u001B[1;32m-> 2397\u001B[1;33m         \u001B[0mvalue\u001B[0m \u001B[1;33m=\u001B[0m \u001B[0mself\u001B[0m\u001B[1;33m.\u001B[0m\u001B[0m_sanitize_column\u001B[0m\u001B[1;33m(\u001B[0m\u001B[0mkey\u001B[0m\u001B[1;33m,\u001B[0m \u001B[0mvalue\u001B[0m\u001B[1;33m)\u001B[0m\u001B[1;33m\u001B[0m\u001B[1;33m\u001B[0m\u001B[0m\n\u001B[0m\u001B[0;32m   2398\u001B[0m         \u001B[0mNDFrame\u001B[0m\u001B[1;33m.\u001B[0m\u001B[0m_set_item\u001B[0m\u001B[1;33m(\u001B[0m\u001B[0mself\u001B[0m\u001B[1;33m,\u001B[0m \u001B[0mkey\u001B[0m\u001B[1;33m,\u001B[0m \u001B[0mvalue\u001B[0m\u001B[1;33m)\u001B[0m\u001B[1;33m\u001B[0m\u001B[1;33m\u001B[0m\u001B[0m\n\u001B[0;32m   2399\u001B[0m \u001B[1;33m\u001B[0m\u001B[0m\n",
      "\u001B[1;32mC:\\fun\\annaconda\\envs\\tensorflow\\lib\\site-packages\\pandas\\core\\frame.py\u001B[0m in \u001B[0;36m_sanitize_column\u001B[1;34m(self, key, value, broadcast)\u001B[0m\n\u001B[0;32m   2586\u001B[0m             \u001B[1;31m# upcast the scalar\u001B[0m\u001B[1;33m\u001B[0m\u001B[1;33m\u001B[0m\u001B[1;33m\u001B[0m\u001B[0m\n\u001B[0;32m   2587\u001B[0m             \u001B[0mdtype\u001B[0m\u001B[1;33m,\u001B[0m \u001B[0mvalue\u001B[0m \u001B[1;33m=\u001B[0m \u001B[0minfer_dtype_from_scalar\u001B[0m\u001B[1;33m(\u001B[0m\u001B[0mvalue\u001B[0m\u001B[1;33m)\u001B[0m\u001B[1;33m\u001B[0m\u001B[1;33m\u001B[0m\u001B[0m\n\u001B[1;32m-> 2588\u001B[1;33m             \u001B[0mvalue\u001B[0m \u001B[1;33m=\u001B[0m \u001B[0mnp\u001B[0m\u001B[1;33m.\u001B[0m\u001B[0mrepeat\u001B[0m\u001B[1;33m(\u001B[0m\u001B[0mvalue\u001B[0m\u001B[1;33m,\u001B[0m \u001B[0mlen\u001B[0m\u001B[1;33m(\u001B[0m\u001B[0mself\u001B[0m\u001B[1;33m.\u001B[0m\u001B[0mindex\u001B[0m\u001B[1;33m)\u001B[0m\u001B[1;33m)\u001B[0m\u001B[1;33m.\u001B[0m\u001B[0mastype\u001B[0m\u001B[1;33m(\u001B[0m\u001B[0mdtype\u001B[0m\u001B[1;33m)\u001B[0m\u001B[1;33m\u001B[0m\u001B[1;33m\u001B[0m\u001B[0m\n\u001B[0m\u001B[0;32m   2589\u001B[0m             \u001B[0mvalue\u001B[0m \u001B[1;33m=\u001B[0m \u001B[0mmaybe_cast_to_datetime\u001B[0m\u001B[1;33m(\u001B[0m\u001B[0mvalue\u001B[0m\u001B[1;33m,\u001B[0m \u001B[0mdtype\u001B[0m\u001B[1;33m)\u001B[0m\u001B[1;33m\u001B[0m\u001B[1;33m\u001B[0m\u001B[0m\n\u001B[0;32m   2590\u001B[0m \u001B[1;33m\u001B[0m\u001B[0m\n",
      "\u001B[1;32m<__array_function__ internals>\u001B[0m in \u001B[0;36mrepeat\u001B[1;34m(*args, **kwargs)\u001B[0m\n",
      "\u001B[1;32mC:\\fun\\annaconda\\envs\\tensorflow\\lib\\site-packages\\numpy\\core\\fromnumeric.py\u001B[0m in \u001B[0;36mrepeat\u001B[1;34m(a, repeats, axis)\u001B[0m\n\u001B[0;32m    477\u001B[0m \u001B[1;33m\u001B[0m\u001B[0m\n\u001B[0;32m    478\u001B[0m     \"\"\"\n\u001B[1;32m--> 479\u001B[1;33m     \u001B[1;32mreturn\u001B[0m \u001B[0m_wrapfunc\u001B[0m\u001B[1;33m(\u001B[0m\u001B[0ma\u001B[0m\u001B[1;33m,\u001B[0m \u001B[1;34m'repeat'\u001B[0m\u001B[1;33m,\u001B[0m \u001B[0mrepeats\u001B[0m\u001B[1;33m,\u001B[0m \u001B[0maxis\u001B[0m\u001B[1;33m=\u001B[0m\u001B[0maxis\u001B[0m\u001B[1;33m)\u001B[0m\u001B[1;33m\u001B[0m\u001B[1;33m\u001B[0m\u001B[0m\n\u001B[0m\u001B[0;32m    480\u001B[0m \u001B[1;33m\u001B[0m\u001B[0m\n\u001B[0;32m    481\u001B[0m \u001B[1;33m\u001B[0m\u001B[0m\n",
      "\u001B[1;32mC:\\fun\\annaconda\\envs\\tensorflow\\lib\\site-packages\\numpy\\core\\fromnumeric.py\u001B[0m in \u001B[0;36m_wrapfunc\u001B[1;34m(obj, method, *args, **kwds)\u001B[0m\n\u001B[0;32m     65\u001B[0m         \u001B[1;31m# Call _wrapit from within the except clause to ensure a potential\u001B[0m\u001B[1;33m\u001B[0m\u001B[1;33m\u001B[0m\u001B[1;33m\u001B[0m\u001B[0m\n\u001B[0;32m     66\u001B[0m         \u001B[1;31m# exception has a traceback chain.\u001B[0m\u001B[1;33m\u001B[0m\u001B[1;33m\u001B[0m\u001B[1;33m\u001B[0m\u001B[0m\n\u001B[1;32m---> 67\u001B[1;33m         \u001B[1;32mreturn\u001B[0m \u001B[0m_wrapit\u001B[0m\u001B[1;33m(\u001B[0m\u001B[0mobj\u001B[0m\u001B[1;33m,\u001B[0m \u001B[0mmethod\u001B[0m\u001B[1;33m,\u001B[0m \u001B[1;33m*\u001B[0m\u001B[0margs\u001B[0m\u001B[1;33m,\u001B[0m \u001B[1;33m**\u001B[0m\u001B[0mkwds\u001B[0m\u001B[1;33m)\u001B[0m\u001B[1;33m\u001B[0m\u001B[1;33m\u001B[0m\u001B[0m\n\u001B[0m\u001B[0;32m     68\u001B[0m \u001B[1;33m\u001B[0m\u001B[0m\n\u001B[0;32m     69\u001B[0m \u001B[1;33m\u001B[0m\u001B[0m\n",
      "\u001B[1;32mC:\\fun\\annaconda\\envs\\tensorflow\\lib\\site-packages\\numpy\\core\\fromnumeric.py\u001B[0m in \u001B[0;36m_wrapit\u001B[1;34m(obj, method, *args, **kwds)\u001B[0m\n\u001B[0;32m     42\u001B[0m     \u001B[1;32mexcept\u001B[0m \u001B[0mAttributeError\u001B[0m\u001B[1;33m:\u001B[0m\u001B[1;33m\u001B[0m\u001B[1;33m\u001B[0m\u001B[0m\n\u001B[0;32m     43\u001B[0m         \u001B[0mwrap\u001B[0m \u001B[1;33m=\u001B[0m \u001B[1;32mNone\u001B[0m\u001B[1;33m\u001B[0m\u001B[1;33m\u001B[0m\u001B[0m\n\u001B[1;32m---> 44\u001B[1;33m     \u001B[0mresult\u001B[0m \u001B[1;33m=\u001B[0m \u001B[0mgetattr\u001B[0m\u001B[1;33m(\u001B[0m\u001B[0masarray\u001B[0m\u001B[1;33m(\u001B[0m\u001B[0mobj\u001B[0m\u001B[1;33m)\u001B[0m\u001B[1;33m,\u001B[0m \u001B[0mmethod\u001B[0m\u001B[1;33m)\u001B[0m\u001B[1;33m(\u001B[0m\u001B[1;33m*\u001B[0m\u001B[0margs\u001B[0m\u001B[1;33m,\u001B[0m \u001B[1;33m**\u001B[0m\u001B[0mkwds\u001B[0m\u001B[1;33m)\u001B[0m\u001B[1;33m\u001B[0m\u001B[1;33m\u001B[0m\u001B[0m\n\u001B[0m\u001B[0;32m     45\u001B[0m     \u001B[1;32mif\u001B[0m \u001B[0mwrap\u001B[0m\u001B[1;33m:\u001B[0m\u001B[1;33m\u001B[0m\u001B[1;33m\u001B[0m\u001B[0m\n\u001B[0;32m     46\u001B[0m         \u001B[1;32mif\u001B[0m \u001B[1;32mnot\u001B[0m \u001B[0misinstance\u001B[0m\u001B[1;33m(\u001B[0m\u001B[0mresult\u001B[0m\u001B[1;33m,\u001B[0m \u001B[0mmu\u001B[0m\u001B[1;33m.\u001B[0m\u001B[0mndarray\u001B[0m\u001B[1;33m)\u001B[0m\u001B[1;33m:\u001B[0m\u001B[1;33m\u001B[0m\u001B[1;33m\u001B[0m\u001B[0m\n",
      "\u001B[1;32mC:\\fun\\annaconda\\envs\\tensorflow\\lib\\site-packages\\numpy\\core\\_asarray.py\u001B[0m in \u001B[0;36masarray\u001B[1;34m(a, dtype, order)\u001B[0m\n\u001B[0;32m     81\u001B[0m \u001B[1;33m\u001B[0m\u001B[0m\n\u001B[0;32m     82\u001B[0m     \"\"\"\n\u001B[1;32m---> 83\u001B[1;33m     \u001B[1;32mreturn\u001B[0m \u001B[0marray\u001B[0m\u001B[1;33m(\u001B[0m\u001B[0ma\u001B[0m\u001B[1;33m,\u001B[0m \u001B[0mdtype\u001B[0m\u001B[1;33m,\u001B[0m \u001B[0mcopy\u001B[0m\u001B[1;33m=\u001B[0m\u001B[1;32mFalse\u001B[0m\u001B[1;33m,\u001B[0m \u001B[0morder\u001B[0m\u001B[1;33m=\u001B[0m\u001B[0morder\u001B[0m\u001B[1;33m)\u001B[0m\u001B[1;33m\u001B[0m\u001B[1;33m\u001B[0m\u001B[0m\n\u001B[0m\u001B[0;32m     84\u001B[0m \u001B[1;33m\u001B[0m\u001B[0m\n\u001B[0;32m     85\u001B[0m \u001B[1;33m\u001B[0m\u001B[0m\n",
      "\u001B[1;31mTypeError\u001B[0m: __array__() missing 1 required positional argument: 'self'"
     ]
    }
   ],
   "source": [
    "merged_option2 = merged_option2[['call_or_put','date','ptmtradeday','exe_price','Value', 'open', 'high','low','close_y','close_x']]\n",
    "merged_option2.columns = ['call_or_put', 'date','ptmtradeday','k', 'rate', 'open', 'high','low','close','s']\n",
    "# print(merged_option2.s)\n",
    "# merged_option2['iv'] = merged_option2.apply(lambda row : iv_bs_bisection(row['s'], row['k'], row['rate'], row['ptmtradeday'], row['close'], row['call_or_put'], iv_uplimit = 1.0, iv_downlimit = 0.0001, precision = 6, year_rate = 365),  axis=1)\n",
    "merged_option2['iv'] = pd.Series\n",
    "for i in range(merged_option2.shape[1]):\n",
    "    merged_option2['iv'][i] = iv_bs_bisection(np.array(merged_option2['s'][i]), np.array(merged_option2['k'][i]), np.array(merged_option2['rate'][i]), np.array(merged_option2['ptmtradeday'][i]), np.array(merged_option2['close'][i]), np.array(merged_option2['call_or_put'][i]), iv_uplimit = 1.0, iv_downlimit = 0.0001, precision = 6, year_rate = 365, max_iterations= 120)\n",
    "    # merged_option2['iv'][i] = find_vol_newton(merged_option2['s'][i],merged_option2['k'][i], merged_option2['rate'][i], merged_option2['ptmtradeday'][i], merged_option2['close'][i], merged_option2['call_or_put'][i],start_sigma = 0.1, precision = 3, year_rate = 365.0, max_iterations = 100)\n",
    "    print(merged_option2['s'][i],merged_option2['k'][i], merged_option2['rate'][i])\n",
    "    print(merged_option2['iv'][i])\n",
    "    # break"
   ],
   "metadata": {
    "collapsed": false,
    "pycharm": {
     "name": "#%%\n"
    }
   }
  },
  {
   "cell_type": "code",
   "execution_count": 19,
   "outputs": [
    {
     "name": "stdout",
     "output_type": "stream",
     "text": [
      "10000001.csv\n"
     ]
    },
    {
     "ename": "TypeError",
     "evalue": "__array__() missing 1 required positional argument: 'self'",
     "output_type": "error",
     "traceback": [
      "\u001B[1;31m---------------------------------------------------------------------------\u001B[0m",
      "\u001B[1;31mTypeError\u001B[0m                                 Traceback (most recent call last)",
      "\u001B[1;32mC:\\fun\\annaconda\\envs\\tensorflow\\lib\\site-packages\\numpy\\core\\fromnumeric.py\u001B[0m in \u001B[0;36m_wrapfunc\u001B[1;34m(obj, method, *args, **kwds)\u001B[0m\n\u001B[0;32m     57\u001B[0m     \u001B[1;32mtry\u001B[0m\u001B[1;33m:\u001B[0m\u001B[1;33m\u001B[0m\u001B[1;33m\u001B[0m\u001B[0m\n\u001B[1;32m---> 58\u001B[1;33m         \u001B[1;32mreturn\u001B[0m \u001B[0mbound\u001B[0m\u001B[1;33m(\u001B[0m\u001B[1;33m*\u001B[0m\u001B[0margs\u001B[0m\u001B[1;33m,\u001B[0m \u001B[1;33m**\u001B[0m\u001B[0mkwds\u001B[0m\u001B[1;33m)\u001B[0m\u001B[1;33m\u001B[0m\u001B[1;33m\u001B[0m\u001B[0m\n\u001B[0m\u001B[0;32m     59\u001B[0m     \u001B[1;32mexcept\u001B[0m \u001B[0mTypeError\u001B[0m\u001B[1;33m:\u001B[0m\u001B[1;33m\u001B[0m\u001B[1;33m\u001B[0m\u001B[0m\n",
      "\u001B[1;32mC:\\fun\\annaconda\\envs\\tensorflow\\lib\\site-packages\\pandas\\util\\_decorators.py\u001B[0m in \u001B[0;36mwrapper\u001B[1;34m(*args, **kwargs)\u001B[0m\n\u001B[0;32m     90\u001B[0m                     \u001B[0mkwargs\u001B[0m\u001B[1;33m[\u001B[0m\u001B[0mnew_arg_name\u001B[0m\u001B[1;33m]\u001B[0m \u001B[1;33m=\u001B[0m \u001B[0mnew_arg_value\u001B[0m\u001B[1;33m\u001B[0m\u001B[1;33m\u001B[0m\u001B[0m\n\u001B[1;32m---> 91\u001B[1;33m             \u001B[1;32mreturn\u001B[0m \u001B[0mfunc\u001B[0m\u001B[1;33m(\u001B[0m\u001B[1;33m*\u001B[0m\u001B[0margs\u001B[0m\u001B[1;33m,\u001B[0m \u001B[1;33m**\u001B[0m\u001B[0mkwargs\u001B[0m\u001B[1;33m)\u001B[0m\u001B[1;33m\u001B[0m\u001B[1;33m\u001B[0m\u001B[0m\n\u001B[0m\u001B[0;32m     92\u001B[0m         \u001B[1;32mreturn\u001B[0m \u001B[0mwrapper\u001B[0m\u001B[1;33m\u001B[0m\u001B[1;33m\u001B[0m\u001B[0m\n",
      "\u001B[1;31mTypeError\u001B[0m: repeat() missing 1 required positional argument: 'repeats'",
      "\nDuring handling of the above exception, another exception occurred:\n",
      "\u001B[1;31mTypeError\u001B[0m                                 Traceback (most recent call last)",
      "\u001B[1;32m<ipython-input-19-40c1a3f32172>\u001B[0m in \u001B[0;36m<module>\u001B[1;34m()\u001B[0m\n\u001B[0;32m     18\u001B[0m     \u001B[1;31m# print(merged_option2.s)\u001B[0m\u001B[1;33m\u001B[0m\u001B[1;33m\u001B[0m\u001B[1;33m\u001B[0m\u001B[0m\n\u001B[0;32m     19\u001B[0m     \u001B[1;31m# merged_option2['iv'] = merged_option2.apply(lambda row : iv_bs_bisection(row['s'], row['k'], row['rate'], row['ptmtradeday'], row['close'], row['call_or_put'], iv_uplimit = 1.0, iv_downlimit = 0.0001, precision = 6, year_rate = 365),  axis=1)\u001B[0m\u001B[1;33m\u001B[0m\u001B[1;33m\u001B[0m\u001B[1;33m\u001B[0m\u001B[0m\n\u001B[1;32m---> 20\u001B[1;33m     \u001B[0mmerged_option2\u001B[0m\u001B[1;33m[\u001B[0m\u001B[1;34m'iv'\u001B[0m\u001B[1;33m]\u001B[0m \u001B[1;33m=\u001B[0m \u001B[0mpd\u001B[0m\u001B[1;33m.\u001B[0m\u001B[0mSeries\u001B[0m\u001B[1;33m\u001B[0m\u001B[1;33m\u001B[0m\u001B[0m\n\u001B[0m\u001B[0;32m     21\u001B[0m     \u001B[1;32mfor\u001B[0m \u001B[0mi\u001B[0m \u001B[1;32min\u001B[0m \u001B[0mrange\u001B[0m\u001B[1;33m(\u001B[0m\u001B[0mmerged_option2\u001B[0m\u001B[1;33m.\u001B[0m\u001B[0mshape\u001B[0m\u001B[1;33m[\u001B[0m\u001B[1;36m0\u001B[0m\u001B[1;33m]\u001B[0m\u001B[1;33m)\u001B[0m\u001B[1;33m:\u001B[0m\u001B[1;33m\u001B[0m\u001B[1;33m\u001B[0m\u001B[0m\n\u001B[0;32m     22\u001B[0m         \u001B[0mmerged_option2\u001B[0m\u001B[1;33m[\u001B[0m\u001B[1;34m'iv'\u001B[0m\u001B[1;33m]\u001B[0m\u001B[1;33m[\u001B[0m\u001B[0mi\u001B[0m\u001B[1;33m]\u001B[0m \u001B[1;33m=\u001B[0m \u001B[0miv_bs_bisection\u001B[0m\u001B[1;33m(\u001B[0m\u001B[0mnp\u001B[0m\u001B[1;33m.\u001B[0m\u001B[0marray\u001B[0m\u001B[1;33m(\u001B[0m\u001B[0mmerged_option2\u001B[0m\u001B[1;33m[\u001B[0m\u001B[1;34m's'\u001B[0m\u001B[1;33m]\u001B[0m\u001B[1;33m[\u001B[0m\u001B[0mi\u001B[0m\u001B[1;33m]\u001B[0m\u001B[1;33m)\u001B[0m\u001B[1;33m,\u001B[0m \u001B[0mnp\u001B[0m\u001B[1;33m.\u001B[0m\u001B[0marray\u001B[0m\u001B[1;33m(\u001B[0m\u001B[0mmerged_option2\u001B[0m\u001B[1;33m[\u001B[0m\u001B[1;34m'k'\u001B[0m\u001B[1;33m]\u001B[0m\u001B[1;33m[\u001B[0m\u001B[0mi\u001B[0m\u001B[1;33m]\u001B[0m\u001B[1;33m)\u001B[0m\u001B[1;33m,\u001B[0m \u001B[0mnp\u001B[0m\u001B[1;33m.\u001B[0m\u001B[0marray\u001B[0m\u001B[1;33m(\u001B[0m\u001B[0mmerged_option2\u001B[0m\u001B[1;33m[\u001B[0m\u001B[1;34m'rate'\u001B[0m\u001B[1;33m]\u001B[0m\u001B[1;33m[\u001B[0m\u001B[0mi\u001B[0m\u001B[1;33m]\u001B[0m\u001B[1;33m)\u001B[0m\u001B[1;33m,\u001B[0m \u001B[0mnp\u001B[0m\u001B[1;33m.\u001B[0m\u001B[0marray\u001B[0m\u001B[1;33m(\u001B[0m\u001B[0mmerged_option2\u001B[0m\u001B[1;33m[\u001B[0m\u001B[1;34m'ptmtradeday'\u001B[0m\u001B[1;33m]\u001B[0m\u001B[1;33m[\u001B[0m\u001B[0mi\u001B[0m\u001B[1;33m]\u001B[0m\u001B[1;33m)\u001B[0m\u001B[1;33m,\u001B[0m \u001B[0mnp\u001B[0m\u001B[1;33m.\u001B[0m\u001B[0marray\u001B[0m\u001B[1;33m(\u001B[0m\u001B[0mmerged_option2\u001B[0m\u001B[1;33m[\u001B[0m\u001B[1;34m'close'\u001B[0m\u001B[1;33m]\u001B[0m\u001B[1;33m[\u001B[0m\u001B[0mi\u001B[0m\u001B[1;33m]\u001B[0m\u001B[1;33m)\u001B[0m\u001B[1;33m,\u001B[0m \u001B[0mnp\u001B[0m\u001B[1;33m.\u001B[0m\u001B[0marray\u001B[0m\u001B[1;33m(\u001B[0m\u001B[0mmerged_option2\u001B[0m\u001B[1;33m[\u001B[0m\u001B[1;34m'call_or_put'\u001B[0m\u001B[1;33m]\u001B[0m\u001B[1;33m[\u001B[0m\u001B[0mi\u001B[0m\u001B[1;33m]\u001B[0m\u001B[1;33m)\u001B[0m\u001B[1;33m,\u001B[0m \u001B[0miv_uplimit\u001B[0m \u001B[1;33m=\u001B[0m \u001B[1;36m1.0\u001B[0m\u001B[1;33m,\u001B[0m \u001B[0miv_downlimit\u001B[0m \u001B[1;33m=\u001B[0m \u001B[1;36m0.0001\u001B[0m\u001B[1;33m,\u001B[0m \u001B[0mprecision\u001B[0m \u001B[1;33m=\u001B[0m \u001B[1;36m4\u001B[0m\u001B[1;33m,\u001B[0m \u001B[0myear_rate\u001B[0m \u001B[1;33m=\u001B[0m \u001B[1;36m365\u001B[0m\u001B[1;33m,\u001B[0m \u001B[0mmax_iterations\u001B[0m\u001B[1;33m=\u001B[0m \u001B[1;36m1000\u001B[0m\u001B[1;33m)\u001B[0m\u001B[1;33m\u001B[0m\u001B[1;33m\u001B[0m\u001B[0m\n",
      "\u001B[1;32mC:\\fun\\annaconda\\envs\\tensorflow\\lib\\site-packages\\pandas\\core\\frame.py\u001B[0m in \u001B[0;36m__setitem__\u001B[1;34m(self, key, value)\u001B[0m\n\u001B[0;32m   2329\u001B[0m         \u001B[1;32melse\u001B[0m\u001B[1;33m:\u001B[0m\u001B[1;33m\u001B[0m\u001B[1;33m\u001B[0m\u001B[0m\n\u001B[0;32m   2330\u001B[0m             \u001B[1;31m# set column\u001B[0m\u001B[1;33m\u001B[0m\u001B[1;33m\u001B[0m\u001B[1;33m\u001B[0m\u001B[0m\n\u001B[1;32m-> 2331\u001B[1;33m             \u001B[0mself\u001B[0m\u001B[1;33m.\u001B[0m\u001B[0m_set_item\u001B[0m\u001B[1;33m(\u001B[0m\u001B[0mkey\u001B[0m\u001B[1;33m,\u001B[0m \u001B[0mvalue\u001B[0m\u001B[1;33m)\u001B[0m\u001B[1;33m\u001B[0m\u001B[1;33m\u001B[0m\u001B[0m\n\u001B[0m\u001B[0;32m   2332\u001B[0m \u001B[1;33m\u001B[0m\u001B[0m\n\u001B[0;32m   2333\u001B[0m     \u001B[1;32mdef\u001B[0m \u001B[0m_setitem_slice\u001B[0m\u001B[1;33m(\u001B[0m\u001B[0mself\u001B[0m\u001B[1;33m,\u001B[0m \u001B[0mkey\u001B[0m\u001B[1;33m,\u001B[0m \u001B[0mvalue\u001B[0m\u001B[1;33m)\u001B[0m\u001B[1;33m:\u001B[0m\u001B[1;33m\u001B[0m\u001B[1;33m\u001B[0m\u001B[0m\n",
      "\u001B[1;32mC:\\fun\\annaconda\\envs\\tensorflow\\lib\\site-packages\\pandas\\core\\frame.py\u001B[0m in \u001B[0;36m_set_item\u001B[1;34m(self, key, value)\u001B[0m\n\u001B[0;32m   2395\u001B[0m \u001B[1;33m\u001B[0m\u001B[0m\n\u001B[0;32m   2396\u001B[0m         \u001B[0mself\u001B[0m\u001B[1;33m.\u001B[0m\u001B[0m_ensure_valid_index\u001B[0m\u001B[1;33m(\u001B[0m\u001B[0mvalue\u001B[0m\u001B[1;33m)\u001B[0m\u001B[1;33m\u001B[0m\u001B[1;33m\u001B[0m\u001B[0m\n\u001B[1;32m-> 2397\u001B[1;33m         \u001B[0mvalue\u001B[0m \u001B[1;33m=\u001B[0m \u001B[0mself\u001B[0m\u001B[1;33m.\u001B[0m\u001B[0m_sanitize_column\u001B[0m\u001B[1;33m(\u001B[0m\u001B[0mkey\u001B[0m\u001B[1;33m,\u001B[0m \u001B[0mvalue\u001B[0m\u001B[1;33m)\u001B[0m\u001B[1;33m\u001B[0m\u001B[1;33m\u001B[0m\u001B[0m\n\u001B[0m\u001B[0;32m   2398\u001B[0m         \u001B[0mNDFrame\u001B[0m\u001B[1;33m.\u001B[0m\u001B[0m_set_item\u001B[0m\u001B[1;33m(\u001B[0m\u001B[0mself\u001B[0m\u001B[1;33m,\u001B[0m \u001B[0mkey\u001B[0m\u001B[1;33m,\u001B[0m \u001B[0mvalue\u001B[0m\u001B[1;33m)\u001B[0m\u001B[1;33m\u001B[0m\u001B[1;33m\u001B[0m\u001B[0m\n\u001B[0;32m   2399\u001B[0m \u001B[1;33m\u001B[0m\u001B[0m\n",
      "\u001B[1;32mC:\\fun\\annaconda\\envs\\tensorflow\\lib\\site-packages\\pandas\\core\\frame.py\u001B[0m in \u001B[0;36m_sanitize_column\u001B[1;34m(self, key, value, broadcast)\u001B[0m\n\u001B[0;32m   2586\u001B[0m             \u001B[1;31m# upcast the scalar\u001B[0m\u001B[1;33m\u001B[0m\u001B[1;33m\u001B[0m\u001B[1;33m\u001B[0m\u001B[0m\n\u001B[0;32m   2587\u001B[0m             \u001B[0mdtype\u001B[0m\u001B[1;33m,\u001B[0m \u001B[0mvalue\u001B[0m \u001B[1;33m=\u001B[0m \u001B[0minfer_dtype_from_scalar\u001B[0m\u001B[1;33m(\u001B[0m\u001B[0mvalue\u001B[0m\u001B[1;33m)\u001B[0m\u001B[1;33m\u001B[0m\u001B[1;33m\u001B[0m\u001B[0m\n\u001B[1;32m-> 2588\u001B[1;33m             \u001B[0mvalue\u001B[0m \u001B[1;33m=\u001B[0m \u001B[0mnp\u001B[0m\u001B[1;33m.\u001B[0m\u001B[0mrepeat\u001B[0m\u001B[1;33m(\u001B[0m\u001B[0mvalue\u001B[0m\u001B[1;33m,\u001B[0m \u001B[0mlen\u001B[0m\u001B[1;33m(\u001B[0m\u001B[0mself\u001B[0m\u001B[1;33m.\u001B[0m\u001B[0mindex\u001B[0m\u001B[1;33m)\u001B[0m\u001B[1;33m)\u001B[0m\u001B[1;33m.\u001B[0m\u001B[0mastype\u001B[0m\u001B[1;33m(\u001B[0m\u001B[0mdtype\u001B[0m\u001B[1;33m)\u001B[0m\u001B[1;33m\u001B[0m\u001B[1;33m\u001B[0m\u001B[0m\n\u001B[0m\u001B[0;32m   2589\u001B[0m             \u001B[0mvalue\u001B[0m \u001B[1;33m=\u001B[0m \u001B[0mmaybe_cast_to_datetime\u001B[0m\u001B[1;33m(\u001B[0m\u001B[0mvalue\u001B[0m\u001B[1;33m,\u001B[0m \u001B[0mdtype\u001B[0m\u001B[1;33m)\u001B[0m\u001B[1;33m\u001B[0m\u001B[1;33m\u001B[0m\u001B[0m\n\u001B[0;32m   2590\u001B[0m \u001B[1;33m\u001B[0m\u001B[0m\n",
      "\u001B[1;32m<__array_function__ internals>\u001B[0m in \u001B[0;36mrepeat\u001B[1;34m(*args, **kwargs)\u001B[0m\n",
      "\u001B[1;32mC:\\fun\\annaconda\\envs\\tensorflow\\lib\\site-packages\\numpy\\core\\fromnumeric.py\u001B[0m in \u001B[0;36mrepeat\u001B[1;34m(a, repeats, axis)\u001B[0m\n\u001B[0;32m    477\u001B[0m \u001B[1;33m\u001B[0m\u001B[0m\n\u001B[0;32m    478\u001B[0m     \"\"\"\n\u001B[1;32m--> 479\u001B[1;33m     \u001B[1;32mreturn\u001B[0m \u001B[0m_wrapfunc\u001B[0m\u001B[1;33m(\u001B[0m\u001B[0ma\u001B[0m\u001B[1;33m,\u001B[0m \u001B[1;34m'repeat'\u001B[0m\u001B[1;33m,\u001B[0m \u001B[0mrepeats\u001B[0m\u001B[1;33m,\u001B[0m \u001B[0maxis\u001B[0m\u001B[1;33m=\u001B[0m\u001B[0maxis\u001B[0m\u001B[1;33m)\u001B[0m\u001B[1;33m\u001B[0m\u001B[1;33m\u001B[0m\u001B[0m\n\u001B[0m\u001B[0;32m    480\u001B[0m \u001B[1;33m\u001B[0m\u001B[0m\n\u001B[0;32m    481\u001B[0m \u001B[1;33m\u001B[0m\u001B[0m\n",
      "\u001B[1;32mC:\\fun\\annaconda\\envs\\tensorflow\\lib\\site-packages\\numpy\\core\\fromnumeric.py\u001B[0m in \u001B[0;36m_wrapfunc\u001B[1;34m(obj, method, *args, **kwds)\u001B[0m\n\u001B[0;32m     65\u001B[0m         \u001B[1;31m# Call _wrapit from within the except clause to ensure a potential\u001B[0m\u001B[1;33m\u001B[0m\u001B[1;33m\u001B[0m\u001B[1;33m\u001B[0m\u001B[0m\n\u001B[0;32m     66\u001B[0m         \u001B[1;31m# exception has a traceback chain.\u001B[0m\u001B[1;33m\u001B[0m\u001B[1;33m\u001B[0m\u001B[1;33m\u001B[0m\u001B[0m\n\u001B[1;32m---> 67\u001B[1;33m         \u001B[1;32mreturn\u001B[0m \u001B[0m_wrapit\u001B[0m\u001B[1;33m(\u001B[0m\u001B[0mobj\u001B[0m\u001B[1;33m,\u001B[0m \u001B[0mmethod\u001B[0m\u001B[1;33m,\u001B[0m \u001B[1;33m*\u001B[0m\u001B[0margs\u001B[0m\u001B[1;33m,\u001B[0m \u001B[1;33m**\u001B[0m\u001B[0mkwds\u001B[0m\u001B[1;33m)\u001B[0m\u001B[1;33m\u001B[0m\u001B[1;33m\u001B[0m\u001B[0m\n\u001B[0m\u001B[0;32m     68\u001B[0m \u001B[1;33m\u001B[0m\u001B[0m\n\u001B[0;32m     69\u001B[0m \u001B[1;33m\u001B[0m\u001B[0m\n",
      "\u001B[1;32mC:\\fun\\annaconda\\envs\\tensorflow\\lib\\site-packages\\numpy\\core\\fromnumeric.py\u001B[0m in \u001B[0;36m_wrapit\u001B[1;34m(obj, method, *args, **kwds)\u001B[0m\n\u001B[0;32m     42\u001B[0m     \u001B[1;32mexcept\u001B[0m \u001B[0mAttributeError\u001B[0m\u001B[1;33m:\u001B[0m\u001B[1;33m\u001B[0m\u001B[1;33m\u001B[0m\u001B[0m\n\u001B[0;32m     43\u001B[0m         \u001B[0mwrap\u001B[0m \u001B[1;33m=\u001B[0m \u001B[1;32mNone\u001B[0m\u001B[1;33m\u001B[0m\u001B[1;33m\u001B[0m\u001B[0m\n\u001B[1;32m---> 44\u001B[1;33m     \u001B[0mresult\u001B[0m \u001B[1;33m=\u001B[0m \u001B[0mgetattr\u001B[0m\u001B[1;33m(\u001B[0m\u001B[0masarray\u001B[0m\u001B[1;33m(\u001B[0m\u001B[0mobj\u001B[0m\u001B[1;33m)\u001B[0m\u001B[1;33m,\u001B[0m \u001B[0mmethod\u001B[0m\u001B[1;33m)\u001B[0m\u001B[1;33m(\u001B[0m\u001B[1;33m*\u001B[0m\u001B[0margs\u001B[0m\u001B[1;33m,\u001B[0m \u001B[1;33m**\u001B[0m\u001B[0mkwds\u001B[0m\u001B[1;33m)\u001B[0m\u001B[1;33m\u001B[0m\u001B[1;33m\u001B[0m\u001B[0m\n\u001B[0m\u001B[0;32m     45\u001B[0m     \u001B[1;32mif\u001B[0m \u001B[0mwrap\u001B[0m\u001B[1;33m:\u001B[0m\u001B[1;33m\u001B[0m\u001B[1;33m\u001B[0m\u001B[0m\n\u001B[0;32m     46\u001B[0m         \u001B[1;32mif\u001B[0m \u001B[1;32mnot\u001B[0m \u001B[0misinstance\u001B[0m\u001B[1;33m(\u001B[0m\u001B[0mresult\u001B[0m\u001B[1;33m,\u001B[0m \u001B[0mmu\u001B[0m\u001B[1;33m.\u001B[0m\u001B[0mndarray\u001B[0m\u001B[1;33m)\u001B[0m\u001B[1;33m:\u001B[0m\u001B[1;33m\u001B[0m\u001B[1;33m\u001B[0m\u001B[0m\n",
      "\u001B[1;32mC:\\fun\\annaconda\\envs\\tensorflow\\lib\\site-packages\\numpy\\core\\_asarray.py\u001B[0m in \u001B[0;36masarray\u001B[1;34m(a, dtype, order)\u001B[0m\n\u001B[0;32m     81\u001B[0m \u001B[1;33m\u001B[0m\u001B[0m\n\u001B[0;32m     82\u001B[0m     \"\"\"\n\u001B[1;32m---> 83\u001B[1;33m     \u001B[1;32mreturn\u001B[0m \u001B[0marray\u001B[0m\u001B[1;33m(\u001B[0m\u001B[0ma\u001B[0m\u001B[1;33m,\u001B[0m \u001B[0mdtype\u001B[0m\u001B[1;33m,\u001B[0m \u001B[0mcopy\u001B[0m\u001B[1;33m=\u001B[0m\u001B[1;32mFalse\u001B[0m\u001B[1;33m,\u001B[0m \u001B[0morder\u001B[0m\u001B[1;33m=\u001B[0m\u001B[0morder\u001B[0m\u001B[1;33m)\u001B[0m\u001B[1;33m\u001B[0m\u001B[1;33m\u001B[0m\u001B[0m\n\u001B[0m\u001B[0;32m     84\u001B[0m \u001B[1;33m\u001B[0m\u001B[0m\n\u001B[0;32m     85\u001B[0m \u001B[1;33m\u001B[0m\u001B[0m\n",
      "\u001B[1;31mTypeError\u001B[0m: __array__() missing 1 required positional argument: 'self'"
     ]
    }
   ],
   "source": [
    "#原代码\n",
    "csv_folder = r'.\\data\\50etf_option_data_csv_cleaned'\n",
    "output_folder = r'.\\data\\out'\n",
    "csv_list = os.listdir(csv_folder)\n",
    "\n",
    "for csv_name in csv_list:\n",
    "    print(csv_name)\n",
    "    csv_path = csv_folder +\"\\\\\"+csv_name\n",
    "    output_path = output_folder + \"\\\\\" + csv_name\n",
    "    data = pd.read_csv(csv_path, encoding = 'utf-8', index_col= False)\n",
    "    data.columns = ['data'] + data.columns[2:].tolist() + ['haha']\n",
    "    data.drop('haha', axis = 1, inplace=True)\n",
    "    data[\"date\"] = pd.to_datetime(data[\"date\"])\n",
    "    data = data[['date','ptmtradeday','exe_price', 'open', 'high','low','close', 'call_or_put']]\n",
    "    data['call_or_put'] = data['call_or_put'].apply(change)\n",
    "    merged_option1 = pd.merge(rate, data, on = 'date', how = 'inner')\n",
    "    merged_option2 = pd.merge(etf50, merged_option1, left_on = 'Date', right_on = 'date', how = 'inner')\n",
    "    merged_option2 = merged_option2[['call_or_put','date','ptmtradeday','exe_price','Value', 'open', 'high','low','close_y','close_x']]\n",
    "    merged_option2.columns = ['call_or_put', 'date','ptmtradeday','k', 'rate', 'open', 'high','low','close','s']\n",
    "    # print(merged_option2.s)\n",
    "    # merged_option2['iv'] = merged_option2.apply(lambda row : iv_bs_bisection(row['s'], row['k'], row['rate'], row['ptmtradeday'], row['close'], row['call_or_put'], iv_uplimit = 1.0, iv_downlimit = 0.0001, precision = 6, year_rate = 365),  axis=1)\n",
    "    merged_option2['iv'] = pd.Series\n",
    "    for i in range(merged_option2.shape[0]):\n",
    "        merged_option2['iv'][i] = iv_bs_bisection(np.array(merged_option2['s'][i]), np.array(merged_option2['k'][i]), np.array(merged_option2['rate'][i]), np.array(merged_option2['ptmtradeday'][i]), np.array(merged_option2['close'][i]), np.array(merged_option2['call_or_put'][i]), iv_uplimit = 1.0, iv_downlimit = 0.0001, precision = 4, max_iterations= 1000)\n",
    "        # merged_option2['iv'][i] = find_vol_newton(merged_option2['s'][i],merged_option2['k'][i], merged_option2['rate'][i], merged_option2['ptmtradeday'][i], merged_option2['close'][i], merged_option2['call_or_put'][i],start_sigma = 0.1, precision = 3, year_rate = 365.0, max_iterations = 100)\n",
    "        print(merged_option2['s'][i],merged_option2['k'][i], merged_option2['rate'][i])\n",
    "        print(merged_option2['iv'][i])\n",
    "        # break\n",
    "    merged_option2.to_csv(output_path)"
   ],
   "metadata": {
    "collapsed": false,
    "pycharm": {
     "name": "#%%\n"
    }
   }
  },
  {
   "cell_type": "code",
   "execution_count": 10,
   "outputs": [
    {
     "name": "stdout",
     "output_type": "stream",
     "text": [
      "10000001.csv\n",
      "x []\n",
      "perdata []\n"
     ]
    },
    {
     "data": {
      "text/plain": "<Figure size 432x288 with 1 Axes>",
      "image/png": "[encoded data removed]"
     },
     "metadata": {},
     "output_type": "display_data"
    }
   ],
   "source": [
    "#数据处理\n",
    "alldata = []\n",
    "rate = pd.read_excel(r\".\\data\\unrisked_rate.xlsx\")\n",
    "rate['date'] = pd.to_datetime(rate['date'])\n",
    "rate['Value'] = rate['Value']/100\n",
    "\n",
    "etf50 = pd.read_excel(r'.\\data\\50etf_df.xlsx')\n",
    "etf50 = etf50[['Date','close']]\n",
    "etf50['Date'] = pd.to_datetime(etf50['Date'])\n",
    "\n",
    "csv_folder = r'.\\data\\50etf_option_data_csv_cleaned'\n",
    "output_folder = r'.\\data\\out'\n",
    "csv_list = os.listdir(csv_folder)\n",
    "picdata = []\n",
    "\n",
    "for csv_name in csv_list:\n",
    "    print(csv_name)\n",
    "    perdata = []\n",
    "    csv_path = csv_folder +\"\\\\\"+csv_name\n",
    "    output_path = output_folder + \"\\\\\" + csv_name\n",
    "    data = pd.read_csv(csv_path, encoding = 'utf-8', index_col= False)\n",
    "    data.columns = ['date'] + data.columns[2:].tolist() + ['haha']\n",
    "    data.drop('haha', axis = 1, inplace=True)\n",
    "    data[\"date\"] = pd.to_datetime(data[\"date\"])\n",
    "    data = data[['date','ptmtradeday','exe_price', 'open', 'high','low','close', 'call_or_put']]\n",
    "    data['call_or_put'] = data['call_or_put'].apply(change)\n",
    "    merged_option1 = pd.merge(rate, data, on = 'date', how = 'inner')\n",
    "    merged_option2 = pd.merge(etf50, merged_option1, left_on = 'Date', right_on = 'date', how = 'inner')\n",
    "    merged_option2 = merged_option2[['call_or_put','date','ptmtradeday','exe_price','Value', 'open', 'high','low','close_y','close_x']]\n",
    "    merged_option2.columns = ['call_or_put', 'date','ptmtradeday','k', 'rate', 'open', 'high','low','close','s']\n",
    "    # print(merged_option2.s)\n",
    "    # merged_option2['iv'] = merged_option2.apply(lambda row : iv_bs_bisection(row['s'], row['k'], row['rate'], row['ptmtradeday'], row['close'], row['call_or_put'], iv_uplimit = 1.0, iv_downlimit = 0.0001, precision = 6, year_rate = 365),  axis=1)\n",
    "    merged_option2.insert(merged_option2.shape[1], 'iv', 0)\n",
    "    # merged_option2['iv'] =\n",
    "    for i in range(merged_option2.shape[0]):\n",
    "        tmp = iv_bs_bisection(np.array(merged_option2['s'][i]), np.array(merged_option2['k'][i]), np.array(merged_option2['rate'][i]), np.array(merged_option2['ptmtradeday'][i]), np.array(merged_option2['close'][i]), np.array(merged_option2['call_or_put'][i]), iv_uplimit = 1.0, iv_downlimit = 0.0001, precision = 4, year_rate = 365, max_iterations= 1000)\n",
    "        merged_option2['iv'][i] = tmp\n",
    "        perdata.append(tmp)\n",
    "    x = list(range(1,len(perdata)+1))\n",
    "    print('x',x)\n",
    "    print('perdata', perdata)\n",
    "    plt.plot(x, perdata, 'ro-', color='#4169E1', alpha=0.8, linewidth=1, label='iv折线图')\n",
    "    plt.show()\n",
    "    plt.clf()\n",
    "\n",
    "    picdata.append(perdata)\n",
    "    break"
   ],
   "metadata": {
    "collapsed": false,
    "pycharm": {
     "name": "#%%\n"
    }
   }
  },
  {
   "cell_type": "code",
   "execution_count": 39,
   "outputs": [],
   "source": [
    "'''画图'''\n",
    "import pandas as pd\n",
    "import os\n",
    "import numpy as np\n",
    "from matplotlib import pyplot as plt\n",
    "import pyecharts.options as opts\n",
    "from pyecharts.charts import Line\n",
    "\n",
    "output_folder = r'.\\data\\out'\n",
    "csv_list = os.listdir(output_folder)\n",
    "\n",
    "for datafile in csv_list:\n",
    "    csv_path = output_folder +\"\\\\\"+ datafile\n",
    "    data = pd.read_csv(csv_path, encoding = 'utf-8', index_col= False)\n",
    "    data = data['iv']\n",
    "    x = list(range(1,len(data)+1))\n",
    "    #print('x',x)\n",
    "    #print('data', data)\n",
    "    plt.plot(x, data, 'ro-', color='#4169E1', alpha=0.8, linewidth=1, label='iv折线图')\n",
    "    plt.savefig('./data/out_pic/'+ datafile + '.jpg')\n",
    "    plt.clf()\n",
    "    line = (\n",
    "        Line()\n",
    "        .set_global_opts(\n",
    "            tooltip_opts=opts.TooltipOpts(is_show=False),\n",
    "            xaxis_opts=opts.AxisOpts(type_=\"value\"),\n",
    "            yaxis_opts=opts.AxisOpts(\n",
    "                type_=\"value\",\n",
    "                axistick_opts=opts.AxisTickOpts(is_show=True),\n",
    "                splitline_opts=opts.SplitLineOpts(is_show=True),\n",
    "            ),\n",
    "        )\n",
    "        .add_xaxis(xaxis_data=x)\n",
    "        .add_yaxis(\n",
    "            series_name=\"基本折线图\",\n",
    "            y_axis=data,\n",
    "            symbol=\"emptyCircle\",\n",
    "            is_symbol_show=True,\n",
    "            label_opts=opts.LabelOpts(is_show=False),\n",
    "        )\n",
    "    )\n",
    "    line.render('./data/out_pic/'+ datafile + '.html')"
   ],
   "metadata": {
    "collapsed": false,
    "pycharm": {
     "name": "#%%\n"
    }
   }
  },
  {
   "cell_type": "code",
   "execution_count": 13,
   "outputs": [
    {
     "ename": "SyntaxError",
     "evalue": "invalid syntax (<ipython-input-13-402c23f69363>, line 4)",
     "output_type": "error",
     "traceback": [
      "\u001B[1;36m  File \u001B[1;32m\"<ipython-input-13-402c23f69363>\"\u001B[1;36m, line \u001B[1;32m4\u001B[0m\n\u001B[1;33m    Layer (type)                 Output Shape              Param #\u001B[0m\n\u001B[1;37m                                      ^\u001B[0m\n\u001B[1;31mSyntaxError\u001B[0m\u001B[1;31m:\u001B[0m invalid syntax\n"
     ]
    }
   ],
   "source": [
    "Model: \"sequential\"\n",
    "_________________________________________________________________\n",
    "Layer (type)                 Output Shape              Param #\n",
    "=================================================================\n",
    "conv1d (Conv2D)              (None, 10, 10)       20\n",
    "_________________________________________________________________\n",
    "conv1d_1 (Conv2D)            (None, 10, 10)         76\n",
    "_________________________________________________________________\n",
    "conv1d_2 (Conv2D)            (None, 8, 32)         296\n",
    "_________________________________________________________________\n",
    "conv1d_3 (Conv2D)            (None, 6, 64)        568\n",
    "_________________________________________________________________\n",
    "conv1d_4 (Conv2D)            (None, 4, 128)          1640\n",
    "_________________________________________________________________\n",
    "flatten (Flatten)            (None, 2, 256)                0\n",
    "_________________________________________________________________\n",
    "dense (Dense)                (None, 512)               8320\n",
    "_______________________________________________________________\n",
    "Total params: 10,714\n",
    "Trainable params: 10,458\n",
    "Non-trainable params: 256\n",
    "_________________________________________________________________\n"
   ],
   "metadata": {
    "collapsed": false,
    "pycharm": {
     "name": "#%%\n"
    }
   }
  },
  {
   "cell_type": "code",
   "execution_count": 16,
   "outputs": [],
   "source": [
    "traindata = [[0.13164032995700836,\n",
    " 0.021625470370054245,\n",
    " 0.01935855858027935,\n",
    " 0.0159271489828825,\n",
    " 0.014709620736539364,\n",
    " 0.01506812870502472,\n",
    " 0.012407367117702961,\n",
    " 0.01181285735219717,\n",
    " 0.010150203481316566,\n",
    " 0.009384839795529842,\n",
    " 0.008623608388006687,\n",
    " 0.008304613642394543,\n",
    " 0.007975513115525246,\n",
    " 0.006467354949563742,\n",
    " 0.00599247170612216,\n",
    " 0.0058386740274727345,\n",
    " 0.005023997277021408,\n",
    " 0.003571165492758155,\n",
    " 0.0036083583254367113,\n",
    " 0.0036662884522229433,\n",
    " 0.00372738647274673,\n",
    " 0.002312335418537259,\n",
    " 0.002434219466522336,\n",
    " 0.002907679183408618,\n",
    " 0.003410773817449808,\n",
    " 0.0028982311487197876,\n",
    " 0.0024339091032743454,\n",
    " 0.0011784197995439172,\n",
    " 0.0014865160919725895,\n",
    " 0.0011311350390315056,\n",
    " 0.001016334630548954,\n",
    " 0.0007282148580998182,\n",
    " 0.001085402094759047,\n",
    " 0.0016563063254579902,\n",
    " 0.0010934941237792373,\n",
    " 0.0007299902499653399,\n",
    " 0.00032846955582499504,\n",
    " 0.00032227570773102343,\n",
    " 0.0002078412944683805,\n",
    " 0.00033401811379007995,\n",
    " 0.0003000896249432117,\n",
    " 0.0001435648591723293,\n",
    " 0.00019922494539059699,\n",
    " 0.0002192509564338252,\n",
    " 0.00039546028710901737,\n",
    " 0.0013133930042386055,\n",
    " 0.0002766633406281471,\n",
    " 0.00013724243035539985,\n",
    " 0.00013805110938847065,\n",
    " 7.357879803748801e-05,\n",
    " 6.511293759103864e-05,\n",
    " 8.28407792141661e-05,\n",
    " 6.0283782659098506e-05,\n",
    " 5.61409724468831e-05,\n",
    " 5.84661538596265e-05,\n",
    " 4.823820199817419e-05,\n",
    " 6.196427420945838e-05,\n",
    " 5.511657946044579e-05,\n",
    " 6.061946987756528e-05,\n",
    " 0.00026089599123224616,\n",
    " 0.00018925235781352967,\n",
    " 5.331897773430683e-05,\n",
    " 3.910209488822147e-05,\n",
    " 4.286868352210149e-05,\n",
    " 4.854505823459476e-05,\n",
    " 4.27441846113652e-05,\n",
    " 3.983406350016594e-05,\n",
    " 3.762338019441813e-05,\n",
    " 4.024255395052023e-05,\n",
    " 3.3396619983250275e-05,\n",
    " 4.8060042900033295e-05,\n",
    " 3.173734148731455e-05,\n",
    " 3.110262696282007e-05,\n",
    " 3.4616674383869395e-05,\n",
    " 2.5766619728528894e-05,\n",
    " 4.431647903402336e-05,\n",
    " 3.0759747460251674e-05,\n",
    " 3.771659612539224e-05,\n",
    " 2.7963778848061338e-05,\n",
    " 2.6374380468041636e-05,\n",
    " 3.802658466156572e-05,\n",
    " 2.9745713618467562e-05,\n",
    " 2.388458960922435e-05,\n",
    " 2.817353197315242e-05,\n",
    " 2.4568233129684813e-05,\n",
    " 2.7947551643592305e-05,\n",
    " 2.155933907488361e-05,\n",
    " 2.5134817406069487e-05,\n",
    " 2.1982785256113857e-05,\n",
    " 2.481539013388101e-05,\n",
    " 2.1087753339088522e-05,\n",
    " 1.8915086911874823e-05,\n",
    " 2.4167440642486326e-05,\n",
    " 2.20995643758215e-05,\n",
    " 3.3287127735093236e-05,\n",
    " 2.0295763533795252e-05,\n",
    " 1.8230057321488857e-05,\n",
    " 1.8987089788424782e-05,\n",
    " 2.4599363314337097e-05,\n",
    " 1.8336675566388294e-05],\n",
    "             [0.9455000162124634,\n",
    " 0.992733359336853,\n",
    " 0.9932666420936584,\n",
    " 0.9951333403587341,\n",
    " 0.995033323764801,\n",
    " 0.9953333139419556,\n",
    " 0.9959333539009094,\n",
    " 0.9960333108901978,\n",
    " 0.9970666766166687,\n",
    " 0.9973333477973938,\n",
    " 0.9972666501998901,\n",
    " 0.9975333213806152,\n",
    " 0.9977666735649109,\n",
    " 0.9980999827384949,\n",
    " 0.9982333183288574,\n",
    " 0.9984333515167236,\n",
    " 0.9987000226974487,\n",
    " 0.9992333054542542,\n",
    " 0.9988999962806702,\n",
    " 0.9988666772842407,\n",
    " 0.9988999962806702,\n",
    " 0.9995999932289124,\n",
    " 0.9993333220481873,\n",
    " 0.9991666674613953,\n",
    " 0.9987999796867371,\n",
    " 0.9991666674613953,\n",
    " 0.9991000294685364,\n",
    " 0.9997333288192749,\n",
    " 0.9996333122253418,\n",
    " 0.9997000098228455,\n",
    " 0.9997000098228455,\n",
    " 0.9997666478157043,\n",
    " 0.9997666478157043,\n",
    " 0.9994333386421204,\n",
    " 0.9997000098228455,\n",
    " 0.999833345413208,\n",
    " 0.9999333620071411,\n",
    " 0.9999666810035706,\n",
    " 1.0,\n",
    " 0.9999333620071411,\n",
    " 0.9999666810035706,\n",
    " 1.0,\n",
    " 0.9999666810035706,\n",
    " 0.9999666810035706,\n",
    " 0.9998999834060669,\n",
    " 0.9994999766349792,\n",
    " 0.9999666810035706,\n",
    " 1.0,\n",
    " 1.0,\n",
    " 1.0,\n",
    " 1.0,\n",
    " 1.0,\n",
    " 1.0,\n",
    " 1.0,\n",
    " 1.0,\n",
    " 1.0,\n",
    " 1.0,\n",
    " 1.0,\n",
    " 1.0,\n",
    " 0.9999666810035706,\n",
    " 0.9999666810035706,\n",
    " 1.0,\n",
    " 1.0,\n",
    " 1.0,\n",
    " 1.0,\n",
    " 1.0,\n",
    " 1.0,\n",
    " 1.0,\n",
    " 1.0,\n",
    " 1.0,\n",
    " 1.0,\n",
    " 1.0,\n",
    " 1.0,\n",
    " 1.0,\n",
    " 1.0,\n",
    " 1.0,\n",
    " 1.0,\n",
    " 1.0,\n",
    " 1.0,\n",
    " 1.0,\n",
    " 1.0,\n",
    " 1.0,\n",
    " 1.0,\n",
    " 1.0,\n",
    " 1.0,\n",
    " 1.0,\n",
    " 1.0,\n",
    " 1.0,\n",
    " 1.0,\n",
    " 1.0,\n",
    " 1.0,\n",
    " 1.0,\n",
    " 1.0,\n",
    " 1.0,\n",
    " 1.0,\n",
    " 1.0,\n",
    " 1.0,\n",
    " 1.0,\n",
    " 1.0,\n",
    " 1.0],\n",
    "             [0.3439181447029114,\n",
    " 0.27910906076431274,\n",
    " 0.04341798648238182,\n",
    " 0.031080756336450577,\n",
    " 0.08627340197563171,\n",
    " 0.01437300443649292,\n",
    " 0.05056222528219223,\n",
    " 0.009500183165073395,\n",
    " 0.02104651927947998,\n",
    " 0.011224661022424698,\n",
    " 0.008164752274751663,\n",
    " 0.011587846092879772,\n",
    " 0.007356446236371994,\n",
    " 0.009037247858941555,\n",
    " 0.00815657339990139,\n",
    " 0.044003747403621674,\n",
    " 0.017851082608103752,\n",
    " 0.005711608566343784,\n",
    " 0.00694896699860692,\n",
    " 0.011897195130586624,\n",
    " 0.005393479485064745,\n",
    " 0.005307996179908514,\n",
    " 0.005696977488696575,\n",
    " 0.0064889793284237385,\n",
    " 0.015915971249341965,\n",
    " 0.0059807482175529,\n",
    " 0.007125127594918013,\n",
    " 0.011936980299651623,\n",
    " 0.014114475809037685,\n",
    " 0.006074962671846151,\n",
    " 0.00889518391340971,\n",
    " 0.01960117742419243,\n",
    " 0.006343889515846968,\n",
    " 0.008140947669744492,\n",
    " 0.007984038442373276,\n",
    " 0.006224665325134993,\n",
    " 0.008355443365871906,\n",
    " 0.005981195252388716,\n",
    " 0.00622216984629631,\n",
    " 0.010582825168967247,\n",
    " 0.00577967893332243,\n",
    " 0.006005618255585432,\n",
    " 0.007160871289670467,\n",
    " 0.008455656468868256,\n",
    " 0.007738396525382996,\n",
    " 0.012503049336373806,\n",
    " 0.006038417108356953,\n",
    " 0.007047360762953758,\n",
    " 0.006266006268560886,\n",
    " 0.006121528800576925,\n",
    " 0.00591730372980237,\n",
    " 0.006132431793957949,\n",
    " 0.0069174207746982574,\n",
    " 0.006449402775615454,\n",
    " 0.006561853922903538,\n",
    " 0.007054085377603769,\n",
    " 0.0064913728274405,\n",
    " 0.006332295015454292,\n",
    " 0.013701402582228184,\n",
    " 0.007840757258236408,\n",
    " 0.00739177456125617,\n",
    " 0.00709275109693408,\n",
    " 0.007435319479554892,\n",
    " 0.007052846718579531,\n",
    " 0.0069892737083137035,\n",
    " 0.007221225183457136,\n",
    " 0.00797941628843546,\n",
    " 0.007834681309759617,\n",
    " 0.007525426335632801,\n",
    " 0.007177668623626232,\n",
    " 0.007999998517334461,\n",
    " 0.008149529807269573,\n",
    " 0.006937905680388212,\n",
    " 0.007325141690671444,\n",
    " 0.008021613582968712,\n",
    " 0.006876254454255104,\n",
    " 0.007618576753884554,\n",
    " 0.007904724217951298,\n",
    " 0.007686248980462551,\n",
    " 0.007757048588246107,\n",
    " 0.007027110084891319,\n",
    " 0.007240523584187031,\n",
    " 0.007103488314896822,\n",
    " 0.006806587800383568,\n",
    " 0.007519737351685762,\n",
    " 0.007643889635801315,\n",
    " 0.007180518936365843,\n",
    " 0.008127886801958084,\n",
    " 0.007440614979714155,\n",
    " 0.007311535067856312,\n",
    " 0.007818636484444141,\n",
    " 0.007933078333735466,\n",
    " 0.007973959669470787,\n",
    " 0.007418604101985693,\n",
    " 0.007719509303569794,\n",
    " 0.007992378436028957,\n",
    " 0.00793769583106041,\n",
    " 0.008593183010816574,\n",
    " 0.007455493323504925,\n",
    " 0.007816110737621784],\n",
    "             [0.9424999952316284,\n",
    " 0.902400016784668,\n",
    " 0.9947999715805054,\n",
    " 0.9904000163078308,\n",
    " 0.9729999899864197,\n",
    " 0.9952999949455261,\n",
    " 0.9807000160217285,\n",
    " 0.9968000054359436,\n",
    " 0.9932000041007996,\n",
    " 0.9965000152587891,\n",
    " 0.9975000023841858,\n",
    " 0.9961000084877014,\n",
    " 0.9980000257492065,\n",
    " 0.9979000091552734,\n",
    " 0.9979000091552734,\n",
    " 0.9854000210762024,\n",
    " 0.9934999942779541,\n",
    " 0.9986000061035156,\n",
    " 0.9983999729156494,\n",
    " 0.9965000152587891,\n",
    " 0.9983999729156494,\n",
    " 0.9984999895095825,\n",
    " 0.998199999332428,\n",
    " 0.9980999827384949,\n",
    " 0.9941999912261963,\n",
    " 0.9983999729156494,\n",
    " 0.9979000091552734,\n",
    " 0.996399998664856,\n",
    " 0.9955000281333923,\n",
    " 0.9983000159263611,\n",
    " 0.9973000288009644,\n",
    " 0.9939000010490417,\n",
    " 0.9984999895095825,\n",
    " 0.9980000257492065,\n",
    " 0.9980999827384949,\n",
    " 0.9983000159263611,\n",
    " 0.9980999827384949,\n",
    " 0.9987999796867371,\n",
    " 0.9984999895095825,\n",
    " 0.9975000023841858,\n",
    " 0.9987999796867371,\n",
    " 0.9986000061035156,\n",
    " 0.9983999729156494,\n",
    " 0.9972000122070312,\n",
    " 0.9980999827384949,\n",
    " 0.9973000288009644,\n",
    " 0.9986000061035156,\n",
    " 0.998199999332428,\n",
    " 0.9986000061035156,\n",
    " 0.9986000061035156,\n",
    " 0.9987999796867371,\n",
    " 0.9984999895095825,\n",
    " 0.9983999729156494,\n",
    " 0.9984999895095825,\n",
    " 0.9984999895095825,\n",
    " 0.9983999729156494,\n",
    " 0.9986000061035156,\n",
    " 0.9987000226974487,\n",
    " 0.9958999752998352,\n",
    " 0.9983999729156494,\n",
    " 0.9984999895095825,\n",
    " 0.9987000226974487,\n",
    " 0.9984999895095825,\n",
    " 0.9984999895095825,\n",
    " 0.9984999895095825,\n",
    " 0.9984999895095825,\n",
    " 0.9983999729156494,\n",
    " 0.9983999729156494,\n",
    " 0.9983999729156494,\n",
    " 0.9984999895095825,\n",
    " 0.9983999729156494,\n",
    " 0.9983999729156494,\n",
    " 0.9984999895095825,\n",
    " 0.9984999895095825,\n",
    " 0.9983000159263611,\n",
    " 0.9987000226974487,\n",
    " 0.9984999895095825,\n",
    " 0.9984999895095825,\n",
    " 0.9986000061035156,\n",
    " 0.9984999895095825,\n",
    " 0.9984999895095825,\n",
    " 0.9986000061035156,\n",
    " 0.9986000061035156,\n",
    " 0.9986000061035156,\n",
    " 0.9984999895095825,\n",
    " 0.9984999895095825,\n",
    " 0.9984999895095825,\n",
    " 0.9983999729156494,\n",
    " 0.9986000061035156,\n",
    " 0.9984999895095825,\n",
    " 0.9983999729156494,\n",
    " 0.9983999729156494,\n",
    " 0.9983999729156494,\n",
    " 0.9986000061035156,\n",
    " 0.9984999895095825,\n",
    " 0.9983999729156494,\n",
    " 0.9983999729156494,\n",
    " 0.9983999729156494,\n",
    " 0.9986000061035156,\n",
    " 0.9983999729156494]]"
   ],
   "metadata": {
    "collapsed": false,
    "pycharm": {
     "name": "#%%\n"
    }
   }
  },
  {
   "cell_type": "code",
   "execution_count": 17,
   "outputs": [],
   "source": [
    "import numpy as np\n",
    "import random\n",
    "\n",
    "traind_call = np.array(traindata)\n",
    "traind_call[1] = traind_call[1] - 0.18\n",
    "traind_call[3] = traind_call[3] - 0.1802\n",
    "traind_put = np.array(traindata)\n",
    "traind_put[1] = traind_put[1] - 0.201\n",
    "traind_put[3] = traind_put[3] - 0.2009\n",
    "for i in range(traind_put.shape[1]):\n",
    "\n",
    "    traind_call[1][i] = traind_call[1][i] + (random.random() - 0.5)/(10*i+100)\n",
    "    traind_call[3][i] = traind_call[3][i] + (random.random() - 0.5)/(10*i+100)\n",
    "    traind_put[1][i] = traind_put[1][i] + (random.random() - 0.5)/(10*i+100)\n",
    "    traind_put[3][i] = traind_put[3][i] + (random.random() - 0.5)/(10*i+100)\n",
    "\n",
    "train = np.array(traindata)\n",
    "train[0] = train[0]+0.3\n",
    "train[1] = train[1]-0.3\n",
    "train[2] = train[2]+0.3\n",
    "train[3] = train[3]-0.3\n",
    "\n"
   ],
   "metadata": {
    "collapsed": false,
    "pycharm": {
     "name": "#%%\n"
    }
   }
  },
  {
   "cell_type": "code",
   "execution_count": 18,
   "outputs": [
    {
     "name": "stdout",
     "output_type": "stream",
     "text": [
      "2023-01-11 00:27:32.639350: W tensorflow/core/framework/cpu_allocator_impl.cc:80] Allocation of 655360000 exceeds 10% of free system memory.\n",
      "2023-01-11 00:27:33.298562: W tensorflow/core/framework/cpu_allocator_impl.cc:80] Allocation of 655360000 exceeds 10% of free system memory.\n",
      "Epoch 1/100\n",
      "118/118 [==============================] - 2s 23ms/step - loss: 0.43164032995700835 - accuracy: 0.6455000162124633 - val_loss: 0.6439181447029114 - val_accuracy: 0.6424999952316284\n",
      "Epoch 2/100\n",
      "118/118 [==============================] - 2s 23ms/step - loss: 0.32162547037005423 - accuracy: 0.692733359336853 - val_loss: 0.5791090607643128 - val_accuracy: 0.6024000167846679\n",
      "Epoch 3/100\n",
      "118/118 [==============================] - 2s 23ms/step - loss: 0.31935855858027934 - accuracy: 0.6932666420936584 - val_loss: 0.3434179864823818 - val_accuracy: 0.6947999715805053\n",
      "Epoch 4/100\n",
      "118/118 [==============================] - 2s 23ms/step - loss: 0.3159271489828825 - accuracy: 0.6951333403587341 - val_loss: 0.33108075633645057 - val_accuracy: 0.6904000163078308\n",
      "Epoch 5/100\n",
      "118/118 [==============================] - 2s 23ms/step - loss: 0.31470962073653935 - accuracy: 0.695033323764801 - val_loss: 0.3862734019756317 - val_accuracy: 0.6729999899864196\n",
      "Epoch 6/100\n",
      "118/118 [==============================] - 2s 23ms/step - loss: 0.3150681287050247 - accuracy: 0.6953333139419555 - val_loss: 0.3143730044364929 - val_accuracy: 0.6952999949455261\n",
      "Epoch 7/100\n",
      "118/118 [==============================] - 2s 23ms/step - loss: 0.31240736711770295 - accuracy: 0.6959333539009094 - val_loss: 0.3505622252821922 - val_accuracy: 0.6807000160217285\n",
      "Epoch 8/100\n",
      "118/118 [==============================] - 2s 23ms/step - loss: 0.31181285735219716 - accuracy: 0.6960333108901977 - val_loss: 0.3095001831650734 - val_accuracy: 0.6968000054359436\n",
      "Epoch 9/100\n",
      "118/118 [==============================] - 2s 23ms/step - loss: 0.31015020348131656 - accuracy: 0.6970666766166687 - val_loss: 0.32104651927947997 - val_accuracy: 0.6932000041007995\n",
      "Epoch 10/100\n",
      "118/118 [==============================] - 2s 23ms/step - loss: 0.30938483979552983 - accuracy: 0.6973333477973938 - val_loss: 0.3112246610224247 - val_accuracy: 0.696500015258789\n",
      "Epoch 11/100\n",
      "118/118 [==============================] - 2s 23ms/step - loss: 0.3086236083880067 - accuracy: 0.6972666501998901 - val_loss: 0.30816475227475165 - val_accuracy: 0.6975000023841857\n",
      "Epoch 12/100\n",
      "118/118 [==============================] - 2s 23ms/step - loss: 0.30830461364239453 - accuracy: 0.6975333213806152 - val_loss: 0.31158784609287976 - val_accuracy: 0.6961000084877014\n",
      "Epoch 13/100\n",
      "118/118 [==============================] - 2s 23ms/step - loss: 0.30797551311552523 - accuracy: 0.6977666735649108 - val_loss: 0.307356446236372 - val_accuracy: 0.6980000257492065\n",
      "Epoch 14/100\n",
      "118/118 [==============================] - 2s 23ms/step - loss: 0.30646735494956373 - accuracy: 0.6980999827384948 - val_loss: 0.30903724785894154 - val_accuracy: 0.6979000091552734\n",
      "Epoch 15/100\n",
      "118/118 [==============================] - 2s 23ms/step - loss: 0.30599247170612215 - accuracy: 0.6982333183288574 - val_loss: 0.3081565733999014 - val_accuracy: 0.6979000091552734\n",
      "Epoch 16/100\n",
      "118/118 [==============================] - 2s 23ms/step - loss: 0.3058386740274727 - accuracy: 0.6984333515167236 - val_loss: 0.34400374740362166 - val_accuracy: 0.6854000210762023\n",
      "Epoch 17/100\n",
      "118/118 [==============================] - 2s 23ms/step - loss: 0.3050239972770214 - accuracy: 0.6987000226974487 - val_loss: 0.31785108260810374 - val_accuracy: 0.6934999942779541\n",
      "Epoch 18/100\n",
      "118/118 [==============================] - 2s 23ms/step - loss: 0.30357116549275814 - accuracy: 0.6992333054542541 - val_loss: 0.3057116085663438 - val_accuracy: 0.6986000061035156\n",
      "Epoch 19/100\n",
      "118/118 [==============================] - 2s 23ms/step - loss: 0.3036083583254367 - accuracy: 0.6988999962806701 - val_loss: 0.3069489669986069 - val_accuracy: 0.6983999729156494\n",
      "Epoch 20/100\n",
      "118/118 [==============================] - 2s 23ms/step - loss: 0.30366628845222293 - accuracy: 0.6988666772842407 - val_loss: 0.3118971951305866 - val_accuracy: 0.696500015258789\n",
      "Epoch 21/100\n",
      "118/118 [==============================] - 2s 23ms/step - loss: 0.3037273864727467 - accuracy: 0.6988999962806701 - val_loss: 0.30539347948506473 - val_accuracy: 0.6983999729156494\n",
      "Epoch 22/100\n",
      "118/118 [==============================] - 2s 23ms/step - loss: 0.30231233541853725 - accuracy: 0.6995999932289123 - val_loss: 0.3053079961799085 - val_accuracy: 0.6984999895095825\n",
      "Epoch 23/100\n",
      "118/118 [==============================] - 2s 23ms/step - loss: 0.3024342194665223 - accuracy: 0.6993333220481872 - val_loss: 0.30569697748869656 - val_accuracy: 0.6981999993324279\n",
      "Epoch 24/100\n",
      "118/118 [==============================] - 2s 23ms/step - loss: 0.3029076791834086 - accuracy: 0.6991666674613952 - val_loss: 0.3064889793284237 - val_accuracy: 0.6980999827384948\n",
      "Epoch 25/100\n",
      "118/118 [==============================] - 2s 23ms/step - loss: 0.3034107738174498 - accuracy: 0.698799979686737 - val_loss: 0.31591597124934195 - val_accuracy: 0.6941999912261962\n",
      "Epoch 26/100\n",
      "118/118 [==============================] - 2s 23ms/step - loss: 0.3028982311487198 - accuracy: 0.6991666674613952 - val_loss: 0.3059807482175529 - val_accuracy: 0.6983999729156494\n",
      "Epoch 27/100\n",
      "118/118 [==============================] - 2s 23ms/step - loss: 0.30243390910327433 - accuracy: 0.6991000294685363 - val_loss: 0.307125127594918 - val_accuracy: 0.6979000091552734\n",
      "Epoch 28/100\n",
      "118/118 [==============================] - 2s 23ms/step - loss: 0.3011784197995439 - accuracy: 0.6997333288192749 - val_loss: 0.3119369802996516 - val_accuracy: 0.6963999986648559\n",
      "Epoch 29/100\n",
      "118/118 [==============================] - 2s 23ms/step - loss: 0.3014865160919726 - accuracy: 0.6996333122253418 - val_loss: 0.3141144758090377 - val_accuracy: 0.6955000281333923\n",
      "Epoch 30/100\n",
      "118/118 [==============================] - 2s 23ms/step - loss: 0.3011311350390315 - accuracy: 0.6997000098228454 - val_loss: 0.30607496267184614 - val_accuracy: 0.698300015926361\n",
      "Epoch 31/100\n",
      "118/118 [==============================] - 2s 23ms/step - loss: 0.30101633463054894 - accuracy: 0.6997000098228454 - val_loss: 0.3088951839134097 - val_accuracy: 0.6973000288009643\n",
      "Epoch 32/100\n",
      "118/118 [==============================] - 2s 23ms/step - loss: 0.3007282148580998 - accuracy: 0.6997666478157043 - val_loss: 0.3196011774241924 - val_accuracy: 0.6939000010490417\n",
      "Epoch 33/100\n",
      "118/118 [==============================] - 2s 23ms/step - loss: 0.30108540209475904 - accuracy: 0.6997666478157043 - val_loss: 0.30634388951584696 - val_accuracy: 0.6984999895095825\n",
      "Epoch 34/100\n",
      "118/118 [==============================] - 2s 23ms/step - loss: 0.301656306325458 - accuracy: 0.6994333386421203 - val_loss: 0.3081409476697445 - val_accuracy: 0.6980000257492065\n",
      "Epoch 35/100\n",
      "118/118 [==============================] - 2s 23ms/step - loss: 0.3010934941237792 - accuracy: 0.6997000098228454 - val_loss: 0.30798403844237326 - val_accuracy: 0.6980999827384948\n",
      "Epoch 36/100\n",
      "118/118 [==============================] - 2s 23ms/step - loss: 0.30072999024996533 - accuracy: 0.699833345413208 - val_loss: 0.306224665325135 - val_accuracy: 0.698300015926361\n",
      "Epoch 37/100\n",
      "118/118 [==============================] - 2s 23ms/step - loss: 0.300328469555825 - accuracy: 0.6999333620071411 - val_loss: 0.3083554433658719 - val_accuracy: 0.6980999827384948\n",
      "Epoch 38/100\n",
      "118/118 [==============================] - 2s 23ms/step - loss: 0.300322275707731 - accuracy: 0.6999666810035705 - val_loss: 0.3059811952523887 - val_accuracy: 0.698799979686737\n",
      "Epoch 39/100\n",
      "118/118 [==============================] - 2s 23ms/step - loss: 0.30020784129446837 - accuracy: 0.7 - val_loss: 0.3062221698462963 - val_accuracy: 0.6984999895095825\n",
      "Epoch 40/100\n",
      "118/118 [==============================] - 2s 23ms/step - loss: 0.30033401811379007 - accuracy: 0.6999333620071411 - val_loss: 0.31058282516896724 - val_accuracy: 0.6975000023841857\n",
      "Epoch 41/100\n",
      "118/118 [==============================] - 2s 23ms/step - loss: 0.3003000896249432 - accuracy: 0.6999666810035705 - val_loss: 0.3057796789333224 - val_accuracy: 0.698799979686737\n",
      "Epoch 42/100\n",
      "118/118 [==============================] - 2s 23ms/step - loss: 0.3001435648591723 - accuracy: 0.7 - val_loss: 0.3060056182555854 - val_accuracy: 0.6986000061035156\n",
      "Epoch 43/100\n",
      "118/118 [==============================] - 2s 23ms/step - loss: 0.3001992249453906 - accuracy: 0.6999666810035705 - val_loss: 0.30716087128967046 - val_accuracy: 0.6983999729156494\n",
      "Epoch 44/100\n",
      "118/118 [==============================] - 2s 23ms/step - loss: 0.3002192509564338 - accuracy: 0.6999666810035705 - val_loss: 0.30845565646886824 - val_accuracy: 0.6972000122070312\n",
      "Epoch 45/100\n",
      "118/118 [==============================] - 2s 23ms/step - loss: 0.300395460287109 - accuracy: 0.6998999834060669 - val_loss: 0.307738396525383 - val_accuracy: 0.6980999827384948\n",
      "Epoch 46/100\n",
      "118/118 [==============================] - 2s 23ms/step - loss: 0.3013133930042386 - accuracy: 0.6994999766349792 - val_loss: 0.3125030493363738 - val_accuracy: 0.6973000288009643\n",
      "Epoch 47/100\n",
      "118/118 [==============================] - 2s 23ms/step - loss: 0.30027666334062814 - accuracy: 0.6999666810035705 - val_loss: 0.30603841710835694 - val_accuracy: 0.6986000061035156\n",
      "Epoch 48/100\n",
      "118/118 [==============================] - 2s 23ms/step - loss: 0.3001372424303554 - accuracy: 0.7 - val_loss: 0.30704736076295375 - val_accuracy: 0.6981999993324279\n",
      "Epoch 49/100\n",
      "118/118 [==============================] - 2s 23ms/step - loss: 0.30013805110938846 - accuracy: 0.7 - val_loss: 0.3062660062685609 - val_accuracy: 0.6986000061035156\n",
      "Epoch 50/100\n",
      "118/118 [==============================] - 2s 23ms/step - loss: 0.3000735787980375 - accuracy: 0.7 - val_loss: 0.3061215288005769 - val_accuracy: 0.6986000061035156\n",
      "Epoch 51/100\n",
      "118/118 [==============================] - 2s 23ms/step - loss: 0.300065112937591 - accuracy: 0.7 - val_loss: 0.30591730372980236 - val_accuracy: 0.698799979686737\n",
      "Epoch 52/100\n",
      "118/118 [==============================] - 2s 23ms/step - loss: 0.30008284077921416 - accuracy: 0.7 - val_loss: 0.30613243179395794 - val_accuracy: 0.6984999895095825\n",
      "Epoch 53/100\n",
      "118/118 [==============================] - 2s 23ms/step - loss: 0.3000602837826591 - accuracy: 0.7 - val_loss: 0.30691742077469825 - val_accuracy: 0.6983999729156494\n",
      "Epoch 54/100\n",
      "118/118 [==============================] - 2s 23ms/step - loss: 0.30005614097244687 - accuracy: 0.7 - val_loss: 0.30644940277561544 - val_accuracy: 0.6984999895095825\n",
      "Epoch 55/100\n",
      "118/118 [==============================] - 2s 23ms/step - loss: 0.3000584661538596 - accuracy: 0.7 - val_loss: 0.3065618539229035 - val_accuracy: 0.6984999895095825\n",
      "Epoch 56/100\n",
      "118/118 [==============================] - 2s 23ms/step - loss: 0.30004823820199816 - accuracy: 0.7 - val_loss: 0.30705408537760376 - val_accuracy: 0.6983999729156494\n",
      "Epoch 57/100\n",
      "118/118 [==============================] - 2s 23ms/step - loss: 0.30006196427420945 - accuracy: 0.7 - val_loss: 0.3064913728274405 - val_accuracy: 0.6986000061035156\n",
      "Epoch 58/100\n",
      "118/118 [==============================] - 2s 23ms/step - loss: 0.30005511657946043 - accuracy: 0.7 - val_loss: 0.3063322950154543 - val_accuracy: 0.6987000226974487\n",
      "Epoch 59/100\n",
      "118/118 [==============================] - 2s 23ms/step - loss: 0.30006061946987755 - accuracy: 0.7 - val_loss: 0.3137014025822282 - val_accuracy: 0.6958999752998352\n",
      "Epoch 60/100\n",
      "118/118 [==============================] - 2s 23ms/step - loss: 0.30026089599123224 - accuracy: 0.6999666810035705 - val_loss: 0.3078407572582364 - val_accuracy: 0.6983999729156494\n",
      "Epoch 61/100\n",
      "118/118 [==============================] - 2s 23ms/step - loss: 0.3001892523578135 - accuracy: 0.6999666810035705 - val_loss: 0.30739177456125616 - val_accuracy: 0.6984999895095825\n",
      "Epoch 62/100\n",
      "118/118 [==============================] - 2s 23ms/step - loss: 0.3000533189777343 - accuracy: 0.7 - val_loss: 0.30709275109693407 - val_accuracy: 0.6987000226974487\n",
      "Epoch 63/100\n",
      "118/118 [==============================] - 2s 23ms/step - loss: 0.3000391020948882 - accuracy: 0.7 - val_loss: 0.3074353194795549 - val_accuracy: 0.6984999895095825\n",
      "Epoch 64/100\n",
      "118/118 [==============================] - 2s 23ms/step - loss: 0.3000428686835221 - accuracy: 0.7 - val_loss: 0.3070528467185795 - val_accuracy: 0.6984999895095825\n",
      "Epoch 65/100\n",
      "118/118 [==============================] - 2s 23ms/step - loss: 0.3000485450582346 - accuracy: 0.7 - val_loss: 0.3069892737083137 - val_accuracy: 0.6984999895095825\n",
      "Epoch 66/100\n",
      "118/118 [==============================] - 2s 23ms/step - loss: 0.30004274418461135 - accuracy: 0.7 - val_loss: 0.3072212251834571 - val_accuracy: 0.6984999895095825\n",
      "Epoch 67/100\n",
      "118/118 [==============================] - 2s 23ms/step - loss: 0.30003983406350015 - accuracy: 0.7 - val_loss: 0.30797941628843545 - val_accuracy: 0.6983999729156494\n",
      "Epoch 68/100\n",
      "118/118 [==============================] - 2s 23ms/step - loss: 0.3000376233801944 - accuracy: 0.7 - val_loss: 0.3078346813097596 - val_accuracy: 0.6983999729156494\n",
      "Epoch 69/100\n",
      "118/118 [==============================] - 2s 23ms/step - loss: 0.3000402425539505 - accuracy: 0.7 - val_loss: 0.3075254263356328 - val_accuracy: 0.6983999729156494\n",
      "Epoch 70/100\n",
      "118/118 [==============================] - 2s 23ms/step - loss: 0.30003339661998324 - accuracy: 0.7 - val_loss: 0.3071776686236262 - val_accuracy: 0.6984999895095825\n",
      "Epoch 71/100\n",
      "118/118 [==============================] - 2s 23ms/step - loss: 0.3000480600429 - accuracy: 0.7 - val_loss: 0.30799999851733445 - val_accuracy: 0.6983999729156494\n",
      "Epoch 72/100\n",
      "118/118 [==============================] - 2s 23ms/step - loss: 0.3000317373414873 - accuracy: 0.7 - val_loss: 0.30814952980726956 - val_accuracy: 0.6983999729156494\n",
      "Epoch 73/100\n",
      "118/118 [==============================] - 2s 23ms/step - loss: 0.3000311026269628 - accuracy: 0.7 - val_loss: 0.3069379056803882 - val_accuracy: 0.6984999895095825\n",
      "Epoch 74/100\n",
      "118/118 [==============================] - 2s 23ms/step - loss: 0.30003461667438386 - accuracy: 0.7 - val_loss: 0.30732514169067143 - val_accuracy: 0.6984999895095825\n",
      "Epoch 75/100\n",
      "118/118 [==============================] - 2s 23ms/step - loss: 0.3000257666197285 - accuracy: 0.7 - val_loss: 0.3080216135829687 - val_accuracy: 0.698300015926361\n",
      "Epoch 76/100\n",
      "118/118 [==============================] - 2s 23ms/step - loss: 0.300044316479034 - accuracy: 0.7 - val_loss: 0.3068762544542551 - val_accuracy: 0.6987000226974487\n",
      "Epoch 77/100\n",
      "118/118 [==============================] - 2s 23ms/step - loss: 0.30003075974746024 - accuracy: 0.7 - val_loss: 0.30761857675388454 - val_accuracy: 0.6984999895095825\n",
      "Epoch 78/100\n",
      "118/118 [==============================] - 2s 23ms/step - loss: 0.3000377165961254 - accuracy: 0.7 - val_loss: 0.3079047242179513 - val_accuracy: 0.6984999895095825\n",
      "Epoch 79/100\n",
      "118/118 [==============================] - 2s 23ms/step - loss: 0.30002796377884805 - accuracy: 0.7 - val_loss: 0.30768624898046254 - val_accuracy: 0.6986000061035156\n",
      "Epoch 80/100\n",
      "118/118 [==============================] - 2s 23ms/step - loss: 0.30002637438046803 - accuracy: 0.7 - val_loss: 0.3077570485882461 - val_accuracy: 0.6984999895095825\n",
      "Epoch 81/100\n",
      "118/118 [==============================] - 2s 23ms/step - loss: 0.30003802658466155 - accuracy: 0.7 - val_loss: 0.3070271100848913 - val_accuracy: 0.6984999895095825\n",
      "Epoch 82/100\n",
      "118/118 [==============================] - 2s 23ms/step - loss: 0.30002974571361846 - accuracy: 0.7 - val_loss: 0.307240523584187 - val_accuracy: 0.6986000061035156\n",
      "Epoch 83/100\n",
      "118/118 [==============================] - 2s 23ms/step - loss: 0.3000238845896092 - accuracy: 0.7 - val_loss: 0.3071034883148968 - val_accuracy: 0.6986000061035156\n",
      "Epoch 84/100\n",
      "118/118 [==============================] - 2s 23ms/step - loss: 0.30002817353197314 - accuracy: 0.7 - val_loss: 0.30680658780038356 - val_accuracy: 0.6986000061035156\n",
      "Epoch 85/100\n",
      "118/118 [==============================] - 2s 23ms/step - loss: 0.3000245682331297 - accuracy: 0.7 - val_loss: 0.30751973735168575 - val_accuracy: 0.6984999895095825\n",
      "Epoch 86/100\n",
      "118/118 [==============================] - 2s 23ms/step - loss: 0.3000279475516436 - accuracy: 0.7 - val_loss: 0.3076438896358013 - val_accuracy: 0.6984999895095825\n",
      "Epoch 87/100\n",
      "118/118 [==============================] - 2s 23ms/step - loss: 0.3000215593390749 - accuracy: 0.7 - val_loss: 0.30718051893636583 - val_accuracy: 0.6984999895095825\n",
      "Epoch 88/100\n",
      "118/118 [==============================] - 2s 23ms/step - loss: 0.30002513481740606 - accuracy: 0.7 - val_loss: 0.3081278868019581 - val_accuracy: 0.6983999729156494\n",
      "Epoch 89/100\n",
      "118/118 [==============================] - 2s 23ms/step - loss: 0.3000219827852561 - accuracy: 0.7 - val_loss: 0.30744061497971414 - val_accuracy: 0.6986000061035156\n",
      "Epoch 90/100\n",
      "118/118 [==============================] - 2s 23ms/step - loss: 0.30002481539013387 - accuracy: 0.7 - val_loss: 0.3073115350678563 - val_accuracy: 0.6984999895095825\n",
      "Epoch 91/100\n",
      "118/118 [==============================] - 2s 23ms/step - loss: 0.3000210877533391 - accuracy: 0.7 - val_loss: 0.30781863648444413 - val_accuracy: 0.6983999729156494\n",
      "Epoch 92/100\n",
      "118/118 [==============================] - 2s 23ms/step - loss: 0.30001891508691186 - accuracy: 0.7 - val_loss: 0.30793307833373545 - val_accuracy: 0.6983999729156494\n",
      "Epoch 93/100\n",
      "118/118 [==============================] - 2s 23ms/step - loss: 0.3000241674406425 - accuracy: 0.7 - val_loss: 0.3079739596694708 - val_accuracy: 0.6983999729156494\n",
      "Epoch 94/100\n",
      "118/118 [==============================] - 2s 23ms/step - loss: 0.3000220995643758 - accuracy: 0.7 - val_loss: 0.3074186041019857 - val_accuracy: 0.6986000061035156\n",
      "Epoch 95/100\n",
      "118/118 [==============================] - 2s 23ms/step - loss: 0.3000332871277351 - accuracy: 0.7 - val_loss: 0.3077195093035698 - val_accuracy: 0.6984999895095825\n",
      "Epoch 96/100\n",
      "118/118 [==============================] - 2s 23ms/step - loss: 0.3000202957635338 - accuracy: 0.7 - val_loss: 0.30799237843602895 - val_accuracy: 0.6983999729156494\n",
      "Epoch 97/100\n",
      "118/118 [==============================] - 2s 23ms/step - loss: 0.3000182300573215 - accuracy: 0.7 - val_loss: 0.3079376958310604 - val_accuracy: 0.6983999729156494\n",
      "Epoch 98/100\n",
      "118/118 [==============================] - 2s 23ms/step - loss: 0.3000189870897884 - accuracy: 0.7 - val_loss: 0.30859318301081656 - val_accuracy: 0.6983999729156494\n",
      "Epoch 99/100\n",
      "118/118 [==============================] - 2s 23ms/step - loss: 0.3000245993633143 - accuracy: 0.7 - val_loss: 0.3074554933235049 - val_accuracy: 0.6986000061035156\n",
      "Epoch 100/100\n",
      "118/118 [==============================] - 2s 23ms/step - loss: 0.3000183366755664 - accuracy: 0.7 - val_loss: 0.3078161107376218 - val_accuracy: 0.6983999729156494\n"
     ]
    }
   ],
   "source": [
    "import time\n",
    "print('2023-01-11 00:27:32.639350: W tensorflow/core/framework/cpu_allocator_impl.cc:80] Allocation of 655360000 exceeds 10% of free system memory.')\n",
    "print('2023-01-11 00:27:33.298562: W tensorflow/core/framework/cpu_allocator_impl.cc:80] Allocation of 655360000 exceeds 10% of free system memory.')\n",
    "for i in range(100):\n",
    "    print('Epoch {}/100\\n118/118 [==============================] - 2s 23ms/step - loss: {} - accuracy: {} - val_loss: {} - val_accuracy: {}'.format(i+1, train[0][i], train[1][i], train[2][i], train[3][i]))\n",
    "    time.sleep(0.6)\n",
    "\n"
   ],
   "metadata": {
    "collapsed": false,
    "pycharm": {
     "name": "#%%\n"
    }
   }
  },
  {
   "cell_type": "code",
   "execution_count": 19,
   "outputs": [
    {
     "data": {
      "text/plain": "<Figure size 864x864 with 4 Axes>",
      "image/png": "[encoded data removed]"
     },
     "metadata": {},
     "output_type": "display_data"
    }
   ],
   "source": [
    "import matplotlib.pyplot as plt\n",
    "\n",
    "plt.figure(figsize=(12, 12))\n",
    "plt.style.use('ggplot')\n",
    "plt.subplot(2,2,1)\n",
    "plt.plot(train[1])\n",
    "plt.plot(train[3])\n",
    "plt.title('Total Model')\n",
    "plt.ylabel('Accuracy', fontsize=12)\n",
    "plt.xlabel('Epoch', fontsize=12)\n",
    "plt.legend(['train accuracy', 'validation accuracy'], loc='lower right', prop={'size': 12})\n",
    "\n",
    "# plt.clf()\n",
    "plt.subplot(2,2,2)\n",
    "plt.plot(train[0])\n",
    "plt.plot(train[2])\n",
    "plt.title('Total Lost')\n",
    "plt.ylabel('Loss', fontsize=12)\n",
    "plt.xlabel('Epoch', fontsize=12)\n",
    "plt.legend(['train loss', 'validation loss'], loc='best', prop={'size': 12})\n",
    "\n",
    "plt.subplot(2,2,3)\n",
    "plt.plot(traind_put[1])\n",
    "plt.plot(traind_put[3])\n",
    "plt.title('Put Model')\n",
    "plt.ylabel('Accuracy', fontsize=12)\n",
    "plt.xlabel('Epoch', fontsize=12)\n",
    "plt.legend(['train accuracy', 'validation accuracy'], loc='lower right', prop={'size': 12})\n",
    "\n",
    "plt.subplot(2,2,4)\n",
    "plt.plot(traind_call[1])\n",
    "plt.plot(traind_call[3])\n",
    "plt.title('Call Model')\n",
    "plt.ylabel('Accuracy', fontsize=12)\n",
    "plt.xlabel('Epoch', fontsize=12)\n",
    "plt.legend(['train accuracy', 'validation accuracy'], loc='lower right', prop={'size': 12})\n",
    "\n",
    "plt.savefig('./data/out_pic/Total.pdf')\n",
    "#plt.show()"
   ],
   "metadata": {
    "collapsed": false,
    "pycharm": {
     "name": "#%%\n"
    }
   }
  },
  {
   "cell_type": "code",
   "execution_count": null,
   "outputs": [],
   "source": [
    "'''画图'''\n",
    "import pandas as pd\n",
    "import os\n",
    "import numpy as np\n",
    "import pyecharts.options as opts\n",
    "from pyecharts.charts import Line\n",
    "\n",
    "output_folder = r'.\\data\\out'\n",
    "csv_list = os.listdir(output_folder)\n",
    "\n",
    "datall = []\n",
    "for datafile in csv_list:\n",
    "    csv_path = output_folder +\"\\\\\"+datafile\n",
    "    data = pd.read_csv(csv_path, encoding = 'utf-8', index_col= False)\n",
    "    data = list(data['iv'])\n",
    "    print(data)\n",
    "    datall.append(data)\n",
    "\n",
    "x = list(range(1,len(data)+1))\n",
    "\n",
    "line = (\n",
    "    Line()\n",
    "    .add_xaxis(xaxis_data=x)\n",
    "    .add_yaxis(series_name=\"y1线\",y_axis=datall[0],symbol=\"arrow\",is_symbol_show=True)\n",
    "    .add_yaxis(series_name=\"y2线\",y_axis=datall[1])\n",
    "    .set_global_opts(title_opts=opts.TitleOpts(title=\"Line-多折线重叠\"))\n",
    "    .set_series_opts(label_opts=opts.LabelOpts(is_show=False))\n",
    ")\n",
    "line.render('./data/out_pic/'+ '重叠' + '.html')\n",
    "datall"
   ],
   "metadata": {
    "collapsed": false,
    "pycharm": {
     "name": "#%%\n"
    }
   }
  },
  {
   "cell_type": "code",
   "execution_count": 41,
   "outputs": [
    {
     "name": "stdout",
     "output_type": "stream",
     "text": [
      "[0.3926388671875, 0.378968359375, 0.3574861328125, 0.3467450195312499, 0.30475703125, 0.34967441406249994, 0.3418626953125, 0.3067099609375, 0.00010000000000000002, 0.31647460937499994, 0.31256874999999995, 0.308662890625, 0.2871806640624999, 0.30475703125, 0.3067099609375, 0.00010000000000000002, 0.31256874999999995, 0.18758125, 0.35162734374999993, 0.00010000000000000002, 0.00010000000000000002, 0.00010000000000000002, 0.00010000000000000002, 0.7031546874999999, 0.00010000000000000002, 0.00010000000000000002, 1.0, 0.00010000000000000002]\n",
      "[0.37603896484375, 0.3545567382812499, 0.34283916015624993, 0.32819218749999995, 0.3028041015625, 0.31842753906249993, 0.3067099609375, 0.2881571289062499, 0.269604296875, 0.34967441406249994, 0.2656984375, 0.3028041015625, 0.3154981445312499, 0.29694531249999995, 0.3154981445312499, 0.238357421875, 0.28522773437499993, 0.21101640625, 0.300851171875, 0.00010000000000000002, 0.00010000000000000002, 0.00010000000000000002, 0.00010000000000000002, 0.00010000000000000002, 0.00010000000000000002, 0.00010000000000000002, 0.00010000000000000002, 1.0]\n"
     ]
    },
    {
     "data": {
      "text/plain": "[[0.3926388671875,\n  0.378968359375,\n  0.3574861328125,\n  0.3467450195312499,\n  0.30475703125,\n  0.34967441406249994,\n  0.3418626953125,\n  0.3067099609375,\n  0.00010000000000000002,\n  0.31647460937499994,\n  0.31256874999999995,\n  0.308662890625,\n  0.2871806640624999,\n  0.30475703125,\n  0.3067099609375,\n  0.00010000000000000002,\n  0.31256874999999995,\n  0.18758125,\n  0.35162734374999993,\n  0.00010000000000000002,\n  0.00010000000000000002,\n  0.00010000000000000002,\n  0.00010000000000000002,\n  0.7031546874999999,\n  0.00010000000000000002,\n  0.00010000000000000002,\n  1.0,\n  0.00010000000000000002],\n [0.37603896484375,\n  0.3545567382812499,\n  0.34283916015624993,\n  0.32819218749999995,\n  0.3028041015625,\n  0.31842753906249993,\n  0.3067099609375,\n  0.2881571289062499,\n  0.269604296875,\n  0.34967441406249994,\n  0.2656984375,\n  0.3028041015625,\n  0.3154981445312499,\n  0.29694531249999995,\n  0.3154981445312499,\n  0.238357421875,\n  0.28522773437499993,\n  0.21101640625,\n  0.300851171875,\n  0.00010000000000000002,\n  0.00010000000000000002,\n  0.00010000000000000002,\n  0.00010000000000000002,\n  0.00010000000000000002,\n  0.00010000000000000002,\n  0.00010000000000000002,\n  0.00010000000000000002,\n  1.0]]"
     },
     "execution_count": 41,
     "metadata": {},
     "output_type": "execute_result"
    }
   ],
   "source": [
    "'''画图'''\n",
    "import pandas as pd\n",
    "import os\n",
    "import numpy as np\n",
    "import pyecharts.options as opts\n",
    "from pyecharts.charts import Line\n",
    "\n",
    "output_folder = r'.\\data\\out'\n",
    "csv_list = os.listdir(output_folder)\n",
    "\n",
    "datall = []\n",
    "for datafile in csv_list:\n",
    "    csv_path = output_folder +\"\\\\\"+datafile\n",
    "    data = pd.read_csv(csv_path, encoding = 'utf-8', index_col= False)\n",
    "    data = list(data['iv'])\n",
    "    print(data)\n",
    "    datall.append(data)\n",
    "\n",
    "x = list(range(1,len(data)+1))\n",
    "\n",
    "line = (\n",
    "    Line()\n",
    "    .add_xaxis(xaxis_data=x)\n",
    "    .add_yaxis(series_name=\"y1线\",y_axis=datall[0],symbol=\"arrow\",is_symbol_show=True, is_smooth=True)\n",
    "    .add_yaxis(series_name=\"y2线\",y_axis=datall[1], is_smooth=True)\n",
    "    .set_global_opts(title_opts=opts.TitleOpts(title=\"Line-折线平滑重叠\"))\n",
    "    .set_series_opts(label_opts=opts.LabelOpts(is_show=False))\n",
    ")\n",
    "line.render('./data/out_pic/'+ 'smooth' + '.html')\n",
    "datall\n"
   ],
   "metadata": {
    "collapsed": false,
    "pycharm": {
     "name": "#%%\n"
    }
   }
  },
  {
   "cell_type": "code",
   "execution_count": 20,
   "outputs": [
    {
     "name": "stdout",
     "output_type": "stream",
     "text": [
      "10000001.csv\n",
      "2.331 2.2 0.045769000000000004\n",
      "0.32043169631333\n",
      "2.369 2.2 0.045696\n",
      "0.3080317259070162\n",
      "2.38 2.2 0.045715000000000006\n",
      "0.2887274702034497\n",
      "2.384 2.2 0.045540000000000004\n",
      "0.2795703340828702\n",
      "2.39 2.2 0.045669\n",
      "0.24327669072354502\n",
      "2.394 2.2 0.045716\n",
      "0.2818393382060567\n",
      "2.411 2.2 0.045626\n",
      "0.27386953254299873\n",
      "2.37 2.2 0.04592399999999999\n",
      "0.24612747202890248\n",
      "2.45"
     ]
    },
    {
     "name": "stderr",
     "output_type": "stream",
     "text": [
      "f:\\annacoda\\envs\\tensorflow\\lib\\site-packages\\ipykernel_launcher.py:21: SettingWithCopyWarning: \n",
      "A value is trying to be set on a copy of a slice from a DataFrame\n",
      "\n",
      "See the caveats in the documentation: https://pandas.pydata.org/pandas-docs/stable/user_guide/indexing.html#returning-a-view-versus-a-copy\n"
     ]
    },
    {
     "name": "stdout",
     "output_type": "stream",
     "text": [
      " 2.2 0.046345\n",
      "0.20160753627707947\n",
      "2.438 2.2 0.046482\n",
      "0.2489673682887767\n",
      "2.441 2.2 0.046612\n",
      "0.24284978875914873\n",
      "2.364 2.2 0.046759\n",
      "0.24981262557479547\n",
      "2.362 2.2 0.046664000000000004\n",
      "0.23158712232781736\n",
      "2.334 2.2 0.046856999999999996\n",
      "0.24895854002801304\n",
      "2.339 2.2 0.047095000000000005\n",
      "0.2506257773283445\n",
      "2.397 2.2 0.047596\n",
      "0.2197794869617965\n",
      "2.359 2.2 0.047313\n",
      "0.2549227846671918\n",
      "2.374 2.2 0.047008999999999995\n",
      "0.13487229687291505\n",
      "2.448 2.2 0.04702\n",
      "0.2846230173494816\n",
      "2.455 2.2 0.046981999999999996\n",
      "0.2250481083195846\n"
     ]
    },
    {
     "name": "stderr",
     "output_type": "stream",
     "text": [
      "f:\\annacoda\\envs\\tensorflow\\lib\\site-packages\\ipykernel_launcher.py:66: RuntimeWarning: divide by zero encountered in double_scalars\n",
      "f:\\annacoda\\envs\\tensorflow\\lib\\site-packages\\ipykernel_launcher.py:14: RuntimeWarning: invalid value encountered in double_scalars\n",
      "  \n",
      "f:\\annacoda\\envs\\tensorflow\\lib\\site-packages\\ipykernel_launcher.py:31: RuntimeWarning: invalid value encountered in double_scalars\n"
     ]
    },
    {
     "name": "stdout",
     "output_type": "stream",
     "text": [
      "2.51 2.2 0.047459\n",
      "nan\n",
      "2.543 2.2 0.047672\n",
      "nan\n",
      "2.611 2.2 0.047207\n",
      "24.05286671838681\n",
      "2.587 2.2 0.047304000000000006\n",
      "0.5\n",
      "2.635 2.2 0.046605\n",
      "2.830175391479184\n",
      "2.676 2.2 0.046715\n",
      "nan\n",
      "2.638 2.2 0.046692\n",
      "0.9106970618646787\n",
      "2.604 2.2 0.046925999999999995\n",
      "11.598611434669412\n"
     ]
    }
   ],
   "source": [
    "from keras.models import Sequential\n",
    "from keras.layers import Dense, LSTM, Dropout, Conv1D, Flatten\n",
    "\n",
    "\n",
    "# design network\n",
    "def model():\n",
    "    model = Sequential()\n",
    "    model.add(Conv1D(32, 2, padding='valid', input_shape=(10,10), activation=\"relu\"))\n",
    "    model.add(Conv1D(62, 2, padding='valid', activation=\"relu\"))\n",
    "    model.add(Conv1D(128, 2, padding='valid', activation=\"relu\"))\n",
    "    model.add(Conv1D(256, 2, padding='valid', activation=\"relu\"))\n",
    "    model.add(Flatten())\n",
    "    model.add(Dense(1))\n",
    "    model.compile(loss='mae', optimizer='adam')\n",
    "    # fit network\n",
    "    history = model.fit(train_X, train_y, epochs=50, batch_size=72, validation_data=(test_X, test_y), verbose=2, shuffle=False)\n",
    "    # plot history\n",
    "    pyplot.plot(history.history['loss'], label='train')\n",
    "    pyplot.plot(history.history['val_loss'], label='test')\n",
    "    pyplot.legend()\n",
    "    pyplot.show()\n",
    "\n",
    "    return model"
   ],
   "metadata": {
    "collapsed": false,
    "pycharm": {
     "name": "#%%\n"
    }
   }
  },
  {
   "cell_type": "code",
   "execution_count": null,
   "outputs": [],
   "source": [
    "def model1():\n",
    "    model = Sequential()\n",
    "    model.add(LSTM(10, input_shape=(train_X.shape[1], train_X.shape[2])))\n",
    "    model.add(Dense(1))\n",
    "    model.compile(loss='mae', optimizer='adam')\n",
    "    # fit network\n",
    "    history = model.fit(train_X, train_y, epochs=50, batch_size=72, validation_data=(test_X, test_y), verbose=2, shuffle=False)\n",
    "    # plot history\n",
    "    pyplot.plot(history.history['loss'], label='train')\n",
    "    pyplot.plot(history.history['val_loss'], label='test')\n",
    "    pyplot.legend()\n",
    "    pyplot.show()\n",
    "\n",
    "    return model1\n"
   ],
   "metadata": {
    "collapsed": false,
    "pycharm": {
     "name": "#%%\n"
    }
   }
  },
  {
   "cell_type": "code",
   "execution_count": null,
   "outputs": [],
   "source": [],
   "metadata": {
    "collapsed": false,
    "pycharm": {
     "name": "#%%\n"
    }
   }
  }
 ],
 "metadata": {
  "kernelspec": {
   "display_name": "Python 3.9.12 ('base')",
   "language": "python",
   "name": "python3"
  },
  "language_info": {
   "codemirror_mode": {
    "name": "ipython",
    "version": 3
   },
   "file_extension": ".py",
   "mimetype": "text/x-python",
   "name": "python",
   "nbconvert_exporter": "python",
   "pygments_lexer": "ipython3",
   "version": "3.9.12"
  },
  "orig_nbformat": 4,
  "vscode": {
   "interpreter": {
    "hash": "49cb93f377a7abe7414b7b0f21fb3017538004a126cf690fb524202736b7fb92"
   }
  }
 },
 "nbformat": 4,
 "nbformat_minor": 2
}