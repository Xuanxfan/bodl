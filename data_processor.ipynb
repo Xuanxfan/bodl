{
 "cells": [
  {
   "cell_type": "code",
   "execution_count": 1,
   "metadata": {},
   "outputs": [],
   "source": [
    "import pandas as pd\n",
    "import os\n",
    "import numpy as np\n",
    "from scipy.stats import norm"
   ]
  },
  {
   "cell_type": "code",
   "execution_count": 42,
   "metadata": {},
   "outputs": [],
   "source": [
    "def bs_price(S,K,sigma,r,T, year_rate = 252, option_type = \"call\"):\n",
    "    '''\n",
    "    bs 期权定价 输出为期权价格\n",
    "    输入格式：\n",
    "    S:标的价格\n",
    "    K:行权价\n",
    "    sigma:波动率\n",
    "    r:无风险利率\n",
    "    T:年华剩余期限\n",
    "    year_rate:年化系数\n",
    "    '''\n",
    "\n",
    "    T = T/year_rate\n",
    "    d1 = (np.log(S/K) + (r + pow(sigma,2)/2)*T) / (sigma*np.sqrt(T)) \n",
    "    d2 = d1 - sigma*np.sqrt(T)\n",
    "    if option_type == 'call':\n",
    "        # return S*norm.cdf(d1) - K*np.exp(-r*T)*norm.cdf(d2)\n",
    "        return np.maximum(S - K, 0) if T==0 else S*norm.cdf(d1) - K*np.exp(-r*T)*norm.cdf(d2)\n",
    "    elif option_type == 'put':\n",
    "        # return K*np.exp(-r*T)*norm.cdf(-d2) - S*norm.cdf(-d1)\n",
    "        return np.maximum(K-S,0) if T==0 else K*np.exp(-r*T)*norm.cdf(-1*d2) - S*norm.cdf(-1*d1)\n",
    "    else:\n",
    "        print(\"期权类型错误\")\n",
    "        return -1\n",
    "\n",
    "def bs_vega(S,K,sigma,r,T ,year_rate = 252):\n",
    "    '''\n",
    "    计算vega\n",
    "    '''\n",
    "    T = T/year_rate\n",
    "    d1 = (np.log(S/K) + (r + pow(sigma,2)/2)*T) / (sigma*np.sqrt(np.abs(T)) )\n",
    "    return S*norm.pdf(d1)*np.sqrt(np.abs(T))\n",
    "    # return S * np.sqrt(abs(T)) * np.exp(-pow(d1,2)/2) / np.sqrt(2*np.pi)\n",
    "\n",
    "def iv_bs_bisection(S, K, r, T, price, option_type, iv_uplimit = 1.0, iv_downlimit = 0.01, precision = 3, year_rate = 365, max_iterations = 200):\n",
    "    '''二分法求iv'''\n",
    "    left_iv, right_iv = iv_downlimit, iv_uplimit\n",
    "    # left_price = BS_price(S,K,left_iv, r, T,  year_rate = year_rate, option_type = option_type)\n",
    "    # right_price= BS_price(S,K,right_iv, r, T,  year_rate = year_rate, option_type = option_type)\n",
    "    mid_iv = (left_iv + right_iv)/2\n",
    "    mid_price = bs_price(S,K,mid_iv, r, T,  year_rate = year_rate, option_type = option_type)\n",
    "    # print(f\"first, the mid price is {mid_price}, the price is {price}\")\n",
    "    cnt = 0\n",
    "    while abs(price - mid_price) >= 0.1**precision and cnt < max_iterations:\n",
    "        if mid_price < price :\n",
    "            left_iv = mid_iv\n",
    "        else:\n",
    "            right_iv = mid_iv\n",
    "        mid_iv = (left_iv + right_iv)/2\n",
    "        # if mid_iv < iv_uplimit or mid_iv > iv_downlimit:\n",
    "        #     break\n",
    "        # print(f\"cnt = {cnt}, the left is{left_iv}, the right is{right_iv}, the mid is {mid_iv}\")\n",
    "        cnt += 1\n",
    "        mid_price = bs_price(S,K,mid_iv, r, T,  year_rate = year_rate, option_type = option_type)\n",
    "    return mid_iv\n",
    "\n",
    "def find_vol_newton( S, K, r, T, target_value, option_type, start_sigma = 0.5, precision = 3, year_rate = 252, max_iterations = 100):\n",
    "    '''迭代法求iv'''\n",
    "    sigma = start_sigma\n",
    "    for i in range(0, max_iterations):\n",
    "        bs_price_ = bs_price(S,K,sigma,r,T, year_rate = year_rate, option_type = option_type)\n",
    "        vega = bs_vega(S, K, T, r, sigma, year_rate = year_rate)*100\n",
    "        diff = target_value - bs_price_  # our root\n",
    "        if (abs(diff) < 0.1**precision):\n",
    "            return sigma\n",
    "        sigma = sigma + diff/(vega) # f(x) / f'(x)\n",
    "    return sigma # value wasn't found, return best guess so far\n",
    "\n",
    "def change(type_name):\n",
    "    if type_name == 1:\n",
    "        return \"call\"\n",
    "    elif type_name == 0:\n",
    "        return \"put\"\n",
    "    else:\n",
    "        return \"wrong_type\""
   ]
  },
  {
   "cell_type": "code",
   "execution_count": 45,
   "metadata": {},
   "outputs": [
    {
     "data": {
      "text/plain": [
       "0.6083398558139801"
      ]
     },
     "execution_count": 45,
     "metadata": {},
     "output_type": "execute_result"
    }
   ],
   "source": [
    "iv_bs_bisection(3.32, 3.4, 0.018,73, 0.33, 'call')"
   ]
  },
  {
   "cell_type": "code",
   "execution_count": 46,
   "metadata": {},
   "outputs": [
    {
     "data": {
      "text/plain": [
       "0.6083396961968708"
      ]
     },
     "execution_count": 46,
     "metadata": {},
     "output_type": "execute_result"
    }
   ],
   "source": [
    "find_vol_newton(3.32, 3.4, 0.018,73, 0.33, 'call')"
   ]
  },
  {
   "cell_type": "code",
   "execution_count": 9,
   "metadata": {},
   "outputs": [
    {
     "data": {
      "text/plain": "    Unnamed: 0            date pre_close    open    high     low   close  \\\n0            0   2015/2/9 0:00       非数字  0.1820  0.2029  0.1699  0.1826   \n1            1  2015/2/10 0:00    0.1826  0.1856  0.2144  0.1800  0.2072   \n2            2  2015/2/11 0:00    0.2072  0.2083  0.2195  0.2028  0.2107   \n3            3  2015/2/12 0:00    0.2107  0.2141  0.2143  0.1915  0.2109   \n4            4  2015/2/13 0:00    0.2109  0.2130  0.2459  0.2090  0.2090   \n5            5  2015/2/16 0:00     0.209  0.2111  0.2219  0.2066  0.2172   \n6            6  2015/2/17 0:00    0.2172  0.2226  0.2408  0.2226  0.2296   \n7            7  2015/2/25 0:00    0.2296  0.2235  0.2250  0.1816  0.1885   \n8            8  2015/2/26 0:00    0.1885  0.1900  0.2530  0.1730  0.2530   \n9            9  2015/2/27 0:00     0.253  0.2534  0.2739  0.2431  0.2488   \n10          10   2015/3/2 0:00    0.2488  0.2587  0.2717  0.2425  0.2504   \n11          11   2015/3/3 0:00    0.2504  0.2430  0.2430  0.1790  0.1790   \n12          12   2015/3/4 0:00     0.179  0.1844  0.1978  0.1672  0.1740   \n13          13   2015/3/5 0:00     0.174  0.1700  0.2245  0.1360  0.1502   \n14          14   2015/3/6 0:00    0.1502  0.1568  0.1705  0.1520  0.1533   \n15          15   2015/3/9 0:00    0.1533  0.1466  0.2098  0.1154  0.1974   \n16          16  2015/3/10 0:00    0.1974  0.1966  0.1966  0.1668  0.1688   \n17          17  2015/3/11 0:00    0.1688  0.1746  0.2105  0.1697  0.1774   \n18          18  2015/3/12 0:00    0.1774  0.1870  0.2696  0.1870  0.2525   \n19          19  2015/3/13 0:00    0.2525  0.2559  0.2949  0.2432  0.2570   \n20          20  2015/3/16 0:00     0.257  0.2685  0.3099  0.2549  0.3075   \n21          21  2015/3/17 0:00    0.3075  0.3264  0.3417  0.3172  0.3385   \n22          22  2015/3/18 0:00    0.3385  0.3467  0.4044  0.3467  0.4044   \n23          23  2015/3/19 0:00    0.4044  0.3983  0.4050  0.3762  0.3902   \n24          24  2015/3/20 0:00    0.3902  0.4053  0.4679  0.3811  0.4290   \n25          25  2015/3/23 0:00     0.429  0.4450  0.4798  0.4450  0.4742   \n26          26  2015/3/24 0:00    0.4742  0.4861  0.4861  0.4133  0.4415   \n27          27  2015/3/25 0:00    0.4415  0.4380  0.4380  0.3884  0.4007   \n\n    volume      amt  ptmtradeday       ...        exercise_price  \\\n0     2501  4712265           28       ...                   2.2   \n1     1842  3744873           27       ...                   2.2   \n2     1999  4231181           26       ...                   2.2   \n3     2334  4804803           25       ...                   2.2   \n4     2066  4604396           24       ...                   2.2   \n5     1153  2450037           23       ...                   2.2   \n6      759  1778307           22       ...                   2.2   \n7      815  1705437           21       ...                   2.2   \n8     1246  2747089           20       ...                   2.2   \n9      873  2264841           19       ...                   2.2   \n10     718  1830178           18       ...                   2.2   \n11    1040  2171845           17       ...                   2.2   \n12     636  1157389           16       ...                   2.2   \n13    1328  2060260           15       ...                   2.2   \n14     652  1050282           14       ...                   2.2   \n15    1816  2801425           13       ...                   2.2   \n16    1133  2015320           12       ...                   2.2   \n17    1175  2226070           11       ...                   2.2   \n18    2159  5065646           10       ...                   2.2   \n19    1300  3512310            9       ...                   2.2   \n20    1245  3554893            8       ...                   2.2   \n21     697  2313861            7       ...                   2.2   \n22     571  2122374            6       ...                   2.2   \n23     427  1662263            5       ...                   2.2   \n24     558  2379963            4       ...                   2.2   \n25     262  1218489            3       ...                   2.2   \n26     228  1015972            2       ...                   2.2   \n27     298  1244646            1       ...                   2.2   \n\n    contract_unit  limit_month    listed_date     expire_date  exercise_date  \\\n0           10000       Mar-15  2015/2/9 0:00  2015/3/25 0:00      2015/3/25   \n1           10000       Mar-15  2015/2/9 0:00  2015/3/25 0:00      2015/3/25   \n2           10000       Mar-15  2015/2/9 0:00  2015/3/25 0:00      2015/3/25   \n3           10000       Mar-15  2015/2/9 0:00  2015/3/25 0:00      2015/3/25   \n4           10000       Mar-15  2015/2/9 0:00  2015/3/25 0:00      2015/3/25   \n5           10000       Mar-15  2015/2/9 0:00  2015/3/25 0:00      2015/3/25   \n6           10000       Mar-15  2015/2/9 0:00  2015/3/25 0:00      2015/3/25   \n7           10000       Mar-15  2015/2/9 0:00  2015/3/25 0:00      2015/3/25   \n8           10000       Mar-15  2015/2/9 0:00  2015/3/25 0:00      2015/3/25   \n9           10000       Mar-15  2015/2/9 0:00  2015/3/25 0:00      2015/3/25   \n10          10000       Mar-15  2015/2/9 0:00  2015/3/25 0:00      2015/3/25   \n11          10000       Mar-15  2015/2/9 0:00  2015/3/25 0:00      2015/3/25   \n12          10000       Mar-15  2015/2/9 0:00  2015/3/25 0:00      2015/3/25   \n13          10000       Mar-15  2015/2/9 0:00  2015/3/25 0:00      2015/3/25   \n14          10000       Mar-15  2015/2/9 0:00  2015/3/25 0:00      2015/3/25   \n15          10000       Mar-15  2015/2/9 0:00  2015/3/25 0:00      2015/3/25   \n16          10000       Mar-15  2015/2/9 0:00  2015/3/25 0:00      2015/3/25   \n17          10000       Mar-15  2015/2/9 0:00  2015/3/25 0:00      2015/3/25   \n18          10000       Mar-15  2015/2/9 0:00  2015/3/25 0:00      2015/3/25   \n19          10000       Mar-15  2015/2/9 0:00  2015/3/25 0:00      2015/3/25   \n20          10000       Mar-15  2015/2/9 0:00  2015/3/25 0:00      2015/3/25   \n21          10000       Mar-15  2015/2/9 0:00  2015/3/25 0:00      2015/3/25   \n22          10000       Mar-15  2015/2/9 0:00  2015/3/25 0:00      2015/3/25   \n23          10000       Mar-15  2015/2/9 0:00  2015/3/25 0:00      2015/3/25   \n24          10000       Mar-15  2015/2/9 0:00  2015/3/25 0:00      2015/3/25   \n25          10000       Mar-15  2015/2/9 0:00  2015/3/25 0:00      2015/3/25   \n26          10000       Mar-15  2015/2/9 0:00  2015/3/25 0:00      2015/3/25   \n27          10000       Mar-15  2015/2/9 0:00  2015/3/25 0:00      2015/3/25   \n\n    settlement_date  reference_price  settle_mode  contract_state  \n0         2015/3/26           0.1812         实物资产              退市  \n1         2015/3/26           0.1812         实物资产              退市  \n2         2015/3/26           0.1812         实物资产              退市  \n3         2015/3/26           0.1812         实物资产              退市  \n4         2015/3/26           0.1812         实物资产              退市  \n5         2015/3/26           0.1812         实物资产              退市  \n6         2015/3/26           0.1812         实物资产              退市  \n7         2015/3/26           0.1812         实物资产              退市  \n8         2015/3/26           0.1812         实物资产              退市  \n9         2015/3/26           0.1812         实物资产              退市  \n10        2015/3/26           0.1812         实物资产              退市  \n11        2015/3/26           0.1812         实物资产              退市  \n12        2015/3/26           0.1812         实物资产              退市  \n13        2015/3/26           0.1812         实物资产              退市  \n14        2015/3/26           0.1812         实物资产              退市  \n15        2015/3/26           0.1812         实物资产              退市  \n16        2015/3/26           0.1812         实物资产              退市  \n17        2015/3/26           0.1812         实物资产              退市  \n18        2015/3/26           0.1812         实物资产              退市  \n19        2015/3/26           0.1812         实物资产              退市  \n20        2015/3/26           0.1812         实物资产              退市  \n21        2015/3/26           0.1812         实物资产              退市  \n22        2015/3/26           0.1812         实物资产              退市  \n23        2015/3/26           0.1812         实物资产              退市  \n24        2015/3/26           0.1812         实物资产              退市  \n25        2015/3/26           0.1812         实物资产              退市  \n26        2015/3/26           0.1812         实物资产              退市  \n27        2015/3/26           0.1812         实物资产              退市  \n\n[28 rows x 37 columns]",
      "text/html": "<div>\n<style>\n    .dataframe thead tr:only-child th {\n        text-align: right;\n    }\n\n    .dataframe thead th {\n        text-align: left;\n    }\n\n    .dataframe tbody tr th {\n        vertical-align: top;\n    }\n</style>\n<table border=\"1\" class=\"dataframe\">\n  <thead>\n    <tr style=\"text-align: right;\">\n      <th></th>\n      <th>Unnamed: 0</th>\n      <th>date</th>\n      <th>pre_close</th>\n      <th>open</th>\n      <th>high</th>\n      <th>low</th>\n      <th>close</th>\n      <th>volume</th>\n      <th>amt</th>\n      <th>ptmtradeday</th>\n      <th>...</th>\n      <th>exercise_price</th>\n      <th>contract_unit</th>\n      <th>limit_month</th>\n      <th>listed_date</th>\n      <th>expire_date</th>\n      <th>exercise_date</th>\n      <th>settlement_date</th>\n      <th>reference_price</th>\n      <th>settle_mode</th>\n      <th>contract_state</th>\n    </tr>\n  </thead>\n  <tbody>\n    <tr>\n      <th>0</th>\n      <td>0</td>\n      <td>2015/2/9 0:00</td>\n      <td>非数字</td>\n      <td>0.1820</td>\n      <td>0.2029</td>\n      <td>0.1699</td>\n      <td>0.1826</td>\n      <td>2501</td>\n      <td>4712265</td>\n      <td>28</td>\n      <td>...</td>\n      <td>2.2</td>\n      <td>10000</td>\n      <td>Mar-15</td>\n      <td>2015/2/9 0:00</td>\n      <td>2015/3/25 0:00</td>\n      <td>2015/3/25</td>\n      <td>2015/3/26</td>\n      <td>0.1812</td>\n      <td>实物资产</td>\n      <td>退市</td>\n    </tr>\n    <tr>\n      <th>1</th>\n      <td>1</td>\n      <td>2015/2/10 0:00</td>\n      <td>0.1826</td>\n      <td>0.1856</td>\n      <td>0.2144</td>\n      <td>0.1800</td>\n      <td>0.2072</td>\n      <td>1842</td>\n      <td>3744873</td>\n      <td>27</td>\n      <td>...</td>\n      <td>2.2</td>\n      <td>10000</td>\n      <td>Mar-15</td>\n      <td>2015/2/9 0:00</td>\n      <td>2015/3/25 0:00</td>\n      <td>2015/3/25</td>\n      <td>2015/3/26</td>\n      <td>0.1812</td>\n      <td>实物资产</td>\n      <td>退市</td>\n    </tr>\n    <tr>\n      <th>2</th>\n      <td>2</td>\n      <td>2015/2/11 0:00</td>\n      <td>0.2072</td>\n      <td>0.2083</td>\n      <td>0.2195</td>\n      <td>0.2028</td>\n      <td>0.2107</td>\n      <td>1999</td>\n      <td>4231181</td>\n      <td>26</td>\n      <td>...</td>\n      <td>2.2</td>\n      <td>10000</td>\n      <td>Mar-15</td>\n      <td>2015/2/9 0:00</td>\n      <td>2015/3/25 0:00</td>\n      <td>2015/3/25</td>\n      <td>2015/3/26</td>\n      <td>0.1812</td>\n      <td>实物资产</td>\n      <td>退市</td>\n    </tr>\n    <tr>\n      <th>3</th>\n      <td>3</td>\n      <td>2015/2/12 0:00</td>\n      <td>0.2107</td>\n      <td>0.2141</td>\n      <td>0.2143</td>\n      <td>0.1915</td>\n      <td>0.2109</td>\n      <td>2334</td>\n      <td>4804803</td>\n      <td>25</td>\n      <td>...</td>\n      <td>2.2</td>\n      <td>10000</td>\n      <td>Mar-15</td>\n      <td>2015/2/9 0:00</td>\n      <td>2015/3/25 0:00</td>\n      <td>2015/3/25</td>\n      <td>2015/3/26</td>\n      <td>0.1812</td>\n      <td>实物资产</td>\n      <td>退市</td>\n    </tr>\n    <tr>\n      <th>4</th>\n      <td>4</td>\n      <td>2015/2/13 0:00</td>\n      <td>0.2109</td>\n      <td>0.2130</td>\n      <td>0.2459</td>\n      <td>0.2090</td>\n      <td>0.2090</td>\n      <td>2066</td>\n      <td>4604396</td>\n      <td>24</td>\n      <td>...</td>\n      <td>2.2</td>\n      <td>10000</td>\n      <td>Mar-15</td>\n      <td>2015/2/9 0:00</td>\n      <td>2015/3/25 0:00</td>\n      <td>2015/3/25</td>\n      <td>2015/3/26</td>\n      <td>0.1812</td>\n      <td>实物资产</td>\n      <td>退市</td>\n    </tr>\n    <tr>\n      <th>5</th>\n      <td>5</td>\n      <td>2015/2/16 0:00</td>\n      <td>0.209</td>\n      <td>0.2111</td>\n      <td>0.2219</td>\n      <td>0.2066</td>\n      <td>0.2172</td>\n      <td>1153</td>\n      <td>2450037</td>\n      <td>23</td>\n      <td>...</td>\n      <td>2.2</td>\n      <td>10000</td>\n      <td>Mar-15</td>\n      <td>2015/2/9 0:00</td>\n      <td>2015/3/25 0:00</td>\n      <td>2015/3/25</td>\n      <td>2015/3/26</td>\n      <td>0.1812</td>\n      <td>实物资产</td>\n      <td>退市</td>\n    </tr>\n    <tr>\n      <th>6</th>\n      <td>6</td>\n      <td>2015/2/17 0:00</td>\n      <td>0.2172</td>\n      <td>0.2226</td>\n      <td>0.2408</td>\n      <td>0.2226</td>\n      <td>0.2296</td>\n      <td>759</td>\n      <td>1778307</td>\n      <td>22</td>\n      <td>...</td>\n      <td>2.2</td>\n      <td>10000</td>\n      <td>Mar-15</td>\n      <td>2015/2/9 0:00</td>\n      <td>2015/3/25 0:00</td>\n      <td>2015/3/25</td>\n      <td>2015/3/26</td>\n      <td>0.1812</td>\n      <td>实物资产</td>\n      <td>退市</td>\n    </tr>\n    <tr>\n      <th>7</th>\n      <td>7</td>\n      <td>2015/2/25 0:00</td>\n      <td>0.2296</td>\n      <td>0.2235</td>\n      <td>0.2250</td>\n      <td>0.1816</td>\n      <td>0.1885</td>\n      <td>815</td>\n      <td>1705437</td>\n      <td>21</td>\n      <td>...</td>\n      <td>2.2</td>\n      <td>10000</td>\n      <td>Mar-15</td>\n      <td>2015/2/9 0:00</td>\n      <td>2015/3/25 0:00</td>\n      <td>2015/3/25</td>\n      <td>2015/3/26</td>\n      <td>0.1812</td>\n      <td>实物资产</td>\n      <td>退市</td>\n    </tr>\n    <tr>\n      <th>8</th>\n      <td>8</td>\n      <td>2015/2/26 0:00</td>\n      <td>0.1885</td>\n      <td>0.1900</td>\n      <td>0.2530</td>\n      <td>0.1730</td>\n      <td>0.2530</td>\n      <td>1246</td>\n      <td>2747089</td>\n      <td>20</td>\n      <td>...</td>\n      <td>2.2</td>\n      <td>10000</td>\n      <td>Mar-15</td>\n      <td>2015/2/9 0:00</td>\n      <td>2015/3/25 0:00</td>\n      <td>2015/3/25</td>\n      <td>2015/3/26</td>\n      <td>0.1812</td>\n      <td>实物资产</td>\n      <td>退市</td>\n    </tr>\n    <tr>\n      <th>9</th>\n      <td>9</td>\n      <td>2015/2/27 0:00</td>\n      <td>0.253</td>\n      <td>0.2534</td>\n      <td>0.2739</td>\n      <td>0.2431</td>\n      <td>0.2488</td>\n      <td>873</td>\n      <td>2264841</td>\n      <td>19</td>\n      <td>...</td>\n      <td>2.2</td>\n      <td>10000</td>\n      <td>Mar-15</td>\n      <td>2015/2/9 0:00</td>\n      <td>2015/3/25 0:00</td>\n      <td>2015/3/25</td>\n      <td>2015/3/26</td>\n      <td>0.1812</td>\n      <td>实物资产</td>\n      <td>退市</td>\n    </tr>\n    <tr>\n      <th>10</th>\n      <td>10</td>\n      <td>2015/3/2 0:00</td>\n      <td>0.2488</td>\n      <td>0.2587</td>\n      <td>0.2717</td>\n      <td>0.2425</td>\n      <td>0.2504</td>\n      <td>718</td>\n      <td>1830178</td>\n      <td>18</td>\n      <td>...</td>\n      <td>2.2</td>\n      <td>10000</td>\n      <td>Mar-15</td>\n      <td>2015/2/9 0:00</td>\n      <td>2015/3/25 0:00</td>\n      <td>2015/3/25</td>\n      <td>2015/3/26</td>\n      <td>0.1812</td>\n      <td>实物资产</td>\n      <td>退市</td>\n    </tr>\n    <tr>\n      <th>11</th>\n      <td>11</td>\n      <td>2015/3/3 0:00</td>\n      <td>0.2504</td>\n      <td>0.2430</td>\n      <td>0.2430</td>\n      <td>0.1790</td>\n      <td>0.1790</td>\n      <td>1040</td>\n      <td>2171845</td>\n      <td>17</td>\n      <td>...</td>\n      <td>2.2</td>\n      <td>10000</td>\n      <td>Mar-15</td>\n      <td>2015/2/9 0:00</td>\n      <td>2015/3/25 0:00</td>\n      <td>2015/3/25</td>\n      <td>2015/3/26</td>\n      <td>0.1812</td>\n      <td>实物资产</td>\n      <td>退市</td>\n    </tr>\n    <tr>\n      <th>12</th>\n      <td>12</td>\n      <td>2015/3/4 0:00</td>\n      <td>0.179</td>\n      <td>0.1844</td>\n      <td>0.1978</td>\n      <td>0.1672</td>\n      <td>0.1740</td>\n      <td>636</td>\n      <td>1157389</td>\n      <td>16</td>\n      <td>...</td>\n      <td>2.2</td>\n      <td>10000</td>\n      <td>Mar-15</td>\n      <td>2015/2/9 0:00</td>\n      <td>2015/3/25 0:00</td>\n      <td>2015/3/25</td>\n      <td>2015/3/26</td>\n      <td>0.1812</td>\n      <td>实物资产</td>\n      <td>退市</td>\n    </tr>\n    <tr>\n      <th>13</th>\n      <td>13</td>\n      <td>2015/3/5 0:00</td>\n      <td>0.174</td>\n      <td>0.1700</td>\n      <td>0.2245</td>\n      <td>0.1360</td>\n      <td>0.1502</td>\n      <td>1328</td>\n      <td>2060260</td>\n      <td>15</td>\n      <td>...</td>\n      <td>2.2</td>\n      <td>10000</td>\n      <td>Mar-15</td>\n      <td>2015/2/9 0:00</td>\n      <td>2015/3/25 0:00</td>\n      <td>2015/3/25</td>\n      <td>2015/3/26</td>\n      <td>0.1812</td>\n      <td>实物资产</td>\n      <td>退市</td>\n    </tr>\n    <tr>\n      <th>14</th>\n      <td>14</td>\n      <td>2015/3/6 0:00</td>\n      <td>0.1502</td>\n      <td>0.1568</td>\n      <td>0.1705</td>\n      <td>0.1520</td>\n      <td>0.1533</td>\n      <td>652</td>\n      <td>1050282</td>\n      <td>14</td>\n      <td>...</td>\n      <td>2.2</td>\n      <td>10000</td>\n      <td>Mar-15</td>\n      <td>2015/2/9 0:00</td>\n      <td>2015/3/25 0:00</td>\n      <td>2015/3/25</td>\n      <td>2015/3/26</td>\n      <td>0.1812</td>\n      <td>实物资产</td>\n      <td>退市</td>\n    </tr>\n    <tr>\n      <th>15</th>\n      <td>15</td>\n      <td>2015/3/9 0:00</td>\n      <td>0.1533</td>\n      <td>0.1466</td>\n      <td>0.2098</td>\n      <td>0.1154</td>\n      <td>0.1974</td>\n      <td>1816</td>\n      <td>2801425</td>\n      <td>13</td>\n      <td>...</td>\n      <td>2.2</td>\n      <td>10000</td>\n      <td>Mar-15</td>\n      <td>2015/2/9 0:00</td>\n      <td>2015/3/25 0:00</td>\n      <td>2015/3/25</td>\n      <td>2015/3/26</td>\n      <td>0.1812</td>\n      <td>实物资产</td>\n      <td>退市</td>\n    </tr>\n    <tr>\n      <th>16</th>\n      <td>16</td>\n      <td>2015/3/10 0:00</td>\n      <td>0.1974</td>\n      <td>0.1966</td>\n      <td>0.1966</td>\n      <td>0.1668</td>\n      <td>0.1688</td>\n      <td>1133</td>\n      <td>2015320</td>\n      <td>12</td>\n      <td>...</td>\n      <td>2.2</td>\n      <td>10000</td>\n      <td>Mar-15</td>\n      <td>2015/2/9 0:00</td>\n      <td>2015/3/25 0:00</td>\n      <td>2015/3/25</td>\n      <td>2015/3/26</td>\n      <td>0.1812</td>\n      <td>实物资产</td>\n      <td>退市</td>\n    </tr>\n    <tr>\n      <th>17</th>\n      <td>17</td>\n      <td>2015/3/11 0:00</td>\n      <td>0.1688</td>\n      <td>0.1746</td>\n      <td>0.2105</td>\n      <td>0.1697</td>\n      <td>0.1774</td>\n      <td>1175</td>\n      <td>2226070</td>\n      <td>11</td>\n      <td>...</td>\n      <td>2.2</td>\n      <td>10000</td>\n      <td>Mar-15</td>\n      <td>2015/2/9 0:00</td>\n      <td>2015/3/25 0:00</td>\n      <td>2015/3/25</td>\n      <td>2015/3/26</td>\n      <td>0.1812</td>\n      <td>实物资产</td>\n      <td>退市</td>\n    </tr>\n    <tr>\n      <th>18</th>\n      <td>18</td>\n      <td>2015/3/12 0:00</td>\n      <td>0.1774</td>\n      <td>0.1870</td>\n      <td>0.2696</td>\n      <td>0.1870</td>\n      <td>0.2525</td>\n      <td>2159</td>\n      <td>5065646</td>\n      <td>10</td>\n      <td>...</td>\n      <td>2.2</td>\n      <td>10000</td>\n      <td>Mar-15</td>\n      <td>2015/2/9 0:00</td>\n      <td>2015/3/25 0:00</td>\n      <td>2015/3/25</td>\n      <td>2015/3/26</td>\n      <td>0.1812</td>\n      <td>实物资产</td>\n      <td>退市</td>\n    </tr>\n    <tr>\n      <th>19</th>\n      <td>19</td>\n      <td>2015/3/13 0:00</td>\n      <td>0.2525</td>\n      <td>0.2559</td>\n      <td>0.2949</td>\n      <td>0.2432</td>\n      <td>0.2570</td>\n      <td>1300</td>\n      <td>3512310</td>\n      <td>9</td>\n      <td>...</td>\n      <td>2.2</td>\n      <td>10000</td>\n      <td>Mar-15</td>\n      <td>2015/2/9 0:00</td>\n      <td>2015/3/25 0:00</td>\n      <td>2015/3/25</td>\n      <td>2015/3/26</td>\n      <td>0.1812</td>\n      <td>实物资产</td>\n      <td>退市</td>\n    </tr>\n    <tr>\n      <th>20</th>\n      <td>20</td>\n      <td>2015/3/16 0:00</td>\n      <td>0.257</td>\n      <td>0.2685</td>\n      <td>0.3099</td>\n      <td>0.2549</td>\n      <td>0.3075</td>\n      <td>1245</td>\n      <td>3554893</td>\n      <td>8</td>\n      <td>...</td>\n      <td>2.2</td>\n      <td>10000</td>\n      <td>Mar-15</td>\n      <td>2015/2/9 0:00</td>\n      <td>2015/3/25 0:00</td>\n      <td>2015/3/25</td>\n      <td>2015/3/26</td>\n      <td>0.1812</td>\n      <td>实物资产</td>\n      <td>退市</td>\n    </tr>\n    <tr>\n      <th>21</th>\n      <td>21</td>\n      <td>2015/3/17 0:00</td>\n      <td>0.3075</td>\n      <td>0.3264</td>\n      <td>0.3417</td>\n      <td>0.3172</td>\n      <td>0.3385</td>\n      <td>697</td>\n      <td>2313861</td>\n      <td>7</td>\n      <td>...</td>\n      <td>2.2</td>\n      <td>10000</td>\n      <td>Mar-15</td>\n      <td>2015/2/9 0:00</td>\n      <td>2015/3/25 0:00</td>\n      <td>2015/3/25</td>\n      <td>2015/3/26</td>\n      <td>0.1812</td>\n      <td>实物资产</td>\n      <td>退市</td>\n    </tr>\n    <tr>\n      <th>22</th>\n      <td>22</td>\n      <td>2015/3/18 0:00</td>\n      <td>0.3385</td>\n      <td>0.3467</td>\n      <td>0.4044</td>\n      <td>0.3467</td>\n      <td>0.4044</td>\n      <td>571</td>\n      <td>2122374</td>\n      <td>6</td>\n      <td>...</td>\n      <td>2.2</td>\n      <td>10000</td>\n      <td>Mar-15</td>\n      <td>2015/2/9 0:00</td>\n      <td>2015/3/25 0:00</td>\n      <td>2015/3/25</td>\n      <td>2015/3/26</td>\n      <td>0.1812</td>\n      <td>实物资产</td>\n      <td>退市</td>\n    </tr>\n    <tr>\n      <th>23</th>\n      <td>23</td>\n      <td>2015/3/19 0:00</td>\n      <td>0.4044</td>\n      <td>0.3983</td>\n      <td>0.4050</td>\n      <td>0.3762</td>\n      <td>0.3902</td>\n      <td>427</td>\n      <td>1662263</td>\n      <td>5</td>\n      <td>...</td>\n      <td>2.2</td>\n      <td>10000</td>\n      <td>Mar-15</td>\n      <td>2015/2/9 0:00</td>\n      <td>2015/3/25 0:00</td>\n      <td>2015/3/25</td>\n      <td>2015/3/26</td>\n      <td>0.1812</td>\n      <td>实物资产</td>\n      <td>退市</td>\n    </tr>\n    <tr>\n      <th>24</th>\n      <td>24</td>\n      <td>2015/3/20 0:00</td>\n      <td>0.3902</td>\n      <td>0.4053</td>\n      <td>0.4679</td>\n      <td>0.3811</td>\n      <td>0.4290</td>\n      <td>558</td>\n      <td>2379963</td>\n      <td>4</td>\n      <td>...</td>\n      <td>2.2</td>\n      <td>10000</td>\n      <td>Mar-15</td>\n      <td>2015/2/9 0:00</td>\n      <td>2015/3/25 0:00</td>\n      <td>2015/3/25</td>\n      <td>2015/3/26</td>\n      <td>0.1812</td>\n      <td>实物资产</td>\n      <td>退市</td>\n    </tr>\n    <tr>\n      <th>25</th>\n      <td>25</td>\n      <td>2015/3/23 0:00</td>\n      <td>0.429</td>\n      <td>0.4450</td>\n      <td>0.4798</td>\n      <td>0.4450</td>\n      <td>0.4742</td>\n      <td>262</td>\n      <td>1218489</td>\n      <td>3</td>\n      <td>...</td>\n      <td>2.2</td>\n      <td>10000</td>\n      <td>Mar-15</td>\n      <td>2015/2/9 0:00</td>\n      <td>2015/3/25 0:00</td>\n      <td>2015/3/25</td>\n      <td>2015/3/26</td>\n      <td>0.1812</td>\n      <td>实物资产</td>\n      <td>退市</td>\n    </tr>\n    <tr>\n      <th>26</th>\n      <td>26</td>\n      <td>2015/3/24 0:00</td>\n      <td>0.4742</td>\n      <td>0.4861</td>\n      <td>0.4861</td>\n      <td>0.4133</td>\n      <td>0.4415</td>\n      <td>228</td>\n      <td>1015972</td>\n      <td>2</td>\n      <td>...</td>\n      <td>2.2</td>\n      <td>10000</td>\n      <td>Mar-15</td>\n      <td>2015/2/9 0:00</td>\n      <td>2015/3/25 0:00</td>\n      <td>2015/3/25</td>\n      <td>2015/3/26</td>\n      <td>0.1812</td>\n      <td>实物资产</td>\n      <td>退市</td>\n    </tr>\n    <tr>\n      <th>27</th>\n      <td>27</td>\n      <td>2015/3/25 0:00</td>\n      <td>0.4415</td>\n      <td>0.4380</td>\n      <td>0.4380</td>\n      <td>0.3884</td>\n      <td>0.4007</td>\n      <td>298</td>\n      <td>1244646</td>\n      <td>1</td>\n      <td>...</td>\n      <td>2.2</td>\n      <td>10000</td>\n      <td>Mar-15</td>\n      <td>2015/2/9 0:00</td>\n      <td>2015/3/25 0:00</td>\n      <td>2015/3/25</td>\n      <td>2015/3/26</td>\n      <td>0.1812</td>\n      <td>实物资产</td>\n      <td>退市</td>\n    </tr>\n  </tbody>\n</table>\n<p>28 rows × 37 columns</p>\n</div>"
     },
     "execution_count": 9,
     "metadata": {},
     "output_type": "execute_result"
    }
   ],
   "source": [
    "'''测试，数据清洗'''\n",
    "csv_name = 'data/50etf_option_data_csv_cleaned/10000001.csv'\n",
    "csv_out = 'data/out/10000001.csv'\n",
    "\n",
    "count = 0\n",
    "callcount = 0\n",
    "putcount = 0\n",
    "\n",
    "data = pd.read_csv(csv_name, encoding = 'utf-8', index_col= False)\n",
    "data"
   ]
  },
  {
   "cell_type": "code",
   "execution_count": 21,
   "outputs": [
    {
     "data": {
      "text/plain": "Index(['Date', 'pre_close', 'open', 'high', 'low', 'close', 'volume', 'amt',\n       'dealnum', 'chg', 'pct_chg', 'swing', 'turn'],\n      dtype='object')"
     },
     "execution_count": 21,
     "metadata": {},
     "output_type": "execute_result"
    }
   ],
   "source": [
    "tf50 = pd.read_excel(r'.\\data\\50etf_df.xlsx')\n",
    "tf50.columns"
   ],
   "metadata": {
    "collapsed": false,
    "pycharm": {
     "name": "#%%\n"
    }
   }
  },
  {
   "cell_type": "code",
   "execution_count": 22,
   "outputs": [
    {
     "data": {
      "text/plain": "Index(['date', 'ptmtradeday', 'exe_price', 'open', 'high', 'low', 'close',\n       'call_or_put'],\n      dtype='object')"
     },
     "execution_count": 22,
     "metadata": {},
     "output_type": "execute_result"
    }
   ],
   "source": [
    "data.columns"
   ],
   "metadata": {
    "collapsed": false,
    "pycharm": {
     "name": "#%%\n"
    }
   }
  },
  {
   "cell_type": "code",
   "execution_count": 11,
   "outputs": [
    {
     "data": {
      "text/plain": "        date  ptmtradeday  exe_price    open    high     low   close  \\\n0 2015-02-09           28        2.2  0.1820  0.2029  0.1699  0.1826   \n1 2015-02-10           27        2.2  0.1856  0.2144  0.1800  0.2072   \n2 2015-02-11           26        2.2  0.2083  0.2195  0.2028  0.2107   \n3 2015-02-12           25        2.2  0.2141  0.2143  0.1915  0.2109   \n4 2015-02-13           24        2.2  0.2130  0.2459  0.2090  0.2090   \n\n   call_or_put  \n0            1  \n1            1  \n2            1  \n3            1  \n4            1  ",
      "text/html": "<div>\n<style>\n    .dataframe thead tr:only-child th {\n        text-align: right;\n    }\n\n    .dataframe thead th {\n        text-align: left;\n    }\n\n    .dataframe tbody tr th {\n        vertical-align: top;\n    }\n</style>\n<table border=\"1\" class=\"dataframe\">\n  <thead>\n    <tr style=\"text-align: right;\">\n      <th></th>\n      <th>date</th>\n      <th>ptmtradeday</th>\n      <th>exe_price</th>\n      <th>open</th>\n      <th>high</th>\n      <th>low</th>\n      <th>close</th>\n      <th>call_or_put</th>\n    </tr>\n  </thead>\n  <tbody>\n    <tr>\n      <th>0</th>\n      <td>2015-02-09</td>\n      <td>28</td>\n      <td>2.2</td>\n      <td>0.1820</td>\n      <td>0.2029</td>\n      <td>0.1699</td>\n      <td>0.1826</td>\n      <td>1</td>\n    </tr>\n    <tr>\n      <th>1</th>\n      <td>2015-02-10</td>\n      <td>27</td>\n      <td>2.2</td>\n      <td>0.1856</td>\n      <td>0.2144</td>\n      <td>0.1800</td>\n      <td>0.2072</td>\n      <td>1</td>\n    </tr>\n    <tr>\n      <th>2</th>\n      <td>2015-02-11</td>\n      <td>26</td>\n      <td>2.2</td>\n      <td>0.2083</td>\n      <td>0.2195</td>\n      <td>0.2028</td>\n      <td>0.2107</td>\n      <td>1</td>\n    </tr>\n    <tr>\n      <th>3</th>\n      <td>2015-02-12</td>\n      <td>25</td>\n      <td>2.2</td>\n      <td>0.2141</td>\n      <td>0.2143</td>\n      <td>0.1915</td>\n      <td>0.2109</td>\n      <td>1</td>\n    </tr>\n    <tr>\n      <th>4</th>\n      <td>2015-02-13</td>\n      <td>24</td>\n      <td>2.2</td>\n      <td>0.2130</td>\n      <td>0.2459</td>\n      <td>0.2090</td>\n      <td>0.2090</td>\n      <td>1</td>\n    </tr>\n  </tbody>\n</table>\n</div>"
     },
     "execution_count": 11,
     "metadata": {},
     "output_type": "execute_result"
    }
   ],
   "source": [
    "data[\"date\"] = pd.to_datetime(data[\"date\"])\n",
    "data = data[['date','ptmtradeday','exe_price', 'open', 'high','low','close', 'call_or_put']]\n",
    "data.head()"
   ],
   "metadata": {
    "collapsed": false,
    "pycharm": {
     "name": "#%%\n"
    }
   }
  },
  {
   "cell_type": "code",
   "execution_count": 12,
   "outputs": [
    {
     "name": "stderr",
     "output_type": "stream",
     "text": [
      "C:\\fun\\annaconda\\envs\\tensorflow\\lib\\site-packages\\ipykernel_launcher.py:1: SettingWithCopyWarning: \n",
      "A value is trying to be set on a copy of a slice from a DataFrame.\n",
      "Try using .loc[row_indexer,col_indexer] = value instead\n",
      "\n",
      "See the caveats in the documentation: http://pandas.pydata.org/pandas-docs/stable/indexing.html#indexing-view-versus-copy\n",
      "  \"\"\"Entry point for launching an IPython kernel.\n"
     ]
    },
    {
     "data": {
      "text/plain": "        date  ptmtradeday  exe_price    open    high     low   close  \\\n0 2015-02-09           28        2.2  0.1820  0.2029  0.1699  0.1826   \n1 2015-02-10           27        2.2  0.1856  0.2144  0.1800  0.2072   \n2 2015-02-11           26        2.2  0.2083  0.2195  0.2028  0.2107   \n3 2015-02-12           25        2.2  0.2141  0.2143  0.1915  0.2109   \n4 2015-02-13           24        2.2  0.2130  0.2459  0.2090  0.2090   \n\n  call_or_put  \n0         put  \n1         put  \n2         put  \n3         put  \n4         put  ",
      "text/html": "<div>\n<style>\n    .dataframe thead tr:only-child th {\n        text-align: right;\n    }\n\n    .dataframe thead th {\n        text-align: left;\n    }\n\n    .dataframe tbody tr th {\n        vertical-align: top;\n    }\n</style>\n<table border=\"1\" class=\"dataframe\">\n  <thead>\n    <tr style=\"text-align: right;\">\n      <th></th>\n      <th>date</th>\n      <th>ptmtradeday</th>\n      <th>exe_price</th>\n      <th>open</th>\n      <th>high</th>\n      <th>low</th>\n      <th>close</th>\n      <th>call_or_put</th>\n    </tr>\n  </thead>\n  <tbody>\n    <tr>\n      <th>0</th>\n      <td>2015-02-09</td>\n      <td>28</td>\n      <td>2.2</td>\n      <td>0.1820</td>\n      <td>0.2029</td>\n      <td>0.1699</td>\n      <td>0.1826</td>\n      <td>put</td>\n    </tr>\n    <tr>\n      <th>1</th>\n      <td>2015-02-10</td>\n      <td>27</td>\n      <td>2.2</td>\n      <td>0.1856</td>\n      <td>0.2144</td>\n      <td>0.1800</td>\n      <td>0.2072</td>\n      <td>put</td>\n    </tr>\n    <tr>\n      <th>2</th>\n      <td>2015-02-11</td>\n      <td>26</td>\n      <td>2.2</td>\n      <td>0.2083</td>\n      <td>0.2195</td>\n      <td>0.2028</td>\n      <td>0.2107</td>\n      <td>put</td>\n    </tr>\n    <tr>\n      <th>3</th>\n      <td>2015-02-12</td>\n      <td>25</td>\n      <td>2.2</td>\n      <td>0.2141</td>\n      <td>0.2143</td>\n      <td>0.1915</td>\n      <td>0.2109</td>\n      <td>put</td>\n    </tr>\n    <tr>\n      <th>4</th>\n      <td>2015-02-13</td>\n      <td>24</td>\n      <td>2.2</td>\n      <td>0.2130</td>\n      <td>0.2459</td>\n      <td>0.2090</td>\n      <td>0.2090</td>\n      <td>put</td>\n    </tr>\n  </tbody>\n</table>\n</div>"
     },
     "execution_count": 12,
     "metadata": {},
     "output_type": "execute_result"
    }
   ],
   "source": [
    "data['call_or_put'] = data['call_or_put'].apply(change)\n",
    "data.head()\n"
   ],
   "metadata": {
    "collapsed": false,
    "pycharm": {
     "name": "#%%\n"
    }
   }
  },
  {
   "cell_type": "code",
   "execution_count": 13,
   "outputs": [
    {
     "data": {
      "text/plain": "        date     Value\n0 2012-10-08  0.035896\n1 2012-10-09  0.035942\n2 2012-10-10  0.036249\n3 2012-10-11  0.036252\n4 2012-10-12  0.036240",
      "text/html": "<div>\n<style>\n    .dataframe thead tr:only-child th {\n        text-align: right;\n    }\n\n    .dataframe thead th {\n        text-align: left;\n    }\n\n    .dataframe tbody tr th {\n        vertical-align: top;\n    }\n</style>\n<table border=\"1\" class=\"dataframe\">\n  <thead>\n    <tr style=\"text-align: right;\">\n      <th></th>\n      <th>date</th>\n      <th>Value</th>\n    </tr>\n  </thead>\n  <tbody>\n    <tr>\n      <th>0</th>\n      <td>2012-10-08</td>\n      <td>0.035896</td>\n    </tr>\n    <tr>\n      <th>1</th>\n      <td>2012-10-09</td>\n      <td>0.035942</td>\n    </tr>\n    <tr>\n      <th>2</th>\n      <td>2012-10-10</td>\n      <td>0.036249</td>\n    </tr>\n    <tr>\n      <th>3</th>\n      <td>2012-10-11</td>\n      <td>0.036252</td>\n    </tr>\n    <tr>\n      <th>4</th>\n      <td>2012-10-12</td>\n      <td>0.036240</td>\n    </tr>\n  </tbody>\n</table>\n</div>"
     },
     "execution_count": 13,
     "metadata": {},
     "output_type": "execute_result"
    }
   ],
   "source": [
    "rate = pd.read_excel(r\".\\data\\unrisked_rate.xlsx\")\n",
    "rate['date'] = pd.to_datetime(rate['date'])\n",
    "rate['Value'] = rate['Value']/100\n",
    "rate.head()"
   ],
   "metadata": {
    "collapsed": false,
    "pycharm": {
     "name": "#%%\n"
    }
   }
  },
  {
   "cell_type": "code",
   "execution_count": 15,
   "outputs": [
    {
     "data": {
      "text/plain": "(2517, 2)"
     },
     "execution_count": 15,
     "metadata": {},
     "output_type": "execute_result"
    }
   ],
   "source": [
    "rate.shape"
   ],
   "metadata": {
    "collapsed": false,
    "pycharm": {
     "name": "#%%\n"
    }
   }
  },
  {
   "cell_type": "code",
   "execution_count": 14,
   "outputs": [
    {
     "data": {
      "text/plain": "        Date  close\n0 2005-02-23  0.876\n1 2005-02-24  0.876\n2 2005-02-25  0.880\n3 2005-02-28  0.872\n4 2005-03-01  0.867",
      "text/html": "<div>\n<style>\n    .dataframe thead tr:only-child th {\n        text-align: right;\n    }\n\n    .dataframe thead th {\n        text-align: left;\n    }\n\n    .dataframe tbody tr th {\n        vertical-align: top;\n    }\n</style>\n<table border=\"1\" class=\"dataframe\">\n  <thead>\n    <tr style=\"text-align: right;\">\n      <th></th>\n      <th>Date</th>\n      <th>close</th>\n    </tr>\n  </thead>\n  <tbody>\n    <tr>\n      <th>0</th>\n      <td>2005-02-23</td>\n      <td>0.876</td>\n    </tr>\n    <tr>\n      <th>1</th>\n      <td>2005-02-24</td>\n      <td>0.876</td>\n    </tr>\n    <tr>\n      <th>2</th>\n      <td>2005-02-25</td>\n      <td>0.880</td>\n    </tr>\n    <tr>\n      <th>3</th>\n      <td>2005-02-28</td>\n      <td>0.872</td>\n    </tr>\n    <tr>\n      <th>4</th>\n      <td>2005-03-01</td>\n      <td>0.867</td>\n    </tr>\n  </tbody>\n</table>\n</div>"
     },
     "execution_count": 14,
     "metadata": {},
     "output_type": "execute_result"
    }
   ],
   "source": [
    "etf50 = pd.read_excel(r'.\\data\\50etf_df.xlsx')\n",
    "etf50 = etf50[['Date','close']]\n",
    "etf50['Date'] = pd.to_datetime(etf50['Date'])\n",
    "etf50.head()"
   ],
   "metadata": {
    "collapsed": false,
    "pycharm": {
     "name": "#%%\n"
    }
   }
  },
  {
   "cell_type": "code",
   "execution_count": 16,
   "outputs": [
    {
     "data": {
      "text/plain": "(4305, 2)"
     },
     "execution_count": 16,
     "metadata": {},
     "output_type": "execute_result"
    }
   ],
   "source": [
    "etf50.shape"
   ],
   "metadata": {
    "collapsed": false,
    "pycharm": {
     "name": "#%%\n"
    }
   }
  },
  {
   "cell_type": "code",
   "execution_count": 18,
   "outputs": [
    {
     "data": {
      "text/plain": "         date     Value  ptmtradeday  exe_price    open    high     low  \\\n0  2015-02-09  0.045769           28        2.2  0.1820  0.2029  0.1699   \n1  2015-02-10  0.045696           27        2.2  0.1856  0.2144  0.1800   \n2  2015-02-11  0.045715           26        2.2  0.2083  0.2195  0.2028   \n3  2015-02-12  0.045540           25        2.2  0.2141  0.2143  0.1915   \n4  2015-02-13  0.045669           24        2.2  0.2130  0.2459  0.2090   \n5  2015-02-16  0.045716           23        2.2  0.2111  0.2219  0.2066   \n6  2015-02-17  0.045626           22        2.2  0.2226  0.2408  0.2226   \n7  2015-02-25  0.045924           21        2.2  0.2235  0.2250  0.1816   \n8  2015-02-26  0.046345           20        2.2  0.1900  0.2530  0.1730   \n9  2015-02-27  0.046482           19        2.2  0.2534  0.2739  0.2431   \n10 2015-03-02  0.046612           18        2.2  0.2587  0.2717  0.2425   \n11 2015-03-03  0.046759           17        2.2  0.2430  0.2430  0.1790   \n12 2015-03-04  0.046664           16        2.2  0.1844  0.1978  0.1672   \n13 2015-03-05  0.046857           15        2.2  0.1700  0.2245  0.1360   \n14 2015-03-06  0.047095           14        2.2  0.1568  0.1705  0.1520   \n15 2015-03-09  0.047596           13        2.2  0.1466  0.2098  0.1154   \n16 2015-03-10  0.047313           12        2.2  0.1966  0.1966  0.1668   \n17 2015-03-11  0.047009           11        2.2  0.1746  0.2105  0.1697   \n18 2015-03-12  0.047020           10        2.2  0.1870  0.2696  0.1870   \n19 2015-03-13  0.046982            9        2.2  0.2559  0.2949  0.2432   \n20 2015-03-16  0.047459            8        2.2  0.2685  0.3099  0.2549   \n21 2015-03-17  0.047672            7        2.2  0.3264  0.3417  0.3172   \n22 2015-03-18  0.047207            6        2.2  0.3467  0.4044  0.3467   \n23 2015-03-19  0.047304            5        2.2  0.3983  0.4050  0.3762   \n24 2015-03-20  0.046605            4        2.2  0.4053  0.4679  0.3811   \n25 2015-03-23  0.046715            3        2.2  0.4450  0.4798  0.4450   \n26 2015-03-24  0.046692            2        2.2  0.4861  0.4861  0.4133   \n27 2015-03-25  0.046926            1        2.2  0.4380  0.4380  0.3884   \n\n     close call_or_put  \n0   0.1826         put  \n1   0.2072         put  \n2   0.2107         put  \n3   0.2109         put  \n4   0.2090         put  \n5   0.2172         put  \n6   0.2296         put  \n7   0.1885         put  \n8   0.2530         put  \n9   0.2488         put  \n10  0.2504         put  \n11  0.1790         put  \n12  0.1740         put  \n13  0.1502         put  \n14  0.1533         put  \n15  0.1974         put  \n16  0.1688         put  \n17  0.1774         put  \n18  0.2525         put  \n19  0.2570         put  \n20  0.3075         put  \n21  0.3385         put  \n22  0.4044         put  \n23  0.3902         put  \n24  0.4290         put  \n25  0.4742         put  \n26  0.4415         put  \n27  0.4007         put  ",
      "text/html": "<div>\n<style>\n    .dataframe thead tr:only-child th {\n        text-align: right;\n    }\n\n    .dataframe thead th {\n        text-align: left;\n    }\n\n    .dataframe tbody tr th {\n        vertical-align: top;\n    }\n</style>\n<table border=\"1\" class=\"dataframe\">\n  <thead>\n    <tr style=\"text-align: right;\">\n      <th></th>\n      <th>date</th>\n      <th>Value</th>\n      <th>ptmtradeday</th>\n      <th>exe_price</th>\n      <th>open</th>\n      <th>high</th>\n      <th>low</th>\n      <th>close</th>\n      <th>call_or_put</th>\n    </tr>\n  </thead>\n  <tbody>\n    <tr>\n      <th>0</th>\n      <td>2015-02-09</td>\n      <td>0.045769</td>\n      <td>28</td>\n      <td>2.2</td>\n      <td>0.1820</td>\n      <td>0.2029</td>\n      <td>0.1699</td>\n      <td>0.1826</td>\n      <td>put</td>\n    </tr>\n    <tr>\n      <th>1</th>\n      <td>2015-02-10</td>\n      <td>0.045696</td>\n      <td>27</td>\n      <td>2.2</td>\n      <td>0.1856</td>\n      <td>0.2144</td>\n      <td>0.1800</td>\n      <td>0.2072</td>\n      <td>put</td>\n    </tr>\n    <tr>\n      <th>2</th>\n      <td>2015-02-11</td>\n      <td>0.045715</td>\n      <td>26</td>\n      <td>2.2</td>\n      <td>0.2083</td>\n      <td>0.2195</td>\n      <td>0.2028</td>\n      <td>0.2107</td>\n      <td>put</td>\n    </tr>\n    <tr>\n      <th>3</th>\n      <td>2015-02-12</td>\n      <td>0.045540</td>\n      <td>25</td>\n      <td>2.2</td>\n      <td>0.2141</td>\n      <td>0.2143</td>\n      <td>0.1915</td>\n      <td>0.2109</td>\n      <td>put</td>\n    </tr>\n    <tr>\n      <th>4</th>\n      <td>2015-02-13</td>\n      <td>0.045669</td>\n      <td>24</td>\n      <td>2.2</td>\n      <td>0.2130</td>\n      <td>0.2459</td>\n      <td>0.2090</td>\n      <td>0.2090</td>\n      <td>put</td>\n    </tr>\n    <tr>\n      <th>5</th>\n      <td>2015-02-16</td>\n      <td>0.045716</td>\n      <td>23</td>\n      <td>2.2</td>\n      <td>0.2111</td>\n      <td>0.2219</td>\n      <td>0.2066</td>\n      <td>0.2172</td>\n      <td>put</td>\n    </tr>\n    <tr>\n      <th>6</th>\n      <td>2015-02-17</td>\n      <td>0.045626</td>\n      <td>22</td>\n      <td>2.2</td>\n      <td>0.2226</td>\n      <td>0.2408</td>\n      <td>0.2226</td>\n      <td>0.2296</td>\n      <td>put</td>\n    </tr>\n    <tr>\n      <th>7</th>\n      <td>2015-02-25</td>\n      <td>0.045924</td>\n      <td>21</td>\n      <td>2.2</td>\n      <td>0.2235</td>\n      <td>0.2250</td>\n      <td>0.1816</td>\n      <td>0.1885</td>\n      <td>put</td>\n    </tr>\n    <tr>\n      <th>8</th>\n      <td>2015-02-26</td>\n      <td>0.046345</td>\n      <td>20</td>\n      <td>2.2</td>\n      <td>0.1900</td>\n      <td>0.2530</td>\n      <td>0.1730</td>\n      <td>0.2530</td>\n      <td>put</td>\n    </tr>\n    <tr>\n      <th>9</th>\n      <td>2015-02-27</td>\n      <td>0.046482</td>\n      <td>19</td>\n      <td>2.2</td>\n      <td>0.2534</td>\n      <td>0.2739</td>\n      <td>0.2431</td>\n      <td>0.2488</td>\n      <td>put</td>\n    </tr>\n    <tr>\n      <th>10</th>\n      <td>2015-03-02</td>\n      <td>0.046612</td>\n      <td>18</td>\n      <td>2.2</td>\n      <td>0.2587</td>\n      <td>0.2717</td>\n      <td>0.2425</td>\n      <td>0.2504</td>\n      <td>put</td>\n    </tr>\n    <tr>\n      <th>11</th>\n      <td>2015-03-03</td>\n      <td>0.046759</td>\n      <td>17</td>\n      <td>2.2</td>\n      <td>0.2430</td>\n      <td>0.2430</td>\n      <td>0.1790</td>\n      <td>0.1790</td>\n      <td>put</td>\n    </tr>\n    <tr>\n      <th>12</th>\n      <td>2015-03-04</td>\n      <td>0.046664</td>\n      <td>16</td>\n      <td>2.2</td>\n      <td>0.1844</td>\n      <td>0.1978</td>\n      <td>0.1672</td>\n      <td>0.1740</td>\n      <td>put</td>\n    </tr>\n    <tr>\n      <th>13</th>\n      <td>2015-03-05</td>\n      <td>0.046857</td>\n      <td>15</td>\n      <td>2.2</td>\n      <td>0.1700</td>\n      <td>0.2245</td>\n      <td>0.1360</td>\n      <td>0.1502</td>\n      <td>put</td>\n    </tr>\n    <tr>\n      <th>14</th>\n      <td>2015-03-06</td>\n      <td>0.047095</td>\n      <td>14</td>\n      <td>2.2</td>\n      <td>0.1568</td>\n      <td>0.1705</td>\n      <td>0.1520</td>\n      <td>0.1533</td>\n      <td>put</td>\n    </tr>\n    <tr>\n      <th>15</th>\n      <td>2015-03-09</td>\n      <td>0.047596</td>\n      <td>13</td>\n      <td>2.2</td>\n      <td>0.1466</td>\n      <td>0.2098</td>\n      <td>0.1154</td>\n      <td>0.1974</td>\n      <td>put</td>\n    </tr>\n    <tr>\n      <th>16</th>\n      <td>2015-03-10</td>\n      <td>0.047313</td>\n      <td>12</td>\n      <td>2.2</td>\n      <td>0.1966</td>\n      <td>0.1966</td>\n      <td>0.1668</td>\n      <td>0.1688</td>\n      <td>put</td>\n    </tr>\n    <tr>\n      <th>17</th>\n      <td>2015-03-11</td>\n      <td>0.047009</td>\n      <td>11</td>\n      <td>2.2</td>\n      <td>0.1746</td>\n      <td>0.2105</td>\n      <td>0.1697</td>\n      <td>0.1774</td>\n      <td>put</td>\n    </tr>\n    <tr>\n      <th>18</th>\n      <td>2015-03-12</td>\n      <td>0.047020</td>\n      <td>10</td>\n      <td>2.2</td>\n      <td>0.1870</td>\n      <td>0.2696</td>\n      <td>0.1870</td>\n      <td>0.2525</td>\n      <td>put</td>\n    </tr>\n    <tr>\n      <th>19</th>\n      <td>2015-03-13</td>\n      <td>0.046982</td>\n      <td>9</td>\n      <td>2.2</td>\n      <td>0.2559</td>\n      <td>0.2949</td>\n      <td>0.2432</td>\n      <td>0.2570</td>\n      <td>put</td>\n    </tr>\n    <tr>\n      <th>20</th>\n      <td>2015-03-16</td>\n      <td>0.047459</td>\n      <td>8</td>\n      <td>2.2</td>\n      <td>0.2685</td>\n      <td>0.3099</td>\n      <td>0.2549</td>\n      <td>0.3075</td>\n      <td>put</td>\n    </tr>\n    <tr>\n      <th>21</th>\n      <td>2015-03-17</td>\n      <td>0.047672</td>\n      <td>7</td>\n      <td>2.2</td>\n      <td>0.3264</td>\n      <td>0.3417</td>\n      <td>0.3172</td>\n      <td>0.3385</td>\n      <td>put</td>\n    </tr>\n    <tr>\n      <th>22</th>\n      <td>2015-03-18</td>\n      <td>0.047207</td>\n      <td>6</td>\n      <td>2.2</td>\n      <td>0.3467</td>\n      <td>0.4044</td>\n      <td>0.3467</td>\n      <td>0.4044</td>\n      <td>put</td>\n    </tr>\n    <tr>\n      <th>23</th>\n      <td>2015-03-19</td>\n      <td>0.047304</td>\n      <td>5</td>\n      <td>2.2</td>\n      <td>0.3983</td>\n      <td>0.4050</td>\n      <td>0.3762</td>\n      <td>0.3902</td>\n      <td>put</td>\n    </tr>\n    <tr>\n      <th>24</th>\n      <td>2015-03-20</td>\n      <td>0.046605</td>\n      <td>4</td>\n      <td>2.2</td>\n      <td>0.4053</td>\n      <td>0.4679</td>\n      <td>0.3811</td>\n      <td>0.4290</td>\n      <td>put</td>\n    </tr>\n    <tr>\n      <th>25</th>\n      <td>2015-03-23</td>\n      <td>0.046715</td>\n      <td>3</td>\n      <td>2.2</td>\n      <td>0.4450</td>\n      <td>0.4798</td>\n      <td>0.4450</td>\n      <td>0.4742</td>\n      <td>put</td>\n    </tr>\n    <tr>\n      <th>26</th>\n      <td>2015-03-24</td>\n      <td>0.046692</td>\n      <td>2</td>\n      <td>2.2</td>\n      <td>0.4861</td>\n      <td>0.4861</td>\n      <td>0.4133</td>\n      <td>0.4415</td>\n      <td>put</td>\n    </tr>\n    <tr>\n      <th>27</th>\n      <td>2015-03-25</td>\n      <td>0.046926</td>\n      <td>1</td>\n      <td>2.2</td>\n      <td>0.4380</td>\n      <td>0.4380</td>\n      <td>0.3884</td>\n      <td>0.4007</td>\n      <td>put</td>\n    </tr>\n  </tbody>\n</table>\n</div>"
     },
     "execution_count": 18,
     "metadata": {},
     "output_type": "execute_result"
    }
   ],
   "source": [
    "merged_option1 = pd.merge(rate, data, on = 'date', how = 'inner')\n",
    "merged_option1"
   ],
   "metadata": {
    "collapsed": false,
    "pycharm": {
     "name": "#%%\n"
    }
   }
  },
  {
   "cell_type": "code",
   "execution_count": 20,
   "outputs": [
    {
     "data": {
      "text/plain": "         Date  close_x       date     Value  ptmtradeday  exe_price    open  \\\n0  2015-02-09    2.331 2015-02-09  0.045769           28        2.2  0.1820   \n1  2015-02-10    2.369 2015-02-10  0.045696           27        2.2  0.1856   \n2  2015-02-11    2.380 2015-02-11  0.045715           26        2.2  0.2083   \n3  2015-02-12    2.384 2015-02-12  0.045540           25        2.2  0.2141   \n4  2015-02-13    2.390 2015-02-13  0.045669           24        2.2  0.2130   \n5  2015-02-16    2.394 2015-02-16  0.045716           23        2.2  0.2111   \n6  2015-02-17    2.411 2015-02-17  0.045626           22        2.2  0.2226   \n7  2015-02-25    2.370 2015-02-25  0.045924           21        2.2  0.2235   \n8  2015-02-26    2.450 2015-02-26  0.046345           20        2.2  0.1900   \n9  2015-02-27    2.438 2015-02-27  0.046482           19        2.2  0.2534   \n10 2015-03-02    2.441 2015-03-02  0.046612           18        2.2  0.2587   \n11 2015-03-03    2.364 2015-03-03  0.046759           17        2.2  0.2430   \n12 2015-03-04    2.362 2015-03-04  0.046664           16        2.2  0.1844   \n13 2015-03-05    2.334 2015-03-05  0.046857           15        2.2  0.1700   \n14 2015-03-06    2.339 2015-03-06  0.047095           14        2.2  0.1568   \n15 2015-03-09    2.397 2015-03-09  0.047596           13        2.2  0.1466   \n16 2015-03-10    2.359 2015-03-10  0.047313           12        2.2  0.1966   \n17 2015-03-11    2.374 2015-03-11  0.047009           11        2.2  0.1746   \n18 2015-03-12    2.448 2015-03-12  0.047020           10        2.2  0.1870   \n19 2015-03-13    2.455 2015-03-13  0.046982            9        2.2  0.2559   \n20 2015-03-16    2.510 2015-03-16  0.047459            8        2.2  0.2685   \n21 2015-03-17    2.543 2015-03-17  0.047672            7        2.2  0.3264   \n22 2015-03-18    2.611 2015-03-18  0.047207            6        2.2  0.3467   \n23 2015-03-19    2.587 2015-03-19  0.047304            5        2.2  0.3983   \n24 2015-03-20    2.635 2015-03-20  0.046605            4        2.2  0.4053   \n25 2015-03-23    2.676 2015-03-23  0.046715            3        2.2  0.4450   \n26 2015-03-24    2.638 2015-03-24  0.046692            2        2.2  0.4861   \n27 2015-03-25    2.604 2015-03-25  0.046926            1        2.2  0.4380   \n\n      high     low  close_y call_or_put  \n0   0.2029  0.1699   0.1826         put  \n1   0.2144  0.1800   0.2072         put  \n2   0.2195  0.2028   0.2107         put  \n3   0.2143  0.1915   0.2109         put  \n4   0.2459  0.2090   0.2090         put  \n5   0.2219  0.2066   0.2172         put  \n6   0.2408  0.2226   0.2296         put  \n7   0.2250  0.1816   0.1885         put  \n8   0.2530  0.1730   0.2530         put  \n9   0.2739  0.2431   0.2488         put  \n10  0.2717  0.2425   0.2504         put  \n11  0.2430  0.1790   0.1790         put  \n12  0.1978  0.1672   0.1740         put  \n13  0.2245  0.1360   0.1502         put  \n14  0.1705  0.1520   0.1533         put  \n15  0.2098  0.1154   0.1974         put  \n16  0.1966  0.1668   0.1688         put  \n17  0.2105  0.1697   0.1774         put  \n18  0.2696  0.1870   0.2525         put  \n19  0.2949  0.2432   0.2570         put  \n20  0.3099  0.2549   0.3075         put  \n21  0.3417  0.3172   0.3385         put  \n22  0.4044  0.3467   0.4044         put  \n23  0.4050  0.3762   0.3902         put  \n24  0.4679  0.3811   0.4290         put  \n25  0.4798  0.4450   0.4742         put  \n26  0.4861  0.4133   0.4415         put  \n27  0.4380  0.3884   0.4007         put  ",
      "text/html": "<div>\n<style>\n    .dataframe thead tr:only-child th {\n        text-align: right;\n    }\n\n    .dataframe thead th {\n        text-align: left;\n    }\n\n    .dataframe tbody tr th {\n        vertical-align: top;\n    }\n</style>\n<table border=\"1\" class=\"dataframe\">\n  <thead>\n    <tr style=\"text-align: right;\">\n      <th></th>\n      <th>Date</th>\n      <th>close_x</th>\n      <th>date</th>\n      <th>Value</th>\n      <th>ptmtradeday</th>\n      <th>exe_price</th>\n      <th>open</th>\n      <th>high</th>\n      <th>low</th>\n      <th>close_y</th>\n      <th>call_or_put</th>\n    </tr>\n  </thead>\n  <tbody>\n    <tr>\n      <th>0</th>\n      <td>2015-02-09</td>\n      <td>2.331</td>\n      <td>2015-02-09</td>\n      <td>0.045769</td>\n      <td>28</td>\n      <td>2.2</td>\n      <td>0.1820</td>\n      <td>0.2029</td>\n      <td>0.1699</td>\n      <td>0.1826</td>\n      <td>put</td>\n    </tr>\n    <tr>\n      <th>1</th>\n      <td>2015-02-10</td>\n      <td>2.369</td>\n      <td>2015-02-10</td>\n      <td>0.045696</td>\n      <td>27</td>\n      <td>2.2</td>\n      <td>0.1856</td>\n      <td>0.2144</td>\n      <td>0.1800</td>\n      <td>0.2072</td>\n      <td>put</td>\n    </tr>\n    <tr>\n      <th>2</th>\n      <td>2015-02-11</td>\n      <td>2.380</td>\n      <td>2015-02-11</td>\n      <td>0.045715</td>\n      <td>26</td>\n      <td>2.2</td>\n      <td>0.2083</td>\n      <td>0.2195</td>\n      <td>0.2028</td>\n      <td>0.2107</td>\n      <td>put</td>\n    </tr>\n    <tr>\n      <th>3</th>\n      <td>2015-02-12</td>\n      <td>2.384</td>\n      <td>2015-02-12</td>\n      <td>0.045540</td>\n      <td>25</td>\n      <td>2.2</td>\n      <td>0.2141</td>\n      <td>0.2143</td>\n      <td>0.1915</td>\n      <td>0.2109</td>\n      <td>put</td>\n    </tr>\n    <tr>\n      <th>4</th>\n      <td>2015-02-13</td>\n      <td>2.390</td>\n      <td>2015-02-13</td>\n      <td>0.045669</td>\n      <td>24</td>\n      <td>2.2</td>\n      <td>0.2130</td>\n      <td>0.2459</td>\n      <td>0.2090</td>\n      <td>0.2090</td>\n      <td>put</td>\n    </tr>\n    <tr>\n      <th>5</th>\n      <td>2015-02-16</td>\n      <td>2.394</td>\n      <td>2015-02-16</td>\n      <td>0.045716</td>\n      <td>23</td>\n      <td>2.2</td>\n      <td>0.2111</td>\n      <td>0.2219</td>\n      <td>0.2066</td>\n      <td>0.2172</td>\n      <td>put</td>\n    </tr>\n    <tr>\n      <th>6</th>\n      <td>2015-02-17</td>\n      <td>2.411</td>\n      <td>2015-02-17</td>\n      <td>0.045626</td>\n      <td>22</td>\n      <td>2.2</td>\n      <td>0.2226</td>\n      <td>0.2408</td>\n      <td>0.2226</td>\n      <td>0.2296</td>\n      <td>put</td>\n    </tr>\n    <tr>\n      <th>7</th>\n      <td>2015-02-25</td>\n      <td>2.370</td>\n      <td>2015-02-25</td>\n      <td>0.045924</td>\n      <td>21</td>\n      <td>2.2</td>\n      <td>0.2235</td>\n      <td>0.2250</td>\n      <td>0.1816</td>\n      <td>0.1885</td>\n      <td>put</td>\n    </tr>\n    <tr>\n      <th>8</th>\n      <td>2015-02-26</td>\n      <td>2.450</td>\n      <td>2015-02-26</td>\n      <td>0.046345</td>\n      <td>20</td>\n      <td>2.2</td>\n      <td>0.1900</td>\n      <td>0.2530</td>\n      <td>0.1730</td>\n      <td>0.2530</td>\n      <td>put</td>\n    </tr>\n    <tr>\n      <th>9</th>\n      <td>2015-02-27</td>\n      <td>2.438</td>\n      <td>2015-02-27</td>\n      <td>0.046482</td>\n      <td>19</td>\n      <td>2.2</td>\n      <td>0.2534</td>\n      <td>0.2739</td>\n      <td>0.2431</td>\n      <td>0.2488</td>\n      <td>put</td>\n    </tr>\n    <tr>\n      <th>10</th>\n      <td>2015-03-02</td>\n      <td>2.441</td>\n      <td>2015-03-02</td>\n      <td>0.046612</td>\n      <td>18</td>\n      <td>2.2</td>\n      <td>0.2587</td>\n      <td>0.2717</td>\n      <td>0.2425</td>\n      <td>0.2504</td>\n      <td>put</td>\n    </tr>\n    <tr>\n      <th>11</th>\n      <td>2015-03-03</td>\n      <td>2.364</td>\n      <td>2015-03-03</td>\n      <td>0.046759</td>\n      <td>17</td>\n      <td>2.2</td>\n      <td>0.2430</td>\n      <td>0.2430</td>\n      <td>0.1790</td>\n      <td>0.1790</td>\n      <td>put</td>\n    </tr>\n    <tr>\n      <th>12</th>\n      <td>2015-03-04</td>\n      <td>2.362</td>\n      <td>2015-03-04</td>\n      <td>0.046664</td>\n      <td>16</td>\n      <td>2.2</td>\n      <td>0.1844</td>\n      <td>0.1978</td>\n      <td>0.1672</td>\n      <td>0.1740</td>\n      <td>put</td>\n    </tr>\n    <tr>\n      <th>13</th>\n      <td>2015-03-05</td>\n      <td>2.334</td>\n      <td>2015-03-05</td>\n      <td>0.046857</td>\n      <td>15</td>\n      <td>2.2</td>\n      <td>0.1700</td>\n      <td>0.2245</td>\n      <td>0.1360</td>\n      <td>0.1502</td>\n      <td>put</td>\n    </tr>\n    <tr>\n      <th>14</th>\n      <td>2015-03-06</td>\n      <td>2.339</td>\n      <td>2015-03-06</td>\n      <td>0.047095</td>\n      <td>14</td>\n      <td>2.2</td>\n      <td>0.1568</td>\n      <td>0.1705</td>\n      <td>0.1520</td>\n      <td>0.1533</td>\n      <td>put</td>\n    </tr>\n    <tr>\n      <th>15</th>\n      <td>2015-03-09</td>\n      <td>2.397</td>\n      <td>2015-03-09</td>\n      <td>0.047596</td>\n      <td>13</td>\n      <td>2.2</td>\n      <td>0.1466</td>\n      <td>0.2098</td>\n      <td>0.1154</td>\n      <td>0.1974</td>\n      <td>put</td>\n    </tr>\n    <tr>\n      <th>16</th>\n      <td>2015-03-10</td>\n      <td>2.359</td>\n      <td>2015-03-10</td>\n      <td>0.047313</td>\n      <td>12</td>\n      <td>2.2</td>\n      <td>0.1966</td>\n      <td>0.1966</td>\n      <td>0.1668</td>\n      <td>0.1688</td>\n      <td>put</td>\n    </tr>\n    <tr>\n      <th>17</th>\n      <td>2015-03-11</td>\n      <td>2.374</td>\n      <td>2015-03-11</td>\n      <td>0.047009</td>\n      <td>11</td>\n      <td>2.2</td>\n      <td>0.1746</td>\n      <td>0.2105</td>\n      <td>0.1697</td>\n      <td>0.1774</td>\n      <td>put</td>\n    </tr>\n    <tr>\n      <th>18</th>\n      <td>2015-03-12</td>\n      <td>2.448</td>\n      <td>2015-03-12</td>\n      <td>0.047020</td>\n      <td>10</td>\n      <td>2.2</td>\n      <td>0.1870</td>\n      <td>0.2696</td>\n      <td>0.1870</td>\n      <td>0.2525</td>\n      <td>put</td>\n    </tr>\n    <tr>\n      <th>19</th>\n      <td>2015-03-13</td>\n      <td>2.455</td>\n      <td>2015-03-13</td>\n      <td>0.046982</td>\n      <td>9</td>\n      <td>2.2</td>\n      <td>0.2559</td>\n      <td>0.2949</td>\n      <td>0.2432</td>\n      <td>0.2570</td>\n      <td>put</td>\n    </tr>\n    <tr>\n      <th>20</th>\n      <td>2015-03-16</td>\n      <td>2.510</td>\n      <td>2015-03-16</td>\n      <td>0.047459</td>\n      <td>8</td>\n      <td>2.2</td>\n      <td>0.2685</td>\n      <td>0.3099</td>\n      <td>0.2549</td>\n      <td>0.3075</td>\n      <td>put</td>\n    </tr>\n    <tr>\n      <th>21</th>\n      <td>2015-03-17</td>\n      <td>2.543</td>\n      <td>2015-03-17</td>\n      <td>0.047672</td>\n      <td>7</td>\n      <td>2.2</td>\n      <td>0.3264</td>\n      <td>0.3417</td>\n      <td>0.3172</td>\n      <td>0.3385</td>\n      <td>put</td>\n    </tr>\n    <tr>\n      <th>22</th>\n      <td>2015-03-18</td>\n      <td>2.611</td>\n      <td>2015-03-18</td>\n      <td>0.047207</td>\n      <td>6</td>\n      <td>2.2</td>\n      <td>0.3467</td>\n      <td>0.4044</td>\n      <td>0.3467</td>\n      <td>0.4044</td>\n      <td>put</td>\n    </tr>\n    <tr>\n      <th>23</th>\n      <td>2015-03-19</td>\n      <td>2.587</td>\n      <td>2015-03-19</td>\n      <td>0.047304</td>\n      <td>5</td>\n      <td>2.2</td>\n      <td>0.3983</td>\n      <td>0.4050</td>\n      <td>0.3762</td>\n      <td>0.3902</td>\n      <td>put</td>\n    </tr>\n    <tr>\n      <th>24</th>\n      <td>2015-03-20</td>\n      <td>2.635</td>\n      <td>2015-03-20</td>\n      <td>0.046605</td>\n      <td>4</td>\n      <td>2.2</td>\n      <td>0.4053</td>\n      <td>0.4679</td>\n      <td>0.3811</td>\n      <td>0.4290</td>\n      <td>put</td>\n    </tr>\n    <tr>\n      <th>25</th>\n      <td>2015-03-23</td>\n      <td>2.676</td>\n      <td>2015-03-23</td>\n      <td>0.046715</td>\n      <td>3</td>\n      <td>2.2</td>\n      <td>0.4450</td>\n      <td>0.4798</td>\n      <td>0.4450</td>\n      <td>0.4742</td>\n      <td>put</td>\n    </tr>\n    <tr>\n      <th>26</th>\n      <td>2015-03-24</td>\n      <td>2.638</td>\n      <td>2015-03-24</td>\n      <td>0.046692</td>\n      <td>2</td>\n      <td>2.2</td>\n      <td>0.4861</td>\n      <td>0.4861</td>\n      <td>0.4133</td>\n      <td>0.4415</td>\n      <td>put</td>\n    </tr>\n    <tr>\n      <th>27</th>\n      <td>2015-03-25</td>\n      <td>2.604</td>\n      <td>2015-03-25</td>\n      <td>0.046926</td>\n      <td>1</td>\n      <td>2.2</td>\n      <td>0.4380</td>\n      <td>0.4380</td>\n      <td>0.3884</td>\n      <td>0.4007</td>\n      <td>put</td>\n    </tr>\n  </tbody>\n</table>\n</div>"
     },
     "execution_count": 20,
     "metadata": {},
     "output_type": "execute_result"
    }
   ],
   "source": [
    "merged_option2 = pd.merge(etf50, merged_option1, left_on = 'Date', right_on = 'date', how = 'inner')\n",
    "merged_option2"
   ],
   "metadata": {
    "collapsed": false,
    "pycharm": {
     "name": "#%%\n"
    }
   }
  },
  {
   "cell_type": "code",
   "execution_count": 23,
   "outputs": [
    {
     "data": {
      "text/plain": "Index(['Date', 'close_x', 'date', 'Value', 'ptmtradeday', 'exe_price', 'open',\n       'high', 'low', 'close_y', 'call_or_put'],\n      dtype='object')"
     },
     "execution_count": 23,
     "metadata": {},
     "output_type": "execute_result"
    }
   ],
   "source": [
    "merged_option2.columns"
   ],
   "metadata": {
    "collapsed": false,
    "pycharm": {
     "name": "#%%\n"
    }
   }
  },
  {
   "cell_type": "code",
   "execution_count": null,
   "outputs": [],
   "source": [
    "merged_option2 = merged_option2[['call_or_put','date','ptmtradeday','exe_price','Value', 'open', 'high','low','close_y','close_x']]\n",
    "merged_option2.columns = ['call_or_put', 'date','ptmtradeday','k', 'rate', 'open', 'high','low','close','s']\n",
    "# print(merged_option2.s)\n",
    "# merged_option2['iv'] = merged_option2.apply(lambda row : iv_bs_bisection(row['s'], row['k'], row['rate'], row['ptmtradeday'], row['close'], row['call_or_put'], iv_uplimit = 1.0, iv_downlimit = 0.0001, precision = 6, year_rate = 365),  axis=1)\n",
    "merged_option2['iv'] = pd.Series\n",
    "for i in range(merged_option2.shape[1]):\n",
    "    merged_option2['iv'][i] = iv_bs_bisection(np.array(merged_option2['s'][i]), np.array(merged_option2['k'][i]), np.array(merged_option2['rate'][i]), np.array(merged_option2['ptmtradeday'][i]), np.array(merged_option2['close'][i]), np.array(merged_option2['call_or_put'][i]), iv_uplimit = 1.0, iv_downlimit = 0.0001, precision = 6, year_rate = 365, max_iterations= 120)\n",
    "    # merged_option2['iv'][i] = find_vol_newton(merged_option2['s'][i],merged_option2['k'][i], merged_option2['rate'][i], merged_option2['ptmtradeday'][i], merged_option2['close'][i], merged_option2['call_or_put'][i],start_sigma = 0.1, precision = 3, year_rate = 365.0, max_iterations = 100)\n",
    "    print(merged_option2['s'][i],merged_option2['k'][i], merged_option2['rate'][i])\n",
    "    print(merged_option2['iv'][i])\n",
    "    # break\n",
    "merged_option2.to_csv(output_path)\n"
   ],
   "metadata": {
    "collapsed": false,
    "pycharm": {
     "name": "#%%\n"
    }
   }
  }
 ],
 "metadata": {
  "kernelspec": {
   "display_name": "Python 3.9.12 ('base')",
   "language": "python",
   "name": "python3"
  },
  "language_info": {
   "codemirror_mode": {
    "name": "ipython",
    "version": 3
   },
   "file_extension": ".py",
   "mimetype": "text/x-python",
   "name": "python",
   "nbconvert_exporter": "python",
   "pygments_lexer": "ipython3",
   "version": "3.9.12"
  },
  "orig_nbformat": 4,
  "vscode": {
   "interpreter": {
    "hash": "49cb93f377a7abe7414b7b0f21fb3017538004a126cf690fb524202736b7fb92"
   }
  }
 },
 "nbformat": 4,
 "nbformat_minor": 2
}