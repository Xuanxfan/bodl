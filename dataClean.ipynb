{
 "cells": [
  {
   "cell_type": "code",
   "execution_count": null,
   "metadata": {
    "collapsed": true
   },
   "outputs": [],
   "source": [
    "import pandas as pd\n",
    "import os\n",
    "import numpy as np\n",
    "from scipy.stats import norm"
   ]
  },
  {
   "cell_type": "code",
   "execution_count": null,
   "outputs": [],
   "source": [
    "def bs_price(S, K, sigma, r, T, year_rate = 252, option_type = \"call\"):\n",
    "     '''\n",
    "     bs 期权定价 输出为期权价格\n",
    "\n",
    "     :param S: 标定价格\n",
    "     :param K: 行权价\n",
    "     :param sigma: 波动率\n",
    "     :param r: 无风险利率\n",
    "     :param T: 年化剩余期限\n",
    "     :param year_rate: 年化系数\n",
    "     :param option_type: \"call\"\n",
    "     :return:\n",
    "     ''''''\n",
    "     '''\n",
    "\n",
    "     T = T/year_rate\n",
    "     d1 = (np.log(S/K) + (r + pow(sigma,2)/2)*T) / (sigma*np.sqrt(T))\n",
    "     d2 = d1 - sigma*np.sqrt(T)\n",
    "     if option_type == 'call':\n",
    "            # return S*norm.cdf(d1) - K*np.exp(-r*T)*norm.cdf(d2)\n",
    "              return np.maximum(S - K, 0) if T==0 else S*norm.cdf(d1) - K*np.exp(-r*T)*norm.cdf(d2)\n",
    "     elif option_type == 'put':\n",
    "              # return K*np.exp(-r*T)*norm.cdf(-d2) - S*norm.cdf(-d1)\n",
    "              return np.maximum(K-S,0) if T==0 else K*np.exp(-r*T)*norm.cdf(-1*d2) - S*norm.cdf(-1*d1)\n",
    "     else:\n",
    "              print(\"期权类型错误\")\n",
    "              return -1\n"
   ],
   "metadata": {
    "collapsed": false,
    "pycharm": {
     "name": "#%%\n"
    }
   }
  },
  {
   "cell_type": "code",
   "execution_count": null,
   "outputs": [],
   "source": [
    "def bs_vega(S,K,sigma,r,T ,year_rate = 252):\n",
    "          '''\n",
    "          计算vega\n",
    "          '''\n",
    "          T = T/year_rate\n",
    "          d1 = (np.log(S/K) + (r + pow(sigma,2)/2)*T) / (sigma*np.sqrt(np.abs(T)) )\n",
    "          return S*norm.pdf(d1)*np.sqrt(np.abs(T))\n",
    "          # return S * np.sqrt(abs(T)) * np.exp(-pow(d1,2)/2) / np.sqrt(2*np.pi)"
   ],
   "metadata": {
    "collapsed": false,
    "pycharm": {
     "name": "#%%\n"
    }
   }
  },
  {
   "cell_type": "code",
   "execution_count": null,
   "outputs": [],
   "source": [
    "def iv_bs_bisection(S, K, r, T, price, option_type, iv_uplimit = 1.0, iv_downlimit = 0.000001, precision = 1, year_rate = 252, max_iterations = 200):\n",
    "          '''二分法求iv'''\n",
    "          left_iv, right_iv = iv_downlimit, iv_uplimit\n",
    "          # left_price = BS_price(S,K,left_iv, r, T,     year_rate = year_rate, option_type = option_type)\n",
    "          # right_price= BS_price(S,K,right_iv, r, T,     year_rate = year_rate, option_type = option_type)\n",
    "          mid_iv = (left_iv + right_iv)/2\n",
    "          mid_price = bs_price(S,K,mid_iv, r, T,     year_rate = year_rate, option_type = option_type)\n",
    "          # print(f\"first, the mid price is {mid_price}, the price is {price}\")\n",
    "          cnt = 0\n",
    "          while abs(price - mid_price) >= 0.1**precision and cnt < max_iterations:\n",
    "                    if mid_price < price :\n",
    "                              left_iv = mid_iv\n",
    "                    else:\n",
    "                              right_iv = mid_iv\n",
    "                    mid_iv = (left_iv + right_iv)/2\n",
    "                    # if mid_iv <= iv_uplimit or mid_iv >= iv_downlimit:\n",
    "                    #           break\n",
    "                    # print(f\"cnt = {cnt}, the left is{left_iv}, the right is{right_iv}, the"
   ],
   "metadata": {
    "collapsed": false,
    "pycharm": {
     "name": "#%%\n"
    }
   }
  },
  {
   "cell_type": "code",
   "execution_count": null,
   "outputs": [],
   "source": [
    "def find_vol_newton( S, K, r, T, target_value, option_type, start_sigma = 0.5, precision = 3, year_rate = 252, max_iterations = 200):\n",
    "          # 迭代法求iv\n",
    "          sigma = start_sigma\n",
    "          for i in range(0, max_iterations):\n",
    "                    bs_price_ = bs_price(S,K,sigma,r,T, year_rate = year_rate, option_type = option_type)\n",
    "                    vega = bs_vega(S, K, T, r, sigma, year_rate = year_rate)*100\n",
    "                    diff = target_value - bs_price_     # our root\n",
    "                    if (abs(diff) < 0.1**precision):\n",
    "                              return sigma\n",
    "                    sigma = sigma + diff/(vega) # f(x) / f'(x)\n",
    "          return sigma # value wasn't found, return best guess so far"
   ],
   "metadata": {
    "collapsed": false,
    "pycharm": {
     "name": "#%%\n"
    }
   }
  }
 ],
 "metadata": {
  "kernelspec": {
   "display_name": "Python 3",
   "language": "python",
   "name": "python3"
  },
  "language_info": {
   "codemirror_mode": {
    "name": "ipython",
    "version": 2
   },
   "file_extension": ".py",
   "mimetype": "text/x-python",
   "name": "python",
   "nbconvert_exporter": "python",
   "pygments_lexer": "ipython2",
   "version": "2.7.6"
  }
 },
 "nbformat": 4,
 "nbformat_minor": 0
}