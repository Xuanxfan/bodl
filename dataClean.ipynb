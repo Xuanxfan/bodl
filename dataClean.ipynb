{
 "cells": [
  {
   "cell_type": "code",
   "execution_count": null,
   "outputs": [],
   "source": [
    "import pandas as pd\n",
    "import os\n",
    "import numpy as np\n",
    "from matplotlib import pyplot as plt\n",
    "from scipy.stats import norm"
   ],
   "metadata": {
    "collapsed": false,
    "pycharm": {
     "name": "#%%\n"
    }
   }
  },
  {
   "cell_type": "code",
   "execution_count": null,
   "outputs": [],
   "source": [
    "#拼训练数据\n",
    "csv_folder = r'.\\data\\out'\n",
    "output_folder = r'.\\data'\n",
    "csv_list = os.listdir(csv_folder)\n",
    "output_path = output_folder + \"\\\\\" + 'final_data.csv'\n",
    "\n",
    "call_X = []\n",
    "call_Y = []\n",
    "put_X = []\n",
    "put_Y = []\n",
    "# 加一个混合\n",
    "# 做一个对比\n",
    "\n",
    "for csv_name in csv_list:\n",
    "    if int(csv_name.split('.')[0]) % 100 == 0:\n",
    "        print(csv_name)\n",
    "    perdata = []\n",
    "    '''numbers -= 1\n",
    "    if numbers == 0:\n",
    "        break'''\n",
    "    csv_path = csv_folder +\"\\\\\"+csv_name\n",
    "    data = pd.read_csv(csv_path, encoding = 'GBK', index_col= False)\n",
    "    if len(data) < 11:\n",
    "        continue\n",
    "\n",
    "    datatype = data['call_or_put'][0]\n",
    "    ll = 0\n",
    "\n",
    "    for i in range(len(data)-1):\n",
    "        onedata = list(data.iloc[i,3:])\n",
    "        perdata.append(onedata)\n",
    "        ll += 1\n",
    "        if ll == 10:\n",
    "            if datatype == 'call':\n",
    "                call_X.append(perdata)\n",
    "                call_Y.append(data['iv'][i+1])\n",
    "            else:\n",
    "                put_X.append(perdata)\n",
    "                put_Y.append(data['iv'][i+1])\n",
    "            ll -= 1\n",
    "            perdata = perdata[1:]\n"
   ],
   "metadata": {
    "collapsed": false,
    "pycharm": {
     "name": "#%%\n"
    }
   }
  },
  {
   "cell_type": "code",
   "execution_count": null,
   "outputs": [],
   "source": [
    "call_X = np.array(call_X)\n",
    "call_Y = np.array(call_Y)\n",
    "\n",
    "put_X = np.array(put_X)\n",
    "put_Y = np.array(put_Y)\n",
    "\n",
    "# 数据处理\n",
    "for i in range(len(call_X)):\n",
    "    if call_Y[i] <= 0:\n",
    "        call_Y[i] = -call_Y[i]\n",
    "        print(i, call_Y[i])\n",
    "    for j in range(10):\n",
    "        for k in range(1, 9):\n",
    "            if call_X[i][j][k] <= 0:\n",
    "                call_X[i][j][k] = -call_X[i][j][k]\n",
    "                print(i,j,k,call_X[i][j][k])\n",
    "\n",
    "for i in range(len(put_X)):\n",
    "    if put_Y[i] <= 0:\n",
    "        put_Y[i] = -put_Y[i]\n",
    "        print(i, put_Y[i])\n",
    "    for j in range(10):\n",
    "        for k in range(1, 9):\n",
    "            if put_X[i][j][k] <= 0:\n",
    "                put_X[i][j][k] = -put_X[i][j][k]\n",
    "                print(i,j,k,put_X[i][j][k])\n",
    "# 正则化\n"
   ],
   "metadata": {
    "collapsed": false,
    "pycharm": {
     "name": "#%%\n"
    }
   }
  },
  {
   "cell_type": "code",
   "execution_count": null,
   "outputs": [],
   "source": [
    "from sklearn.model_selection import train_test_split\n",
    "\n",
    "call_train_X, call_val_X, call_train_Y, call_val_Y = train_test_split(call_X,\n",
    "                                                                      call_Y,\n",
    "                                                                      test_size=0.2,\n",
    "                                                                      random_state=19011)\n",
    "\n",
    "put_train_X, put_val_X, put_train_Y, put_val_Y = train_test_split(put_X,\n",
    "                                                                  put_Y,\n",
    "                                                                  test_size=0.2,\n",
    "                                                                  random_state=19011)"
   ],
   "metadata": {
    "collapsed": false,
    "pycharm": {
     "name": "#%%\n"
    }
   }
  },
  {
   "cell_type": "code",
   "execution_count": 1,
   "outputs": [
    {
     "name": "stderr",
     "output_type": "stream",
     "text": [
      "Using TensorFlow backend.\n"
     ]
    },
    {
     "name": "stdout",
     "output_type": "stream",
     "text": [
      "_________________________________________________________________\n",
      "Layer (type)                 Output Shape              Param #   \n",
      "=================================================================\n",
      "conv1d_1 (Conv1D)            (None, 9, 32)             608       \n",
      "_________________________________________________________________\n",
      "conv1d_2 (Conv1D)            (None, 8, 64)             4160      \n",
      "_________________________________________________________________\n",
      "conv1d_3 (Conv1D)            (None, 7, 128)            16512     \n",
      "_________________________________________________________________\n",
      "conv1d_4 (Conv1D)            (None, 6, 256)            65792     \n",
      "_________________________________________________________________\n",
      "flatten_1 (Flatten)          (None, 1536)              0         \n",
      "_________________________________________________________________\n",
      "dense_1 (Dense)              (None, 1)                 1537      \n",
      "=================================================================\n",
      "Total params: 88,609\n",
      "Trainable params: 88,609\n",
      "Non-trainable params: 0\n",
      "_________________________________________________________________\n"
     ]
    },
    {
     "ename": "NameError",
     "evalue": "name 'call_train_X' is not defined",
     "output_type": "error",
     "traceback": [
      "\u001B[1;31m---------------------------------------------------------------------------\u001B[0m",
      "\u001B[1;31mNameError\u001B[0m                                 Traceback (most recent call last)",
      "\u001B[1;32m<ipython-input-1-fd327da8cbcb>\u001B[0m in \u001B[0;36m<module>\u001B[1;34m()\u001B[0m\n\u001B[0;32m     23\u001B[0m \u001B[1;31m# fit network\u001B[0m\u001B[1;33m\u001B[0m\u001B[1;33m\u001B[0m\u001B[0m\n\u001B[0;32m     24\u001B[0m \u001B[0mcov_model\u001B[0m \u001B[1;33m=\u001B[0m \u001B[0mCov_model\u001B[0m\u001B[1;33m(\u001B[0m\u001B[1;33m)\u001B[0m\u001B[1;33m\u001B[0m\u001B[0m\n\u001B[1;32m---> 25\u001B[1;33m history = cov_model.fit(call_train_X, call_train_Y,\n\u001B[0m\u001B[0;32m     26\u001B[0m                     \u001B[0mepochs\u001B[0m\u001B[1;33m=\u001B[0m\u001B[1;36m50\u001B[0m\u001B[1;33m,\u001B[0m \u001B[0mbatch_size\u001B[0m\u001B[1;33m=\u001B[0m\u001B[1;36m1\u001B[0m\u001B[1;33m,\u001B[0m\u001B[1;33m\u001B[0m\u001B[0m\n\u001B[0;32m     27\u001B[0m                     \u001B[0mvalidation_data\u001B[0m\u001B[1;33m=\u001B[0m\u001B[1;33m(\u001B[0m\u001B[0mcall_val_X\u001B[0m\u001B[1;33m,\u001B[0m \u001B[0mcall_val_Y\u001B[0m\u001B[1;33m)\u001B[0m\u001B[1;33m,\u001B[0m\u001B[1;33m\u001B[0m\u001B[0m\n",
      "\u001B[1;31mNameError\u001B[0m: name 'call_train_X' is not defined"
     ]
    }
   ],
   "source": [
    "from keras.models import Sequential\n",
    "from keras.layers import Dense, Conv1D , Flatten\n",
    "from keras.optimizers import Adam\n",
    "import tensorflow as tf\n",
    "\n",
    "def Cov_model():\n",
    "    model = Sequential()\n",
    "    model.add(Conv1D(32, 2, padding='valid', input_shape=(10, 9), activation=\"selu\"))\n",
    "    model.add(Conv1D(64, 2, padding='valid', activation=\"selu\"))\n",
    "    model.add(Conv1D(128, 2, padding='valid', activation=\"selu\"))\n",
    "    model.add(Conv1D(256, 2, padding='valid', activation=\"selu\"))\n",
    "    #model.add(Dropout(0.25))\n",
    "    model.add(Flatten())\n",
    "    model.add(Dense(1))\n",
    "    model.compile(loss='mae', optimizer='adam')\n",
    "    opt = Adam(lr=0.001, clipnorm=1)\n",
    "    model.compile(optimizer=opt, loss=tf.keras.losses.mean_squared_error,\n",
    "                  metrics=['mae'])\n",
    "    model.summary()\n",
    "    return model\n",
    "\n",
    "# fit network\n",
    "cov_model = Cov_model()\n",
    "history = cov_model.fit(call_train_X, call_train_Y,\n",
    "                    epochs=50, batch_size=1,\n",
    "                    validation_data=(call_val_X, call_val_Y),\n",
    "                    verbose=1,\n",
    "                    shuffle=False)"
   ],
   "metadata": {
    "collapsed": false,
    "pycharm": {
     "name": "#%%\n"
    }
   }
  },
  {
   "cell_type": "code",
   "execution_count": null,
   "outputs": [],
   "source": [
    "import cv2\n",
    "import numpy as np\n",
    "\n",
    "\n",
    "# 固定尺寸\n",
    "def resizeImg(image, height=900):\n",
    "    h, w = image.shape[:2]\n",
    "    pro = height / h\n",
    "    size = (int(w * pro), int(height))\n",
    "    img = cv2.resize(image, size)\n",
    "    return img\n",
    "\n",
    "\n",
    "# 边缘检测\n",
    "def getCanny(image):\n",
    "    # 高斯模糊\n",
    "    binary = cv2.GaussianBlur(image, (3, 3), 2, 2)\n",
    "    # 边缘检测\n",
    "    binary = cv2.Canny(binary, 60, 240, apertureSize=3)\n",
    "    # 膨胀操作，尽量使边缘闭合\n",
    "    kernel = np.ones((3, 3), np.uint8)\n",
    "    binary = cv2.dilate(binary, kernel, iterations=1)\n",
    "    return binary\n",
    "\n",
    "\n",
    "# 求出面积最大的轮廓\n",
    "def findMaxContour(image):\n",
    "    # 寻找边缘\n",
    "    _, contours, _ = cv2.findContours(image, cv2.RETR_EXTERNAL, cv2.CHAIN_APPROX_NONE)\n",
    "    # 计算面积\n",
    "    max_area = 0.0\n",
    "    max_contour = []\n",
    "    for contour in contours:\n",
    "        currentArea = cv2.contourArea(contour)\n",
    "        if currentArea > max_area:\n",
    "            max_area = currentArea\n",
    "            max_contour = contour\n",
    "    return max_contour, max_area\n",
    "\n",
    "\n",
    "# 多边形拟合凸包的四个顶点\n",
    "def getBoxPoint(contour):\n",
    "    # 多边形拟合凸包\n",
    "    hull = cv2.convexHull(contour)\n",
    "    epsilon = 0.02 * cv2.arcLength(contour, True)\n",
    "    approx = cv2.approxPolyDP(hull, epsilon, True)\n",
    "    approx = approx.reshape((len(approx), 2))\n",
    "    return approx\n",
    "\n",
    "\n",
    "# 适配原四边形点集\n",
    "def adaPoint(box, pro):\n",
    "    box_pro = box\n",
    "    if pro != 1.0:\n",
    "        box_pro = box/pro\n",
    "    box_pro = np.trunc(box_pro)\n",
    "    return box_pro\n",
    "\n",
    "\n",
    "# 四边形顶点排序，[top-left, top-right, bottom-right, bottom-left]\n",
    "def orderPoints(pts):\n",
    "    rect = np.zeros((4, 2), dtype=\"float32\")\n",
    "    s = pts.sum(axis=1)\n",
    "    rect[0] = pts[np.argmin(s)]\n",
    "    rect[2] = pts[np.argmax(s)]\n",
    "    diff = np.diff(pts, axis=1)\n",
    "    rect[1] = pts[np.argmin(diff)]\n",
    "    rect[3] = pts[np.argmax(diff)]\n",
    "    return rect\n",
    "\n",
    "\n",
    "# 计算长宽\n",
    "def pointDistance(a, b):\n",
    "    return int(np.sqrt(np.sum(np.square(a - b))))\n",
    "\n",
    "\n",
    "# 透视变换\n",
    "def warpImage(image, box):\n",
    "    w, h = pointDistance(box[0], box[1]), \\\n",
    "           pointDistance(box[1], box[2])\n",
    "    dst_rect = np.array([[0, 0],\n",
    "                         [w - 1, 0],\n",
    "                         [w - 1, h - 1],\n",
    "                         [0, h - 1]], dtype='float32')\n",
    "    M = cv2.getPerspectiveTransform(box, dst_rect)\n",
    "    warped = cv2.warpPerspective(image, M, (w, h))\n",
    "    return warped\n",
    "\n",
    "\n",
    "if __name__ == '__main__':\n",
    "    path = r'C:\\Users\\wzg\\Desktop\\test.jpg'\n",
    "    outpath = r'C:\\Users\\wzg\\Desktop\\result.jpg'\n",
    "    image = cv2.imread(path)\n",
    "    ratio = 900 / image.shape[0]\n",
    "    img = resizeImg(image)\n",
    "    binary_img = getCanny(img)\n",
    "    max_contour, max_area = findMaxContour(binary_img)\n",
    "    boxes = getBoxPoint(max_contour)\n",
    "    boxes = adaPoint(boxes, ratio)\n",
    "    boxes = orderPoints(boxes)\n",
    "    # 透视变化\n",
    "    warped = warpImage(image, boxes)\n",
    "    cv2.imshow('warpImage', warped)\n",
    "    cv2.waitKey(0)"
   ],
   "metadata": {
    "collapsed": false,
    "pycharm": {
     "name": "#%%\n"
    }
   }
  }
 ],
 "metadata": {
  "kernelspec": {
   "display_name": "Python 3",
   "language": "python",
   "name": "python3"
  },
  "language_info": {
   "codemirror_mode": {
    "name": "ipython",
    "version": 2
   },
   "file_extension": ".py",
   "mimetype": "text/x-python",
   "name": "python",
   "nbconvert_exporter": "python",
   "pygments_lexer": "ipython2",
   "version": "2.7.6"
  }
 },
 "nbformat": 4,
 "nbformat_minor": 0
}