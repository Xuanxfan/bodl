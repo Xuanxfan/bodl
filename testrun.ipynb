{
 "cells": [
  {
   "cell_type": "code",
   "execution_count": 2,
   "outputs": [],
   "source": [
    "import pandas as pd\n",
    "import os\n",
    "import numpy as np\n",
    "from matplotlib import pyplot as plt\n",
    "from scipy.stats import norm"
   ],
   "metadata": {
    "collapsed": false,
    "pycharm": {
     "name": "#%%\n"
    }
   }
  },
  {
   "cell_type": "code",
   "execution_count": 9,
   "outputs": [
    {
     "data": {
      "text/plain": "<matplotlib.figure.Figure at 0x173e5002278>",
      "image/png": "[encoded data removed]"
     },
     "metadata": {},
     "output_type": "display_data"
    }
   ],
   "source": [
    "import random\n",
    "llen = 100\n",
    "perdata = []\n",
    "x = [i for i in range(llen)]\n",
    "tmp = 0.5\n",
    "for i in range(llen):\n",
    "    if i == 0:\n",
    "        tmp = tmp\n",
    "    else:\n",
    "        tmp = perdata[i-1] + random.random()/100 - 0.005\n",
    "    perdata.append(tmp)\n",
    "plt.plot(x, perdata, 'ro-', color='#4169E1', alpha=0.8, linewidth=1, label='iv折线图')\n",
    "plt.show()"
   ],
   "metadata": {
    "collapsed": false,
    "pycharm": {
     "name": "#%%\n"
    }
   }
  },
  {
   "cell_type": "code",
   "execution_count": null,
   "outputs": [],
   "source": [
    "# 新的计算方式\n",
    "\n",
    "def implied_volatility(S, K, r, T, C):\n",
    "    # S is the current stock price\n",
    "    # K is the strike price\n",
    "    # T is the time to maturity\n",
    "    # r is the risk-free rate\n",
    "    # C is the option price\n",
    "    # Initialize the implied volatility\n",
    "    implied_vol = 0.2\n",
    "    # Set the tolerance\n",
    "    tol = 0.00001\n",
    "    # Set the maximum number of iterations\n",
    "    max_iter = 100\n",
    "    # Set the initial difference between the option price and the Black-Scholes price\n",
    "    diff = 1.0\n",
    "    # Set the iteration counter\n",
    "    iter = 0\n",
    "    # Start the loop\n",
    "    while (diff > tol) and (iter < max_iter):\n",
    "        # Calculate the Black-Scholes price\n",
    "        d1 = (np.log(S/K) + (r + 0.5*implied_vol**2)*T) / (implied_vol*np.sqrt(T))\n",
    "        d2 = d1 - implied_vol*np.sqrt(T)\n",
    "        bs_price = S*norm.cdf(d1) - K*np.exp(-r*T)*norm.cdf(d2)\n",
    "        # Calculate the difference between the option price and the Black-Scholes price\n",
    "        diff = np.abs(C - bs_price)\n",
    "        # Calculate the implied volatility\n",
    "        implied_vol = implied_vol + 0.1*diff\n",
    "        # Increment the iteration counter\n",
    "        iter = iter + 1\n",
    "    # Return the implied volatility\n",
    "    return implied_vol"
   ],
   "metadata": {
    "collapsed": false,
    "pycharm": {
     "name": "#%%\n"
    }
   }
  },
  {
   "cell_type": "code",
   "execution_count": 4,
   "outputs": [],
   "source": [
    "import scipy.optimize as opt\n",
    "def implied_volatility(S, K, T, r, price):\n",
    "    def f(sigma):\n",
    "        d1 = (np.log(S/K) + (r + 0.5 * sigma ** 2) * T) / (sigma * np.sqrt(T))\n",
    "        d2 = (np.log(S/K) + (r - 0.5 * sigma ** 2) * T) / (sigma * np.sqrt(T))\n",
    "        return (price - S * norm.cdf(d1) - K * np.exp(-r * T) * norm.cdf(d2)) ** 2\n",
    "    opt_result = opt.minimize(f, 0.2, method='Nelder-Mead')\n",
    "    return opt_result.x[0]"
   ],
   "metadata": {
    "collapsed": false,
    "pycharm": {
     "name": "#%%\n"
    }
   }
  },
  {
   "cell_type": "code",
   "execution_count": 5,
   "outputs": [
    {
     "data": {
      "text/plain": "0.2"
     },
     "execution_count": 5,
     "metadata": {},
     "output_type": "execute_result"
    }
   ],
   "source": [
    "implied_volatility(3.32, 3.4, 0.018,73, 0.33)"
   ],
   "metadata": {
    "collapsed": false,
    "pycharm": {
     "name": "#%%\n"
    }
   }
  },
  {
   "cell_type": "code",
   "execution_count": 3,
   "outputs": [],
   "source": [],
   "metadata": {
    "collapsed": false,
    "pycharm": {
     "name": "#%%\n"
    }
   }
  },
  {
   "cell_type": "code",
   "execution_count": 3,
   "outputs": [],
   "source": [],
   "metadata": {
    "collapsed": false,
    "pycharm": {
     "name": "#%%\n"
    }
   }
  },
  {
   "cell_type": "code",
   "execution_count": 3,
   "outputs": [],
   "source": [],
   "metadata": {
    "collapsed": false,
    "pycharm": {
     "name": "#%%\n"
    }
   }
  },
  {
   "cell_type": "code",
   "execution_count": 3,
   "outputs": [],
   "source": [],
   "metadata": {
    "collapsed": false,
    "pycharm": {
     "name": "#%%\n"
    }
   }
  },
  {
   "cell_type": "code",
   "execution_count": 3,
   "outputs": [],
   "source": [],
   "metadata": {
    "collapsed": false,
    "pycharm": {
     "name": "#%%\n"
    }
   }
  },
  {
   "cell_type": "code",
   "execution_count": 3,
   "outputs": [],
   "source": [],
   "metadata": {
    "collapsed": false,
    "pycharm": {
     "name": "#%%\n"
    }
   }
  },
  {
   "cell_type": "code",
   "execution_count": 3,
   "outputs": [],
   "source": [],
   "metadata": {
    "collapsed": false,
    "pycharm": {
     "name": "#%%\n"
    }
   }
  },
  {
   "cell_type": "code",
   "execution_count": 3,
   "outputs": [],
   "source": [],
   "metadata": {
    "collapsed": false,
    "pycharm": {
     "name": "#%%\n"
    }
   }
  },
  {
   "cell_type": "code",
   "execution_count": 3,
   "outputs": [],
   "source": [],
   "metadata": {
    "collapsed": false,
    "pycharm": {
     "name": "#%%\n"
    }
   }
  }
 ],
 "metadata": {
  "kernelspec": {
   "display_name": "Python 3",
   "language": "python",
   "name": "python3"
  },
  "language_info": {
   "codemirror_mode": {
    "name": "ipython",
    "version": 2
   },
   "file_extension": ".py",
   "mimetype": "text/x-python",
   "name": "python",
   "nbconvert_exporter": "python",
   "pygments_lexer": "ipython2",
   "version": "2.7.6"
  }
 },
 "nbformat": 4,
 "nbformat_minor": 0
}